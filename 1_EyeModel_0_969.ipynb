{
 "cells": [
  {
   "cell_type": "code",
   "execution_count": null,
   "metadata": {
    "id": "RJPuE8Hxx44L"
   },
   "outputs": [],
   "source": [
    "import numpy as np\n",
    "import argparse\n",
    "import dlib\n",
    "import cv2\n",
    "import os\n",
    "import matplotlib.pyplot as plt\n",
    "from keras.preprocessing.image import ImageDataGenerator\n",
    "import imutils\n",
    "from imutils import face_utils\n",
    "from tensorflow.keras.layers import Input, Lambda, Dense, Flatten, Conv2D, MaxPooling2D, Dropout\n",
    "from tensorflow.keras.models import Model\n",
    "from tensorflow.keras.models import Sequential\n",
    "from keras.layers import BatchNormalization\n",
    "from tensorflow.keras.optimizers import Adam\n",
    "from keras.preprocessing.image import ImageDataGenerator\n",
    "import tensorflow as tf"
   ]
  },
  {
   "cell_type": "code",
   "execution_count": null,
   "metadata": {
    "colab": {
     "base_uri": "https://localhost:8080/"
    },
    "id": "4Tl9R_EZx1nP",
    "outputId": "db4c6c8a-4183-4810-8924-dd9a35f2bb51"
   },
   "outputs": [
    {
     "name": "stdout",
     "output_type": "stream",
     "text": [
      "Mounted at /content/drive\n"
     ]
    }
   ],
   "source": [
    "from google.colab import drive\n",
    "drive.mount('/content/drive')"
   ]
  },
  {
   "cell_type": "code",
   "execution_count": null,
   "metadata": {
    "colab": {
     "base_uri": "https://localhost:8080/"
    },
    "id": "eXmr0O4jx-iE",
    "outputId": "8933973e-dc3d-4038-bd9d-ae130f24943f"
   },
   "outputs": [
    {
     "name": "stdout",
     "output_type": "stream",
     "text": [
      "Done\n"
     ]
    }
   ],
   "source": [
    "from zipfile import ZipFile\n",
    "file_name = \"/content/drive/MyDrive/dataset_split.zip\"\n",
    "\n",
    "with ZipFile(file_name,'r') as zip:\n",
    "  zip.extractall()\n",
    "  print('Done')"
   ]
  },
  {
   "cell_type": "code",
   "execution_count": null,
   "metadata": {
    "colab": {
     "base_uri": "https://localhost:8080/"
    },
    "id": "CEqAvgr3x_53",
    "outputId": "f7566283-6265-4b7c-87ed-75a5f3a74b2c"
   },
   "outputs": [
    {
     "name": "stdout",
     "output_type": "stream",
     "text": [
      "Done\n"
     ]
    }
   ],
   "source": [
    "from zipfile import ZipFile\n",
    "file_name = \"/content/drive/MyDrive/Shared.zip\"\n",
    "\n",
    "with ZipFile(file_name,'r') as zip:\n",
    "  zip.extractall()\n",
    "  print('Done')"
   ]
  },
  {
   "cell_type": "code",
   "execution_count": null,
   "metadata": {
    "id": "Nr8COvtfyBQw"
   },
   "outputs": [],
   "source": [
    "detector = dlib.get_frontal_face_detector()\n",
    "predictor = dlib.shape_predictor('/content/Shared/shape_predictor_68_face_landmarks.dat')\n"
   ]
  },
  {
   "cell_type": "code",
   "execution_count": null,
   "metadata": {
    "id": "Aj6jSADgydes"
   },
   "outputs": [],
   "source": [
    "def get_data(direc):\n",
    "    X =[]\n",
    "    y = []\n",
    "    IMG_SIZE = 50\n",
    "    categories = os.listdir(direc)\n",
    "    for category in categories:\n",
    "        path_link = os.path.join(direc, category)\n",
    "        for image in os.listdir(path_link):\n",
    "            image_array = cv2.imread(os.path.join(path_link, image),cv2.IMREAD_GRAYSCALE)\n",
    "            image_array = cv2.resize(image_array, (IMG_SIZE, IMG_SIZE))\n",
    "            X.append(image_array)\n",
    "            y.append(int(category))\n",
    "    return X,y\n",
    "\n"
   ]
  },
  {
   "cell_type": "code",
   "execution_count": null,
   "metadata": {
    "id": "BTqTHlEFykZy"
   },
   "outputs": [],
   "source": [
    "X_train,y_train = get_data(\"/content/dataset_split/train\")\n",
    "X_test,y_test = get_data(\"/content/dataset_split/test\")"
   ]
  },
  {
   "cell_type": "code",
   "execution_count": null,
   "metadata": {
    "id": "vI96sYQXyl8Q"
   },
   "outputs": [],
   "source": [
    "X_train = np.array(X_train).reshape(-1,50,50,1)\n",
    "X_test = np.array(X_test).reshape(-1,50,50,1)\n",
    "X_train = X_train.astype('float32') / 255.0\n",
    "X_test = X_test.astype('float32') / 255.0"
   ]
  },
  {
   "cell_type": "code",
   "execution_count": null,
   "metadata": {
    "id": "84BNZMoLynZK"
   },
   "outputs": [],
   "source": [
    "y_train = np.array(y_train).reshape(-1,1)\n",
    "y_test = np.array(y_test).reshape(-1,1)\n",
    "y_train = y_train.flatten()\n",
    "y_test = y_test.flatten()"
   ]
  },
  {
   "cell_type": "code",
   "execution_count": null,
   "metadata": {
    "id": "ioInRxBRyr86"
   },
   "outputs": [],
   "source": [
    "train_dir = \"/content/dataset_split/train\"\n",
    "test_dir = \"/content/dataset_split/test\""
   ]
  },
  {
   "cell_type": "code",
   "execution_count": null,
   "metadata": {
    "id": "9GL2FTwSZTwZ"
   },
   "outputs": [],
   "source": [
    "batch=32"
   ]
  },
  {
   "cell_type": "code",
   "execution_count": null,
   "metadata": {
    "colab": {
     "base_uri": "https://localhost:8080/"
    },
    "id": "-v3uUBMOUJKu",
    "outputId": "374c7ec3-0c78-4765-90bc-c107d2920581"
   },
   "outputs": [
    {
     "name": "stderr",
     "output_type": "stream",
     "text": [
      "/usr/local/lib/python3.8/dist-packages/keras/optimizers/optimizer_v2/adam.py:110: UserWarning: The `lr` argument is deprecated, use `learning_rate` instead.\n",
      "  super(Adam, self).__init__(name, **kwargs)\n"
     ]
    }
   ],
   "source": [
    "learning_rate = 0.0001\n",
    "adam = Adam(lr=learning_rate)"
   ]
  },
  {
   "cell_type": "code",
   "execution_count": null,
   "metadata": {
    "id": "3aNotr95Jb08"
   },
   "outputs": [],
   "source": [
    "from tensorflow.keras.callbacks import EarlyStopping, ReduceLROnPlateau, ModelCheckpoint\n",
    "callbacks = [\n",
    "    EarlyStopping(monitor = 'val_loss',\n",
    "                          min_delta = 0, #minimium amount of change to count as an improvement\n",
    "                          patience = 10, # how many epochs to wait before stopping\n",
    "                          verbose = 1,\n",
    "                          restore_best_weights = True),\n",
    "    ReduceLROnPlateau(factor=0.9, patience=10, min_lr=0.0001),\n",
    "    ModelCheckpoint('NewEyeModel.h5', verbose=1, save_best_only=True)#, save_weights_only=True\n",
    "]"
   ]
  },
  {
   "cell_type": "code",
   "execution_count": null,
   "metadata": {
    "colab": {
     "base_uri": "https://localhost:8080/"
    },
    "id": "MKpbVqfU7rDu",
    "outputId": "87cbe8b3-884c-4661-be3d-1dbe284415d0"
   },
   "outputs": [
    {
     "name": "stdout",
     "output_type": "stream",
     "text": [
      "Model: \"sequential\"\n",
      "_________________________________________________________________\n",
      " Layer (type)                Output Shape              Param #   \n",
      "=================================================================\n",
      " conv2d (Conv2D)             (None, 48, 48, 32)        320       \n",
      "                                                                 \n",
      " max_pooling2d (MaxPooling2D  (None, 24, 24, 32)       0         \n",
      " )                                                               \n",
      "                                                                 \n",
      " batch_normalization (BatchN  (None, 24, 24, 32)       128       \n",
      " ormalization)                                                   \n",
      "                                                                 \n",
      " dropout (Dropout)           (None, 24, 24, 32)        0         \n",
      "                                                                 \n",
      " conv2d_1 (Conv2D)           (None, 22, 22, 64)        18496     \n",
      "                                                                 \n",
      " max_pooling2d_1 (MaxPooling  (None, 11, 11, 64)       0         \n",
      " 2D)                                                             \n",
      "                                                                 \n",
      " batch_normalization_1 (Batc  (None, 11, 11, 64)       256       \n",
      " hNormalization)                                                 \n",
      "                                                                 \n",
      " dropout_1 (Dropout)         (None, 11, 11, 64)        0         \n",
      "                                                                 \n",
      " conv2d_2 (Conv2D)           (None, 9, 9, 128)         73856     \n",
      "                                                                 \n",
      " max_pooling2d_2 (MaxPooling  (None, 4, 4, 128)        0         \n",
      " 2D)                                                             \n",
      "                                                                 \n",
      " batch_normalization_2 (Batc  (None, 4, 4, 128)        512       \n",
      " hNormalization)                                                 \n",
      "                                                                 \n",
      " dropout_2 (Dropout)         (None, 4, 4, 128)         0         \n",
      "                                                                 \n",
      " flatten (Flatten)           (None, 2048)              0         \n",
      "                                                                 \n",
      " dense (Dense)               (None, 1024)              2098176   \n",
      "                                                                 \n",
      " dropout_3 (Dropout)         (None, 1024)              0         \n",
      "                                                                 \n",
      " dense_1 (Dense)             (None, 1)                 1025      \n",
      "                                                                 \n",
      "=================================================================\n",
      "Total params: 2,192,769\n",
      "Trainable params: 2,192,321\n",
      "Non-trainable params: 448\n",
      "_________________________________________________________________\n"
     ]
    }
   ],
   "source": [
    "model2 = Sequential()\n",
    "\n",
    "model2.add(Conv2D(32, (3, 3), activation=\"relu\", input_shape=X_test.shape[1:]))\n",
    "model2.add(MaxPooling2D(2, 2))\n",
    "model2.add(BatchNormalization())\n",
    "model2.add(Dropout(0.4))\n",
    "\n",
    "model2.add(Conv2D(64, (3, 3), activation=\"relu\"))\n",
    "model2.add(MaxPooling2D(2, 2))\n",
    "model2.add(BatchNormalization())\n",
    "model2.add(Dropout(0.4))\n",
    "\n",
    "model2.add(Conv2D(128, (3, 3), activation=\"relu\"))\n",
    "model2.add(MaxPooling2D(2, 2))\n",
    "model2.add(BatchNormalization())\n",
    "model2.add(Dropout(0.4))\n",
    "\n",
    "model2.add(Flatten())\n",
    "model2.add(Dense(1024, activation=\"relu\"))\n",
    "model2.add(Dropout(0.4))\n",
    "model2.add(Dense(1, activation=\"sigmoid\"))\n",
    "\n",
    "model2.compile(loss=\"binary_crossentropy\", metrics=[\"accuracy\"], optimizer=adam)\n",
    "\n",
    "model2.summary()"
   ]
  },
  {
   "cell_type": "code",
   "execution_count": null,
   "metadata": {
    "colab": {
     "base_uri": "https://localhost:8080/"
    },
    "id": "s1tVqR65jgdr",
    "outputId": "8c6a2a3a-79f0-4e96-ceff-8b0eb19724ce"
   },
   "outputs": [
    {
     "name": "stdout",
     "output_type": "stream",
     "text": [
      "Epoch 1/100\n",
      "1532/1532 [==============================] - ETA: 0s - loss: 0.2355 - accuracy: 0.9127\n",
      "Epoch 1: val_loss improved from inf to 0.26910, saving model to NewEyeModel.h5\n",
      "1532/1532 [==============================] - 19s 7ms/step - loss: 0.2355 - accuracy: 0.9127 - val_loss: 0.2691 - val_accuracy: 0.8894 - lr: 1.0000e-04\n",
      "Epoch 2/100\n",
      "1528/1532 [============================>.] - ETA: 0s - loss: 0.1521 - accuracy: 0.9463\n",
      "Epoch 2: val_loss improved from 0.26910 to 0.24017, saving model to NewEyeModel.h5\n",
      "1532/1532 [==============================] - 10s 7ms/step - loss: 0.1519 - accuracy: 0.9464 - val_loss: 0.2402 - val_accuracy: 0.9134 - lr: 1.0000e-04\n",
      "Epoch 3/100\n",
      "1525/1532 [============================>.] - ETA: 0s - loss: 0.1123 - accuracy: 0.9610\n",
      "Epoch 3: val_loss did not improve from 0.24017\n",
      "1532/1532 [==============================] - 10s 7ms/step - loss: 0.1123 - accuracy: 0.9610 - val_loss: 0.2822 - val_accuracy: 0.9005 - lr: 1.0000e-04\n",
      "Epoch 4/100\n",
      "1530/1532 [============================>.] - ETA: 0s - loss: 0.0882 - accuracy: 0.9687\n",
      "Epoch 4: val_loss improved from 0.24017 to 0.21149, saving model to NewEyeModel.h5\n",
      "1532/1532 [==============================] - 10s 7ms/step - loss: 0.0882 - accuracy: 0.9687 - val_loss: 0.2115 - val_accuracy: 0.9224 - lr: 1.0000e-04\n",
      "Epoch 5/100\n",
      "1530/1532 [============================>.] - ETA: 0s - loss: 0.0730 - accuracy: 0.9740\n",
      "Epoch 5: val_loss improved from 0.21149 to 0.14067, saving model to NewEyeModel.h5\n",
      "1532/1532 [==============================] - 10s 6ms/step - loss: 0.0730 - accuracy: 0.9740 - val_loss: 0.1407 - val_accuracy: 0.9542 - lr: 1.0000e-04\n",
      "Epoch 6/100\n",
      "1530/1532 [============================>.] - ETA: 0s - loss: 0.0642 - accuracy: 0.9768\n",
      "Epoch 6: val_loss improved from 0.14067 to 0.10482, saving model to NewEyeModel.h5\n",
      "1532/1532 [==============================] - 10s 7ms/step - loss: 0.0642 - accuracy: 0.9768 - val_loss: 0.1048 - val_accuracy: 0.9648 - lr: 1.0000e-04\n",
      "Epoch 7/100\n",
      "1531/1532 [============================>.] - ETA: 0s - loss: 0.0563 - accuracy: 0.9797\n",
      "Epoch 7: val_loss improved from 0.10482 to 0.06345, saving model to NewEyeModel.h5\n",
      "1532/1532 [==============================] - 10s 6ms/step - loss: 0.0563 - accuracy: 0.9797 - val_loss: 0.0634 - val_accuracy: 0.9766 - lr: 1.0000e-04\n",
      "Epoch 8/100\n",
      "1532/1532 [==============================] - ETA: 0s - loss: 0.0511 - accuracy: 0.9813\n",
      "Epoch 8: val_loss did not improve from 0.06345\n",
      "1532/1532 [==============================] - 10s 7ms/step - loss: 0.0511 - accuracy: 0.9813 - val_loss: 0.1450 - val_accuracy: 0.9495 - lr: 1.0000e-04\n",
      "Epoch 9/100\n",
      "1525/1532 [============================>.] - ETA: 0s - loss: 0.0462 - accuracy: 0.9833\n",
      "Epoch 9: val_loss did not improve from 0.06345\n",
      "1532/1532 [==============================] - 10s 7ms/step - loss: 0.0462 - accuracy: 0.9833 - val_loss: 0.1261 - val_accuracy: 0.9614 - lr: 1.0000e-04\n",
      "Epoch 10/100\n",
      "1527/1532 [============================>.] - ETA: 0s - loss: 0.0440 - accuracy: 0.9842\n",
      "Epoch 10: val_loss did not improve from 0.06345\n",
      "1532/1532 [==============================] - 10s 6ms/step - loss: 0.0439 - accuracy: 0.9842 - val_loss: 0.1282 - val_accuracy: 0.9556 - lr: 1.0000e-04\n",
      "Epoch 11/100\n",
      "1525/1532 [============================>.] - ETA: 0s - loss: 0.0413 - accuracy: 0.9851\n",
      "Epoch 11: val_loss did not improve from 0.06345\n",
      "1532/1532 [==============================] - 10s 7ms/step - loss: 0.0412 - accuracy: 0.9852 - val_loss: 0.0880 - val_accuracy: 0.9738 - lr: 1.0000e-04\n",
      "Epoch 12/100\n",
      "1528/1532 [============================>.] - ETA: 0s - loss: 0.0380 - accuracy: 0.9862\n",
      "Epoch 12: val_loss improved from 0.06345 to 0.05463, saving model to NewEyeModel.h5\n",
      "1532/1532 [==============================] - 10s 6ms/step - loss: 0.0380 - accuracy: 0.9861 - val_loss: 0.0546 - val_accuracy: 0.9817 - lr: 1.0000e-04\n",
      "Epoch 13/100\n",
      "1529/1532 [============================>.] - ETA: 0s - loss: 0.0369 - accuracy: 0.9866\n",
      "Epoch 13: val_loss improved from 0.05463 to 0.04746, saving model to NewEyeModel.h5\n",
      "1532/1532 [==============================] - 10s 6ms/step - loss: 0.0369 - accuracy: 0.9866 - val_loss: 0.0475 - val_accuracy: 0.9843 - lr: 1.0000e-04\n",
      "Epoch 14/100\n",
      "1527/1532 [============================>.] - ETA: 0s - loss: 0.0349 - accuracy: 0.9871\n",
      "Epoch 14: val_loss did not improve from 0.04746\n",
      "1532/1532 [==============================] - 10s 7ms/step - loss: 0.0349 - accuracy: 0.9871 - val_loss: 0.1578 - val_accuracy: 0.9506 - lr: 1.0000e-04\n",
      "Epoch 15/100\n",
      "1530/1532 [============================>.] - ETA: 0s - loss: 0.0338 - accuracy: 0.9875\n",
      "Epoch 15: val_loss improved from 0.04746 to 0.04100, saving model to NewEyeModel.h5\n",
      "1532/1532 [==============================] - 11s 7ms/step - loss: 0.0339 - accuracy: 0.9875 - val_loss: 0.0410 - val_accuracy: 0.9869 - lr: 1.0000e-04\n",
      "Epoch 16/100\n",
      "1524/1532 [============================>.] - ETA: 0s - loss: 0.0319 - accuracy: 0.9888\n",
      "Epoch 16: val_loss did not improve from 0.04100\n",
      "1532/1532 [==============================] - 10s 6ms/step - loss: 0.0318 - accuracy: 0.9888 - val_loss: 0.0477 - val_accuracy: 0.9844 - lr: 1.0000e-04\n",
      "Epoch 17/100\n",
      "1524/1532 [============================>.] - ETA: 0s - loss: 0.0311 - accuracy: 0.9894\n",
      "Epoch 17: val_loss did not improve from 0.04100\n",
      "1532/1532 [==============================] - 10s 7ms/step - loss: 0.0311 - accuracy: 0.9894 - val_loss: 0.0453 - val_accuracy: 0.9854 - lr: 1.0000e-04\n",
      "Epoch 18/100\n",
      "1525/1532 [============================>.] - ETA: 0s - loss: 0.0297 - accuracy: 0.9891\n",
      "Epoch 18: val_loss improved from 0.04100 to 0.02842, saving model to NewEyeModel.h5\n",
      "1532/1532 [==============================] - 10s 6ms/step - loss: 0.0297 - accuracy: 0.9891 - val_loss: 0.0284 - val_accuracy: 0.9921 - lr: 1.0000e-04\n",
      "Epoch 19/100\n",
      "1524/1532 [============================>.] - ETA: 0s - loss: 0.0283 - accuracy: 0.9903\n",
      "Epoch 19: val_loss did not improve from 0.02842\n",
      "1532/1532 [==============================] - 10s 6ms/step - loss: 0.0283 - accuracy: 0.9903 - val_loss: 0.0424 - val_accuracy: 0.9864 - lr: 1.0000e-04\n",
      "Epoch 20/100\n",
      "1525/1532 [============================>.] - ETA: 0s - loss: 0.0285 - accuracy: 0.9902\n",
      "Epoch 20: val_loss did not improve from 0.02842\n",
      "1532/1532 [==============================] - 10s 7ms/step - loss: 0.0285 - accuracy: 0.9901 - val_loss: 0.0517 - val_accuracy: 0.9822 - lr: 1.0000e-04\n",
      "Epoch 21/100\n",
      "1530/1532 [============================>.] - ETA: 0s - loss: 0.0278 - accuracy: 0.9900\n",
      "Epoch 21: val_loss did not improve from 0.02842\n",
      "1532/1532 [==============================] - 10s 7ms/step - loss: 0.0279 - accuracy: 0.9899 - val_loss: 0.0362 - val_accuracy: 0.9883 - lr: 1.0000e-04\n",
      "Epoch 22/100\n",
      "1526/1532 [============================>.] - ETA: 0s - loss: 0.0259 - accuracy: 0.9901\n",
      "Epoch 22: val_loss did not improve from 0.02842\n",
      "1532/1532 [==============================] - 10s 7ms/step - loss: 0.0259 - accuracy: 0.9901 - val_loss: 0.0319 - val_accuracy: 0.9910 - lr: 1.0000e-04\n",
      "Epoch 23/100\n",
      "1532/1532 [==============================] - ETA: 0s - loss: 0.0255 - accuracy: 0.9906\n",
      "Epoch 23: val_loss did not improve from 0.02842\n",
      "1532/1532 [==============================] - 10s 6ms/step - loss: 0.0255 - accuracy: 0.9906 - val_loss: 0.0447 - val_accuracy: 0.9863 - lr: 1.0000e-04\n",
      "Epoch 24/100\n",
      "1530/1532 [============================>.] - ETA: 0s - loss: 0.0240 - accuracy: 0.9913\n",
      "Epoch 24: val_loss did not improve from 0.02842\n",
      "1532/1532 [==============================] - 10s 6ms/step - loss: 0.0240 - accuracy: 0.9913 - val_loss: 0.0482 - val_accuracy: 0.9850 - lr: 1.0000e-04\n",
      "Epoch 25/100\n",
      "1532/1532 [==============================] - ETA: 0s - loss: 0.0249 - accuracy: 0.9913\n",
      "Epoch 25: val_loss did not improve from 0.02842\n",
      "1532/1532 [==============================] - 10s 6ms/step - loss: 0.0249 - accuracy: 0.9913 - val_loss: 0.0410 - val_accuracy: 0.9869 - lr: 1.0000e-04\n",
      "Epoch 26/100\n",
      "1531/1532 [============================>.] - ETA: 0s - loss: 0.0227 - accuracy: 0.9916\n",
      "Epoch 26: val_loss did not improve from 0.02842\n",
      "1532/1532 [==============================] - 10s 7ms/step - loss: 0.0227 - accuracy: 0.9916 - val_loss: 0.0356 - val_accuracy: 0.9894 - lr: 1.0000e-04\n",
      "Epoch 27/100\n",
      "1526/1532 [============================>.] - ETA: 0s - loss: 0.0226 - accuracy: 0.9919\n",
      "Epoch 27: val_loss did not improve from 0.02842\n",
      "1532/1532 [==============================] - 10s 6ms/step - loss: 0.0227 - accuracy: 0.9919 - val_loss: 0.0366 - val_accuracy: 0.9897 - lr: 1.0000e-04\n",
      "Epoch 28/100\n",
      "1526/1532 [============================>.] - ETA: 0s - loss: 0.0216 - accuracy: 0.9927Restoring model weights from the end of the best epoch: 18.\n",
      "\n",
      "Epoch 28: val_loss did not improve from 0.02842\n",
      "1532/1532 [==============================] - 10s 6ms/step - loss: 0.0217 - accuracy: 0.9927 - val_loss: 0.0640 - val_accuracy: 0.9812 - lr: 1.0000e-04\n",
      "Epoch 28: early stopping\n"
     ]
    }
   ],
   "source": [
    "history2 = model2.fit(X_train,y_train, batch_size=batch, epochs=100, validation_split=0.2,shuffle = True, verbose=1,callbacks=callbacks)\n"
   ]
  },
  {
   "cell_type": "code",
   "execution_count": null,
   "metadata": {
    "colab": {
     "base_uri": "https://localhost:8080/",
     "height": 582
    },
    "id": "J5manMTdJO1k",
    "outputId": "8d8371fd-ae25-4b1b-c812-2ea3f9d10076"
   },
   "outputs": [
    {
     "data": {
      "image/png": "[encoded data removed]",
      "text/plain": [
       "<Figure size 432x288 with 1 Axes>"
      ]
     },
     "metadata": {
      "needs_background": "light"
     },
     "output_type": "display_data"
    },
    {
     "data": {
      "image/png": "[encoded data removed]",
      "text/plain": [
       "<Figure size 432x288 with 1 Axes>"
      ]
     },
     "metadata": {
      "needs_background": "light"
     },
     "output_type": "display_data"
    },
    {
     "name": "stdout",
     "output_type": "stream",
     "text": [
      "Model Evaluation\n",
      "Loss: 0.096\n",
      "Accuracy: 0.969\n",
      "\n"
     ]
    }
   ],
   "source": [
    "accuracy = history2.history['accuracy']\n",
    "val_accuracy = history2.history['val_accuracy']\n",
    "loss = history2.history['loss']\n",
    "val_loss = history2.history['val_loss']\n",
    "epochs = range(len(accuracy))\n",
    "\n",
    "plt.plot(epochs, accuracy, \"b\", label=\"trainning accuracy\")\n",
    "plt.plot(epochs, val_accuracy, \"r\", label=\"validation accuracy\")\n",
    "plt.legend()\n",
    "plt.show()\n",
    "\n",
    "plt.plot(epochs, loss, \"b\", label=\"trainning loss\")\n",
    "plt.plot(epochs, val_loss, \"r\", label=\"validation loss\")\n",
    "plt.legend()\n",
    "plt.show()\n",
    "\n",
    "(loss,acc) = model2.evaluate(X_test,y_test, verbose=0)\n",
    "print('Model Evaluation')\n",
    "print('Loss: %.3f' % loss)\n",
    "print('Accuracy: %.3f' % acc)\n",
    "print()"
   ]
  }
 ],
 "metadata": {
  "accelerator": "GPU",
  "colab": {
   "provenance": []
  },
  "gpuClass": "standard",
  "kernelspec": {
   "display_name": "Python 3 (ipykernel)",
   "language": "python",
   "name": "python3"
  },
  "language_info": {
   "codemirror_mode": {
    "name": "ipython",
    "version": 3
   },
   "file_extension": ".py",
   "mimetype": "text/x-python",
   "name": "python",
   "nbconvert_exporter": "python",
   "pygments_lexer": "ipython3",
   "version": "3.10.0"
  }
 },
 "nbformat": 4,
 "nbformat_minor": 1
}
