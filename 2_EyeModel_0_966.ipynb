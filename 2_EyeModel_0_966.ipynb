{
  "cells": [
    {
      "cell_type": "code",
      "execution_count": null,
      "metadata": {
        "id": "RJPuE8Hxx44L"
      },
      "outputs": [],
      "source": [
        "import numpy as np\n",
        "import argparse\n",
        "import dlib\n",
        "import cv2\n",
        "import os\n",
        "import matplotlib.pyplot as plt\n",
        "from keras.preprocessing.image import ImageDataGenerator\n",
        "import imutils\n",
        "from imutils import face_utils\n",
        "from tensorflow.keras.layers import Input, Lambda, Dense, Flatten, Conv2D, MaxPooling2D, Dropout\n",
        "from tensorflow.keras.models import Model\n",
        "from tensorflow.keras.models import Sequential\n",
        "from keras.layers import BatchNormalization\n",
        "from tensorflow.keras.optimizers import Adam\n",
        "from keras.preprocessing.image import ImageDataGenerator\n",
        "import tensorflow as tf"
      ]
    },
    {
      "cell_type": "code",
      "execution_count": null,
      "metadata": {
        "colab": {
          "base_uri": "https://localhost:8080/"
        },
        "id": "4Tl9R_EZx1nP",
        "outputId": "8e0b8d89-5148-44cf-e204-24a269cda637"
      },
      "outputs": [
        {
          "output_type": "stream",
          "name": "stdout",
          "text": [
            "Mounted at /content/drive\n"
          ]
        }
      ],
      "source": [
        "from google.colab import drive\n",
        "drive.mount('/content/drive')"
      ]
    },
    {
      "cell_type": "code",
      "execution_count": null,
      "metadata": {
        "colab": {
          "base_uri": "https://localhost:8080/"
        },
        "id": "eXmr0O4jx-iE",
        "outputId": "d277af86-b42c-4ee1-ddf0-d06d14bd5cf6"
      },
      "outputs": [
        {
          "output_type": "stream",
          "name": "stdout",
          "text": [
            "Done\n"
          ]
        }
      ],
      "source": [
        "from zipfile import ZipFile\n",
        "file_name = \"/content/drive/MyDrive/dataset_split.zip\"\n",
        "\n",
        "with ZipFile(file_name,'r') as zip:\n",
        "  zip.extractall()\n",
        "  print('Done')"
      ]
    },
    {
      "cell_type": "code",
      "execution_count": null,
      "metadata": {
        "colab": {
          "base_uri": "https://localhost:8080/"
        },
        "id": "CEqAvgr3x_53",
        "outputId": "4b9a054f-3191-4950-a7aa-a9a2ae0791a1"
      },
      "outputs": [
        {
          "output_type": "stream",
          "name": "stdout",
          "text": [
            "Done\n"
          ]
        }
      ],
      "source": [
        "from zipfile import ZipFile\n",
        "file_name = \"/content/drive/MyDrive/Shared.zip\"\n",
        "\n",
        "with ZipFile(file_name,'r') as zip:\n",
        "  zip.extractall()\n",
        "  print('Done')"
      ]
    },
    {
      "cell_type": "code",
      "execution_count": null,
      "metadata": {
        "id": "Nr8COvtfyBQw"
      },
      "outputs": [],
      "source": [
        "detector = dlib.get_frontal_face_detector()\n",
        "predictor = dlib.shape_predictor('/content/Shared/shape_predictor_68_face_landmarks.dat')\n"
      ]
    },
    {
      "cell_type": "code",
      "execution_count": null,
      "metadata": {
        "id": "Aj6jSADgydes"
      },
      "outputs": [],
      "source": [
        "def get_data(direc):\n",
        "    X =[]\n",
        "    y = []\n",
        "    IMG_SIZE = 50\n",
        "    categories = os.listdir(direc)\n",
        "    for category in categories:\n",
        "        path_link = os.path.join(direc, category)\n",
        "        for image in os.listdir(path_link):\n",
        "            image_array = cv2.imread(os.path.join(path_link, image),cv2.IMREAD_GRAYSCALE)\n",
        "            image_array = cv2.resize(image_array, (IMG_SIZE, IMG_SIZE))\n",
        "            X.append(image_array)\n",
        "            y.append(int(category))\n",
        "    return X,y\n",
        "\n"
      ]
    },
    {
      "cell_type": "code",
      "execution_count": null,
      "metadata": {
        "id": "BTqTHlEFykZy"
      },
      "outputs": [],
      "source": [
        "X_train,y_train = get_data(\"/content/dataset_split/train\")\n",
        "X_test,y_test = get_data(\"/content/dataset_split/test\")"
      ]
    },
    {
      "cell_type": "code",
      "execution_count": null,
      "metadata": {
        "id": "vI96sYQXyl8Q"
      },
      "outputs": [],
      "source": [
        "X_train = np.array(X_train).reshape(-1,50,50,1)\n",
        "X_test = np.array(X_test).reshape(-1,50,50,1)\n",
        "X_train = X_train.astype('float32') / 255.0\n",
        "X_test = X_test.astype('float32') / 255.0"
      ]
    },
    {
      "cell_type": "code",
      "execution_count": null,
      "metadata": {
        "id": "84BNZMoLynZK"
      },
      "outputs": [],
      "source": [
        "y_train = np.array(y_train).reshape(-1,1)\n",
        "y_test = np.array(y_test).reshape(-1,1)\n",
        "y_train = y_train.flatten()\n",
        "y_test = y_test.flatten()"
      ]
    },
    {
      "cell_type": "code",
      "execution_count": null,
      "metadata": {
        "id": "ioInRxBRyr86"
      },
      "outputs": [],
      "source": [
        "train_dir = \"/content/dataset_split/train\"\n",
        "test_dir = \"/content/dataset_split/test\""
      ]
    },
    {
      "cell_type": "code",
      "source": [
        "batch=32"
      ],
      "metadata": {
        "id": "9GL2FTwSZTwZ"
      },
      "execution_count": null,
      "outputs": []
    },
    {
      "cell_type": "code",
      "source": [
        "learning_rate = 0.0001\n",
        "adam = Adam(lr=learning_rate)"
      ],
      "metadata": {
        "id": "-v3uUBMOUJKu",
        "colab": {
          "base_uri": "https://localhost:8080/"
        },
        "outputId": "5b18ce20-55c5-4fd2-beb2-b384b6aade6d"
      },
      "execution_count": null,
      "outputs": [
        {
          "output_type": "stream",
          "name": "stderr",
          "text": [
            "/usr/local/lib/python3.8/dist-packages/keras/optimizers/optimizer_v2/adam.py:110: UserWarning: The `lr` argument is deprecated, use `learning_rate` instead.\n",
            "  super(Adam, self).__init__(name, **kwargs)\n"
          ]
        }
      ]
    },
    {
      "cell_type": "code",
      "source": [
        "from tensorflow.keras.callbacks import EarlyStopping, ReduceLROnPlateau, ModelCheckpoint\n",
        "callbacks = [\n",
        "    EarlyStopping(monitor = 'val_loss',\n",
        "                          min_delta = 0, #minimium amount of change to count as an improvement\n",
        "                          patience = 10, # how many epochs to wait before stopping\n",
        "                          verbose = 1,\n",
        "                          restore_best_weights = True),\n",
        "    ReduceLROnPlateau(factor=0.9, patience=10, min_lr=0.0001),\n",
        "    ModelCheckpoint('NewEyeModel.h5', verbose=1, save_best_only=True)#, save_weights_only=True\n",
        "]"
      ],
      "metadata": {
        "id": "3aNotr95Jb08"
      },
      "execution_count": null,
      "outputs": []
    },
    {
      "cell_type": "code",
      "execution_count": null,
      "metadata": {
        "colab": {
          "base_uri": "https://localhost:8080/"
        },
        "id": "MKpbVqfU7rDu",
        "outputId": "f9ff75f6-ae55-4534-88b1-d211ba122252"
      },
      "outputs": [
        {
          "output_type": "stream",
          "name": "stdout",
          "text": [
            "Model: \"sequential\"\n",
            "_________________________________________________________________\n",
            " Layer (type)                Output Shape              Param #   \n",
            "=================================================================\n",
            " conv2d (Conv2D)             (None, 48, 48, 32)        320       \n",
            "                                                                 \n",
            " max_pooling2d (MaxPooling2D  (None, 24, 24, 32)       0         \n",
            " )                                                               \n",
            "                                                                 \n",
            " batch_normalization (BatchN  (None, 24, 24, 32)       128       \n",
            " ormalization)                                                   \n",
            "                                                                 \n",
            " dropout (Dropout)           (None, 24, 24, 32)        0         \n",
            "                                                                 \n",
            " conv2d_1 (Conv2D)           (None, 22, 22, 64)        18496     \n",
            "                                                                 \n",
            " conv2d_2 (Conv2D)           (None, 20, 20, 64)        36928     \n",
            "                                                                 \n",
            " max_pooling2d_1 (MaxPooling  (None, 10, 10, 64)       0         \n",
            " 2D)                                                             \n",
            "                                                                 \n",
            " batch_normalization_1 (Batc  (None, 10, 10, 64)       256       \n",
            " hNormalization)                                                 \n",
            "                                                                 \n",
            " dropout_1 (Dropout)         (None, 10, 10, 64)        0         \n",
            "                                                                 \n",
            " conv2d_3 (Conv2D)           (None, 8, 8, 128)         73856     \n",
            "                                                                 \n",
            " max_pooling2d_2 (MaxPooling  (None, 4, 4, 128)        0         \n",
            " 2D)                                                             \n",
            "                                                                 \n",
            " batch_normalization_2 (Batc  (None, 4, 4, 128)        512       \n",
            " hNormalization)                                                 \n",
            "                                                                 \n",
            " dropout_2 (Dropout)         (None, 4, 4, 128)         0         \n",
            "                                                                 \n",
            " flatten (Flatten)           (None, 2048)              0         \n",
            "                                                                 \n",
            " dense (Dense)               (None, 1024)              2098176   \n",
            "                                                                 \n",
            " dropout_3 (Dropout)         (None, 1024)              0         \n",
            "                                                                 \n",
            " dense_1 (Dense)             (None, 124)               127100    \n",
            "                                                                 \n",
            " dense_2 (Dense)             (None, 1)                 125       \n",
            "                                                                 \n",
            "=================================================================\n",
            "Total params: 2,355,897\n",
            "Trainable params: 2,355,449\n",
            "Non-trainable params: 448\n",
            "_________________________________________________________________\n"
          ]
        }
      ],
      "source": [
        "model2 = Sequential()\n",
        "\n",
        "model2.add(Conv2D(32, (3, 3), activation=\"relu\", input_shape=X_test.shape[1:]))\n",
        "model2.add(MaxPooling2D(2, 2))\n",
        "model2.add(BatchNormalization())\n",
        "model2.add(Dropout(0.4))\n",
        "\n",
        "model2.add(Conv2D(64, (3, 3), activation=\"relu\"))\n",
        "model2.add(Conv2D(64, (3, 3), activation=\"relu\"))\n",
        "model2.add(MaxPooling2D(2, 2))\n",
        "model2.add(BatchNormalization())\n",
        "model2.add(Dropout(0.4))\n",
        "\n",
        "model2.add(Conv2D(128, (3, 3), activation=\"relu\"))\n",
        "model2.add(MaxPooling2D(2, 2))\n",
        "model2.add(BatchNormalization())\n",
        "model2.add(Dropout(0.4))\n",
        "\n",
        "model2.add(Flatten())\n",
        "model2.add(Dense(1024, activation=\"relu\"))\n",
        "model2.add(Dropout(0.4))\n",
        "model2.add(Dense(124, activation=\"relu\"))\n",
        "model2.add(Dense(1, activation=\"sigmoid\"))\n",
        "\n",
        "model2.compile(loss=\"binary_crossentropy\", metrics=[\"accuracy\"], optimizer=adam)\n",
        "\n",
        "model2.summary()"
      ]
    },
    {
      "cell_type": "code",
      "source": [
        "history2 = model2.fit(X_train,y_train, batch_size=batch, epochs=100, validation_split=0.2,shuffle = True, verbose=1,callbacks=callbacks)\n"
      ],
      "metadata": {
        "colab": {
          "base_uri": "https://localhost:8080/"
        },
        "id": "s1tVqR65jgdr",
        "outputId": "adb7798d-23f0-47db-d605-2f4062892c87"
      },
      "execution_count": null,
      "outputs": [
        {
          "output_type": "stream",
          "name": "stdout",
          "text": [
            "Epoch 1/100\n",
            "1532/1532 [==============================] - ETA: 0s - loss: 0.2075 - accuracy: 0.9203\n",
            "Epoch 1: val_loss improved from inf to 0.39984, saving model to NewEyeModel.h5\n",
            "1532/1532 [==============================] - 23s 9ms/step - loss: 0.2075 - accuracy: 0.9203 - val_loss: 0.3998 - val_accuracy: 0.8455 - lr: 1.0000e-04\n",
            "Epoch 2/100\n",
            "1529/1532 [============================>.] - ETA: 0s - loss: 0.1098 - accuracy: 0.9599\n",
            "Epoch 2: val_loss improved from 0.39984 to 0.24062, saving model to NewEyeModel.h5\n",
            "1532/1532 [==============================] - 11s 7ms/step - loss: 0.1098 - accuracy: 0.9599 - val_loss: 0.2406 - val_accuracy: 0.9168 - lr: 1.0000e-04\n",
            "Epoch 3/100\n",
            "1531/1532 [============================>.] - ETA: 0s - loss: 0.0790 - accuracy: 0.9713\n",
            "Epoch 3: val_loss improved from 0.24062 to 0.23415, saving model to NewEyeModel.h5\n",
            "1532/1532 [==============================] - 11s 7ms/step - loss: 0.0790 - accuracy: 0.9713 - val_loss: 0.2342 - val_accuracy: 0.9275 - lr: 1.0000e-04\n",
            "Epoch 4/100\n",
            "1531/1532 [============================>.] - ETA: 0s - loss: 0.0626 - accuracy: 0.9774\n",
            "Epoch 4: val_loss improved from 0.23415 to 0.21276, saving model to NewEyeModel.h5\n",
            "1532/1532 [==============================] - 12s 8ms/step - loss: 0.0627 - accuracy: 0.9774 - val_loss: 0.2128 - val_accuracy: 0.9276 - lr: 1.0000e-04\n",
            "Epoch 5/100\n",
            "1532/1532 [==============================] - ETA: 0s - loss: 0.0512 - accuracy: 0.9818\n",
            "Epoch 5: val_loss improved from 0.21276 to 0.07349, saving model to NewEyeModel.h5\n",
            "1532/1532 [==============================] - 11s 7ms/step - loss: 0.0512 - accuracy: 0.9818 - val_loss: 0.0735 - val_accuracy: 0.9755 - lr: 1.0000e-04\n",
            "Epoch 6/100\n",
            "1525/1532 [============================>.] - ETA: 0s - loss: 0.0473 - accuracy: 0.9836\n",
            "Epoch 6: val_loss did not improve from 0.07349\n",
            "1532/1532 [==============================] - 11s 7ms/step - loss: 0.0473 - accuracy: 0.9836 - val_loss: 0.0856 - val_accuracy: 0.9697 - lr: 1.0000e-04\n",
            "Epoch 7/100\n",
            "1527/1532 [============================>.] - ETA: 0s - loss: 0.0405 - accuracy: 0.9855\n",
            "Epoch 7: val_loss improved from 0.07349 to 0.04010, saving model to NewEyeModel.h5\n",
            "1532/1532 [==============================] - 12s 8ms/step - loss: 0.0406 - accuracy: 0.9854 - val_loss: 0.0401 - val_accuracy: 0.9871 - lr: 1.0000e-04\n",
            "Epoch 8/100\n",
            "1532/1532 [==============================] - ETA: 0s - loss: 0.0369 - accuracy: 0.9862\n",
            "Epoch 8: val_loss improved from 0.04010 to 0.03283, saving model to NewEyeModel.h5\n",
            "1532/1532 [==============================] - 11s 7ms/step - loss: 0.0369 - accuracy: 0.9862 - val_loss: 0.0328 - val_accuracy: 0.9893 - lr: 1.0000e-04\n",
            "Epoch 9/100\n",
            "1530/1532 [============================>.] - ETA: 0s - loss: 0.0340 - accuracy: 0.9875\n",
            "Epoch 9: val_loss improved from 0.03283 to 0.03172, saving model to NewEyeModel.h5\n",
            "1532/1532 [==============================] - 11s 7ms/step - loss: 0.0340 - accuracy: 0.9875 - val_loss: 0.0317 - val_accuracy: 0.9896 - lr: 1.0000e-04\n",
            "Epoch 10/100\n",
            "1529/1532 [============================>.] - ETA: 0s - loss: 0.0326 - accuracy: 0.9881\n",
            "Epoch 10: val_loss did not improve from 0.03172\n",
            "1532/1532 [==============================] - 11s 7ms/step - loss: 0.0326 - accuracy: 0.9881 - val_loss: 0.0571 - val_accuracy: 0.9819 - lr: 1.0000e-04\n",
            "Epoch 11/100\n",
            "1525/1532 [============================>.] - ETA: 0s - loss: 0.0310 - accuracy: 0.9891\n",
            "Epoch 11: val_loss did not improve from 0.03172\n",
            "1532/1532 [==============================] - 11s 7ms/step - loss: 0.0310 - accuracy: 0.9891 - val_loss: 0.0429 - val_accuracy: 0.9856 - lr: 1.0000e-04\n",
            "Epoch 12/100\n",
            "1530/1532 [============================>.] - ETA: 0s - loss: 0.0293 - accuracy: 0.9896\n",
            "Epoch 12: val_loss did not improve from 0.03172\n",
            "1532/1532 [==============================] - 11s 7ms/step - loss: 0.0293 - accuracy: 0.9896 - val_loss: 0.0680 - val_accuracy: 0.9743 - lr: 1.0000e-04\n",
            "Epoch 13/100\n",
            "1532/1532 [==============================] - ETA: 0s - loss: 0.0269 - accuracy: 0.9906\n",
            "Epoch 13: val_loss did not improve from 0.03172\n",
            "1532/1532 [==============================] - 11s 7ms/step - loss: 0.0269 - accuracy: 0.9906 - val_loss: 0.0376 - val_accuracy: 0.9878 - lr: 1.0000e-04\n",
            "Epoch 14/100\n",
            "1530/1532 [============================>.] - ETA: 0s - loss: 0.0263 - accuracy: 0.9904\n",
            "Epoch 14: val_loss did not improve from 0.03172\n",
            "1532/1532 [==============================] - 11s 7ms/step - loss: 0.0263 - accuracy: 0.9904 - val_loss: 0.0350 - val_accuracy: 0.9900 - lr: 1.0000e-04\n",
            "Epoch 15/100\n",
            "1525/1532 [============================>.] - ETA: 0s - loss: 0.0252 - accuracy: 0.9907\n",
            "Epoch 15: val_loss did not improve from 0.03172\n",
            "1532/1532 [==============================] - 11s 7ms/step - loss: 0.0251 - accuracy: 0.9907 - val_loss: 0.0389 - val_accuracy: 0.9866 - lr: 1.0000e-04\n",
            "Epoch 16/100\n",
            "1526/1532 [============================>.] - ETA: 0s - loss: 0.0236 - accuracy: 0.9912\n",
            "Epoch 16: val_loss did not improve from 0.03172\n",
            "1532/1532 [==============================] - 13s 8ms/step - loss: 0.0236 - accuracy: 0.9912 - val_loss: 0.0495 - val_accuracy: 0.9836 - lr: 1.0000e-04\n",
            "Epoch 17/100\n",
            "1527/1532 [============================>.] - ETA: 0s - loss: 0.0233 - accuracy: 0.9917\n",
            "Epoch 17: val_loss improved from 0.03172 to 0.02662, saving model to NewEyeModel.h5\n",
            "1532/1532 [==============================] - 11s 7ms/step - loss: 0.0233 - accuracy: 0.9917 - val_loss: 0.0266 - val_accuracy: 0.9918 - lr: 1.0000e-04\n",
            "Epoch 18/100\n",
            "1528/1532 [============================>.] - ETA: 0s - loss: 0.0235 - accuracy: 0.9912\n",
            "Epoch 18: val_loss did not improve from 0.02662\n",
            "1532/1532 [==============================] - 11s 7ms/step - loss: 0.0234 - accuracy: 0.9912 - val_loss: 0.0343 - val_accuracy: 0.9900 - lr: 1.0000e-04\n",
            "Epoch 19/100\n",
            "1529/1532 [============================>.] - ETA: 0s - loss: 0.0222 - accuracy: 0.9915\n",
            "Epoch 19: val_loss did not improve from 0.02662\n",
            "1532/1532 [==============================] - 12s 8ms/step - loss: 0.0222 - accuracy: 0.9915 - val_loss: 0.0437 - val_accuracy: 0.9870 - lr: 1.0000e-04\n",
            "Epoch 20/100\n",
            "1531/1532 [============================>.] - ETA: 0s - loss: 0.0207 - accuracy: 0.9925\n",
            "Epoch 20: val_loss did not improve from 0.02662\n",
            "1532/1532 [==============================] - 11s 7ms/step - loss: 0.0207 - accuracy: 0.9925 - val_loss: 0.0561 - val_accuracy: 0.9816 - lr: 1.0000e-04\n",
            "Epoch 21/100\n",
            "1532/1532 [==============================] - ETA: 0s - loss: 0.0202 - accuracy: 0.9926\n",
            "Epoch 21: val_loss did not improve from 0.02662\n",
            "1532/1532 [==============================] - 12s 8ms/step - loss: 0.0202 - accuracy: 0.9926 - val_loss: 0.0458 - val_accuracy: 0.9856 - lr: 1.0000e-04\n",
            "Epoch 22/100\n",
            "1532/1532 [==============================] - ETA: 0s - loss: 0.0202 - accuracy: 0.9928\n",
            "Epoch 22: val_loss did not improve from 0.02662\n",
            "1532/1532 [==============================] - 11s 7ms/step - loss: 0.0202 - accuracy: 0.9928 - val_loss: 0.0377 - val_accuracy: 0.9889 - lr: 1.0000e-04\n",
            "Epoch 23/100\n",
            "1530/1532 [============================>.] - ETA: 0s - loss: 0.0189 - accuracy: 0.9931\n",
            "Epoch 23: val_loss did not improve from 0.02662\n",
            "1532/1532 [==============================] - 12s 8ms/step - loss: 0.0189 - accuracy: 0.9931 - val_loss: 0.0550 - val_accuracy: 0.9843 - lr: 1.0000e-04\n",
            "Epoch 24/100\n",
            "1525/1532 [============================>.] - ETA: 0s - loss: 0.0199 - accuracy: 0.9925\n",
            "Epoch 24: val_loss did not improve from 0.02662\n",
            "1532/1532 [==============================] - 11s 7ms/step - loss: 0.0200 - accuracy: 0.9924 - val_loss: 0.0605 - val_accuracy: 0.9803 - lr: 1.0000e-04\n",
            "Epoch 25/100\n",
            "1526/1532 [============================>.] - ETA: 0s - loss: 0.0173 - accuracy: 0.9932\n",
            "Epoch 25: val_loss did not improve from 0.02662\n",
            "1532/1532 [==============================] - 11s 7ms/step - loss: 0.0174 - accuracy: 0.9932 - val_loss: 0.0388 - val_accuracy: 0.9881 - lr: 1.0000e-04\n",
            "Epoch 26/100\n",
            "1528/1532 [============================>.] - ETA: 0s - loss: 0.0177 - accuracy: 0.9934\n",
            "Epoch 26: val_loss did not improve from 0.02662\n",
            "1532/1532 [==============================] - 11s 7ms/step - loss: 0.0177 - accuracy: 0.9934 - val_loss: 0.0478 - val_accuracy: 0.9838 - lr: 1.0000e-04\n",
            "Epoch 27/100\n",
            "1526/1532 [============================>.] - ETA: 0s - loss: 0.0172 - accuracy: 0.9934Restoring model weights from the end of the best epoch: 17.\n",
            "\n",
            "Epoch 27: val_loss did not improve from 0.02662\n",
            "1532/1532 [==============================] - 11s 7ms/step - loss: 0.0172 - accuracy: 0.9934 - val_loss: 0.0328 - val_accuracy: 0.9893 - lr: 1.0000e-04\n",
            "Epoch 27: early stopping\n"
          ]
        }
      ]
    },
    {
      "cell_type": "code",
      "execution_count": null,
      "metadata": {
        "id": "J5manMTdJO1k",
        "colab": {
          "base_uri": "https://localhost:8080/",
          "height": 585
        },
        "outputId": "040520b0-3f98-477e-806d-df445d2ce42d"
      },
      "outputs": [
        {
          "output_type": "display_data",
          "data": {
            "text/plain": [
              "<Figure size 432x288 with 1 Axes>"
            ],
            "image/png": "[encoded data removed]"
          },
          "metadata": {
            "needs_background": "light"
          }
        },
        {
          "output_type": "display_data",
          "data": {
            "text/plain": [
              "<Figure size 432x288 with 1 Axes>"
            ],
            "image/png": "[encoded data removed]"
          },
          "metadata": {
            "needs_background": "light"
          }
        },
        {
          "output_type": "stream",
          "name": "stdout",
          "text": [
            "Model Evaluation\n",
            "Loss: 0.101\n",
            "Accuracy: 0.966\n",
            "\n"
          ]
        }
      ],
      "source": [
        "accuracy = history2.history['accuracy']\n",
        "val_accuracy = history2.history['val_accuracy']\n",
        "loss = history2.history['loss']\n",
        "val_loss = history2.history['val_loss']\n",
        "epochs = range(len(accuracy))\n",
        "\n",
        "plt.plot(epochs, accuracy, \"b\", label=\"trainning accuracy\")\n",
        "plt.plot(epochs, val_accuracy, \"r\", label=\"validation accuracy\")\n",
        "plt.legend()\n",
        "plt.show()\n",
        "\n",
        "plt.plot(epochs, loss, \"b\", label=\"trainning loss\")\n",
        "plt.plot(epochs, val_loss, \"r\", label=\"validation loss\")\n",
        "plt.legend()\n",
        "plt.show()\n",
        "\n",
        "(loss,acc) = model2.evaluate(X_test,y_test, verbose=0)\n",
        "print('Model Evaluation')\n",
        "print('Loss: %.3f' % loss)\n",
        "print('Accuracy: %.3f' % acc)\n",
        "print()"
      ]
    }
  ],
  "metadata": {
    "accelerator": "GPU",
    "colab": {
      "provenance": []
    },
    "gpuClass": "standard",
    "kernelspec": {
      "display_name": "Python 3",
      "name": "python3"
    },
    "language_info": {
      "name": "python"
    }
  },
  "nbformat": 4,
  "nbformat_minor": 0
}