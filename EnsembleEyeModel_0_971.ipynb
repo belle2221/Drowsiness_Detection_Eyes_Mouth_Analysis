{
  "nbformat": 4,
  "nbformat_minor": 0,
  "metadata": {
    "colab": {
      "provenance": []
    },
    "kernelspec": {
      "name": "python3",
      "display_name": "Python 3"
    },
    "language_info": {
      "name": "python"
    }
  },
  "cells": [
    {
      "cell_type": "code",
      "execution_count": null,
      "metadata": {
        "colab": {
          "base_uri": "https://localhost:8080/"
        },
        "id": "sFYjtz_nYNRz",
        "outputId": "46c0a495-a049-4eb9-ff6a-3e5913c83487"
      },
      "outputs": [
        {
          "output_type": "stream",
          "name": "stdout",
          "text": [
            "Mounted at /content/drive\n"
          ]
        }
      ],
      "source": [
        "from google.colab import drive\n",
        "drive.mount('/content/drive')"
      ]
    },
    {
      "cell_type": "code",
      "source": [
        "from zipfile import ZipFile\n",
        "file_name = \"/content/drive/MyDrive/dataset_split.zip\"\n",
        "\n",
        "with ZipFile(file_name,'r') as zip:\n",
        "  zip.extractall()\n",
        "  print('Done')\n"
      ],
      "metadata": {
        "colab": {
          "base_uri": "https://localhost:8080/"
        },
        "id": "zhyEe1PmYY0O",
        "outputId": "d2bc2115-0348-4f60-e14c-a99e0065c497"
      },
      "execution_count": null,
      "outputs": [
        {
          "output_type": "stream",
          "name": "stdout",
          "text": [
            "Done\n"
          ]
        }
      ]
    },
    {
      "cell_type": "code",
      "source": [
        "from zipfile import ZipFile\n",
        "file_name = \"/content/drive/MyDrive/Shared.zip\"\n",
        "\n",
        "with ZipFile(file_name,'r') as zip:\n",
        "  zip.extractall()\n",
        "  print('Done')"
      ],
      "metadata": {
        "colab": {
          "base_uri": "https://localhost:8080/"
        },
        "id": "pQiMBhIBYZ8K",
        "outputId": "47e4fa86-c7d8-44f7-d28e-365f7d956818"
      },
      "execution_count": null,
      "outputs": [
        {
          "output_type": "stream",
          "name": "stdout",
          "text": [
            "Done\n"
          ]
        }
      ]
    },
    {
      "cell_type": "code",
      "source": [
        "import numpy as np\n",
        "import argparse\n",
        "import dlib\n",
        "import cv2\n",
        "import os\n",
        "import matplotlib.pyplot as plt\n",
        "import imutils\n",
        "from imutils import face_utils\n",
        "from tensorflow.keras.layers import Input, Lambda, Dense, Flatten, Conv2D, MaxPooling2D, Dropout\n",
        "from tensorflow.keras.models import Model\n",
        "from tensorflow.keras.models import Sequential\n",
        "from tensorflow.keras.optimizers import Adam\n",
        "import tensorflow as tf"
      ],
      "metadata": {
        "id": "nL5c2yMbYUOg"
      },
      "execution_count": null,
      "outputs": []
    },
    {
      "cell_type": "code",
      "source": [
        "detector = dlib.get_frontal_face_detector()\n",
        "predictor = dlib.shape_predictor('/content/Shared/shape_predictor_68_face_landmarks.dat')\n"
      ],
      "metadata": {
        "id": "x7Lho5fbYb77"
      },
      "execution_count": null,
      "outputs": []
    },
    {
      "cell_type": "code",
      "source": [
        "def get_data(direc):\n",
        "    X =[]\n",
        "    y = []\n",
        "    data = []\n",
        "    IMG_SIZE = 50\n",
        "    categories = os.listdir(direc)\n",
        "    for category in categories:\n",
        "        path_link = os.path.join(direc, category)\n",
        "        for image in os.listdir(path_link):\n",
        "            image_array = cv2.imread(os.path.join(path_link, image),cv2.IMREAD_GRAYSCALE)\n",
        "            image_array = cv2.resize(image_array, (IMG_SIZE, IMG_SIZE))\n",
        "            X.append(image_array)\n",
        "            y.append(int(category))\n",
        "    return X,y\n",
        "\n"
      ],
      "metadata": {
        "id": "UrxZ_6UOYc8Q"
      },
      "execution_count": null,
      "outputs": []
    },
    {
      "cell_type": "code",
      "source": [
        "X_train,y_train = get_data(\"/content/dataset_split/train\")\n",
        "X_test,y_test = get_data(\"/content/dataset_split/test\")\n"
      ],
      "metadata": {
        "id": "kn9-wBglYeA_"
      },
      "execution_count": null,
      "outputs": []
    },
    {
      "cell_type": "code",
      "source": [
        "X_train = np.array(X_train).reshape(-1,50,50,1)\n",
        "X_test = np.array(X_test).reshape(-1,50,50,1)\n",
        "X_train = X_train.astype('float32') / 255.0\n",
        "X_test = X_test.astype('float32') / 255.0\n",
        "\n",
        "y_train = np.array(y_train).reshape(-1,1)\n",
        "y_test = np.array(y_test).reshape(-1,1)\n",
        "y_train = y_train.flatten()\n",
        "y_test = y_test.flatten()"
      ],
      "metadata": {
        "id": "IqEFrj9HYgCp"
      },
      "execution_count": null,
      "outputs": []
    },
    {
      "cell_type": "code",
      "source": [
        "train_dir = \"/content/dataset_split/train\"\n",
        "test_dir = \"/content/dataset_split/test\""
      ],
      "metadata": {
        "id": "zDmIMY0yYiEV"
      },
      "execution_count": null,
      "outputs": []
    },
    {
      "cell_type": "code",
      "source": [
        "batch = 32\n",
        "learning_rate = 0.0001\n",
        "adam = Adam(lr=learning_rate)"
      ],
      "metadata": {
        "id": "3SCKKcpXaWWk",
        "colab": {
          "base_uri": "https://localhost:8080/"
        },
        "outputId": "15bd92e4-aa4b-4b07-b5d6-9f610eec6e50"
      },
      "execution_count": null,
      "outputs": [
        {
          "output_type": "stream",
          "name": "stderr",
          "text": [
            "/usr/local/lib/python3.8/dist-packages/keras/optimizers/optimizer_v2/adam.py:110: UserWarning: The `lr` argument is deprecated, use `learning_rate` instead.\n",
            "  super(Adam, self).__init__(name, **kwargs)\n"
          ]
        }
      ]
    },
    {
      "cell_type": "code",
      "source": [
        "from tensorflow.keras.callbacks import EarlyStopping, ReduceLROnPlateau, ModelCheckpoint\n",
        "callbacks = [\n",
        "    EarlyStopping(monitor = 'val_loss',\n",
        "                          min_delta = 0, #minimium amount of change to count as an improvement\n",
        "                          patience = 10, # how many epochs to wait before stopping\n",
        "                          verbose = 1,\n",
        "                          restore_best_weights = True),\n",
        "    ReduceLROnPlateau(factor=0.9, patience=10, min_lr=0.0001),\n",
        "    ModelCheckpoint('EnsembleEyeModel.h5', verbose=1, save_best_only=True)#, save_weights_only=True\n",
        "]"
      ],
      "metadata": {
        "id": "Wtd5SjItaa1h"
      },
      "execution_count": null,
      "outputs": []
    },
    {
      "cell_type": "code",
      "source": [
        "#! pip uninstall tensorflow\n",
        "#! pip install tensorflow==2.3.0"
      ],
      "metadata": {
        "id": "vSxOKShfio3c"
      },
      "execution_count": null,
      "outputs": []
    },
    {
      "cell_type": "code",
      "source": [
        "from tensorflow.keras.models import Model, load_model\n",
        "from tensorflow.keras.layers import Input, Average\n",
        "eyeModel1 = tf.keras.models.load_model(r\"/content/drive/MyDrive/NewEyeModel-0.969.h5\")\n",
        "eyeModel1._name = 'eyeModel1'\n",
        "eyeModel2 = tf.keras.models.load_model(r\"/content/drive/MyDrive/NewEyeModel-0.966.h5\")\n",
        "eyeModel2._name = 'eyeModel2'\n",
        "eyeModel3 = tf.keras.models.load_model(r\"/content/drive/MyDrive/NewEyeModel-0.968.h5\")\n",
        "eyeModel3._name = 'eyeModel3'\n",
        "\n",
        "models = [eyeModel1, eyeModel2,eyeModel3]\n",
        "model_input = Input(shape=(50, 50, 1))\n",
        "model_outputs = [model(model_input) for model in models]\n",
        "ensemble_output = Average()(model_outputs)\n",
        "ensemble_model = Model(inputs=model_input, outputs=ensemble_output, name='ensemble')\n",
        "\n",
        "ensemble_model.compile(loss=\"binary_crossentropy\", metrics=[\"accuracy\"], optimizer=adam)\n",
        "ensemble_model.save('EyeEnsemble.h5')"
      ],
      "metadata": {
        "id": "USCTy2VvYVyz"
      },
      "execution_count": null,
      "outputs": []
    },
    {
      "cell_type": "code",
      "source": [
        "eModel1 = tf.keras.models.load_model(r\"/content/EyeEnsemble.h5\")\n",
        "eModel1._name = 'ensemble'"
      ],
      "metadata": {
        "id": "w8rO8WN-hwXl"
      },
      "execution_count": null,
      "outputs": []
    },
    {
      "cell_type": "code",
      "source": [
        "(loss,acc) = eModel1.evaluate(X_test,y_test, verbose=0)\n",
        "print('Model Evaluation')\n",
        "print('Loss: %.3f' % loss)\n",
        "print('Accuracy: %.3f' % acc)\n",
        "print()"
      ],
      "metadata": {
        "colab": {
          "base_uri": "https://localhost:8080/"
        },
        "id": "-anl998ah5El",
        "outputId": "edbbb398-e43d-4b42-e210-96d15a951464"
      },
      "execution_count": null,
      "outputs": [
        {
          "output_type": "stream",
          "name": "stdout",
          "text": [
            "Model Evaluation\n",
            "Loss: 0.078\n",
            "Accuracy: 0.971\n",
            "\n"
          ]
        }
      ]
    },
    {
      "cell_type": "code",
      "source": [
        "(loss,acc) = ensemble_model.evaluate(X_test,y_test, verbose=0)\n",
        "print('Model Evaluation')\n",
        "print('Loss: %.3f' % loss)\n",
        "print('Accuracy: %.3f' % acc)\n",
        "print()"
      ],
      "metadata": {
        "colab": {
          "base_uri": "https://localhost:8080/"
        },
        "id": "hhjAlekvfMP4",
        "outputId": "f7cee1d4-94eb-47d4-ad66-c46f792b833a"
      },
      "execution_count": null,
      "outputs": [
        {
          "output_type": "stream",
          "name": "stdout",
          "text": [
            "Model Evaluation\n",
            "Loss: 0.078\n",
            "Accuracy: 0.971\n",
            "\n"
          ]
        }
      ]
    },
    {
      "cell_type": "code",
      "source": [
        "(loss,acc) = eyeModel1.evaluate(X_test,y_test, verbose=0)\n",
        "print('Model Evaluation')\n",
        "print('Loss: %.3f' % loss)\n",
        "print('Accuracy: %.3f' % acc)\n",
        "print()"
      ],
      "metadata": {
        "id": "66u1pztWfy5r"
      },
      "execution_count": null,
      "outputs": []
    },
    {
      "cell_type": "code",
      "source": [
        "(loss,acc) = eyeModel2.evaluate(X_test,y_test, verbose=0)\n",
        "print('Model Evaluation')\n",
        "print('Loss: %.3f' % loss)\n",
        "print('Accuracy: %.3f' % acc)\n",
        "print()"
      ],
      "metadata": {
        "id": "0zCC7Ipvf4bM"
      },
      "execution_count": null,
      "outputs": []
    }
  ]
}