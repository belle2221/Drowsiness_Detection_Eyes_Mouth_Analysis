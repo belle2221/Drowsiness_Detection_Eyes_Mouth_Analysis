{
 "cells": [
  {
   "cell_type": "code",
   "execution_count": 1,
   "metadata": {
    "colab": {
     "base_uri": "https://localhost:8080/"
    },
    "id": "sFYjtz_nYNRz",
    "outputId": "dc834648-d253-4a47-f5c0-5724433bf687"
   },
   "outputs": [
    {
     "name": "stdout",
     "output_type": "stream",
     "text": [
      "Mounted at /content/drive\n"
     ]
    }
   ],
   "source": [
    "from google.colab import drive\n",
    "drive.mount('/content/drive')"
   ]
  },
  {
   "cell_type": "code",
   "execution_count": 2,
   "metadata": {
    "colab": {
     "base_uri": "https://localhost:8080/"
    },
    "id": "zhyEe1PmYY0O",
    "outputId": "805542f4-f843-4789-d336-89606917d7ec"
   },
   "outputs": [
    {
     "name": "stdout",
     "output_type": "stream",
     "text": [
      "Done\n"
     ]
    }
   ],
   "source": [
    "from zipfile import ZipFile\n",
    "file_name = \"/content/drive/MyDrive/mouth_dataset_split.zip\"\n",
    "\n",
    "with ZipFile(file_name,'r') as zip:\n",
    "  zip.extractall()\n",
    "  print('Done')\n"
   ]
  },
  {
   "cell_type": "code",
   "execution_count": 3,
   "metadata": {
    "colab": {
     "base_uri": "https://localhost:8080/"
    },
    "id": "pQiMBhIBYZ8K",
    "outputId": "eaddb800-07cc-4f08-dc92-bb9c3ec994cf"
   },
   "outputs": [
    {
     "name": "stdout",
     "output_type": "stream",
     "text": [
      "Done\n"
     ]
    }
   ],
   "source": [
    "from zipfile import ZipFile\n",
    "file_name = \"/content/drive/MyDrive/Shared.zip\"\n",
    "\n",
    "with ZipFile(file_name,'r') as zip:\n",
    "  zip.extractall()\n",
    "  print('Done')"
   ]
  },
  {
   "cell_type": "code",
   "execution_count": 12,
   "metadata": {
    "id": "nL5c2yMbYUOg"
   },
   "outputs": [],
   "source": [
    "import numpy as np\n",
    "import argparse\n",
    "import dlib\n",
    "import cv2\n",
    "import os\n",
    "import matplotlib.pyplot as plt\n",
    "import imutils\n",
    "from imutils import face_utils\n",
    "from tensorflow.keras.layers import Input, Lambda, Dense, Flatten, Conv2D, MaxPooling2D, Dropout\n",
    "from tensorflow.keras.models import Model\n",
    "from tensorflow.keras.models import Sequential\n",
    "from tensorflow.keras.optimizers import Adam\n",
    "from keras.preprocessing.image import ImageDataGenerator\n",
    "import tensorflow as tf"
   ]
  },
  {
   "cell_type": "code",
   "execution_count": 5,
   "metadata": {
    "id": "x7Lho5fbYb77"
   },
   "outputs": [],
   "source": [
    "detector = dlib.get_frontal_face_detector()\n",
    "predictor = dlib.shape_predictor('/content/Shared/shape_predictor_68_face_landmarks.dat')\n"
   ]
  },
  {
   "cell_type": "code",
   "execution_count": 6,
   "metadata": {
    "id": "UrxZ_6UOYc8Q"
   },
   "outputs": [],
   "source": [
    "def get_data(direc):\n",
    "    X =[]\n",
    "    y = []\n",
    "    data = []\n",
    "    IMG_SIZE = 50\n",
    "    categories = os.listdir(direc)\n",
    "    for category in categories:\n",
    "        path_link = os.path.join(direc, category)\n",
    "        for image in os.listdir(path_link):\n",
    "            image_array = cv2.imread(os.path.join(path_link, image),cv2.IMREAD_GRAYSCALE)\n",
    "            image_array = cv2.resize(image_array, (IMG_SIZE, IMG_SIZE))\n",
    "            X.append(image_array)\n",
    "            y.append(int(category))\n",
    "    return X,y\n",
    "\n"
   ]
  },
  {
   "cell_type": "code",
   "execution_count": 7,
   "metadata": {
    "id": "kn9-wBglYeA_"
   },
   "outputs": [],
   "source": [
    "X_train,y_train = get_data(\"/content/mouth_dataset_split/train\")\n",
    "X_test,y_test = get_data(\"/content/mouth_dataset_split/test\")\n"
   ]
  },
  {
   "cell_type": "code",
   "execution_count": 8,
   "metadata": {
    "id": "IqEFrj9HYgCp"
   },
   "outputs": [],
   "source": [
    "X_train = np.array(X_train).reshape(-1,50,50,1)\n",
    "X_test = np.array(X_test).reshape(-1,50,50,1)\n",
    "X_train = X_train.astype('float32') / 255.0\n",
    "X_test = X_test.astype('float32') / 255.0\n",
    "\n",
    "y_train = np.array(y_train).reshape(-1,1)\n",
    "y_test = np.array(y_test).reshape(-1,1)\n",
    "y_train = y_train.flatten()\n",
    "y_test = y_test.flatten()"
   ]
  },
  {
   "cell_type": "code",
   "execution_count": 9,
   "metadata": {
    "id": "zDmIMY0yYiEV"
   },
   "outputs": [],
   "source": [
    "train_dir = \"/content/mouth_dataset_split/train\"\n",
    "test_dir = \"/content/mouth_dataset_split/test\""
   ]
  },
  {
   "cell_type": "code",
   "execution_count": 10,
   "metadata": {
    "id": "HNl2L6xfDY1m"
   },
   "outputs": [],
   "source": [
    "batch_train = 2048\n",
    "batch_val = 512"
   ]
  },
  {
   "cell_type": "code",
   "execution_count": 13,
   "metadata": {
    "id": "q509XVz-DVCI"
   },
   "outputs": [],
   "source": [
    "train_datagen = ImageDataGenerator(horizontal_flip=True,\n",
    "                                   rescale=1./255,\n",
    "                                   rotation_range=20,\n",
    "                                   width_shift_range=0.1,\n",
    "                                   height_shift_range=0.1,\n",
    "                                   shear_range=2,\n",
    "                                   zoom_range=0.2,\n",
    "                                   validation_split=0.2, \n",
    "                                   dtype=np.float32)"
   ]
  },
  {
   "cell_type": "code",
   "execution_count": 14,
   "metadata": {
    "colab": {
     "base_uri": "https://localhost:8080/"
    },
    "id": "sFADxwQTDax3",
    "outputId": "ec3f71d1-7ec3-44c0-fea8-7869c2f884e9"
   },
   "outputs": [
    {
     "name": "stdout",
     "output_type": "stream",
     "text": [
      "Found 3234 images belonging to 2 classes.\n"
     ]
    }
   ],
   "source": [
    "train_generator = train_datagen.flow_from_directory(\n",
    "    train_dir,  # Source directory\n",
    "    target_size=(50, 50),  #Resized to this size\n",
    "    batch_size=batch_train,\n",
    "    color_mode='grayscale',\n",
    "    subset='training',\n",
    "    class_mode='binary')"
   ]
  },
  {
   "cell_type": "code",
   "execution_count": 15,
   "metadata": {
    "colab": {
     "base_uri": "https://localhost:8080/"
    },
    "id": "hODgWICrDdaf",
    "outputId": "99b1871e-df4c-4816-e6be-14bbcc95342f"
   },
   "outputs": [
    {
     "name": "stdout",
     "output_type": "stream",
     "text": [
      "Found 807 images belonging to 2 classes.\n"
     ]
    }
   ],
   "source": [
    "validation_generator = train_datagen.flow_from_directory(\n",
    "    train_dir,  # Source directory\n",
    "    target_size=(50, 50),  # Resized\n",
    "    batch_size=batch_val,\n",
    "    color_mode='grayscale',\n",
    "    subset='validation',\n",
    "    class_mode='binary')"
   ]
  },
  {
   "cell_type": "code",
   "execution_count": 16,
   "metadata": {
    "id": "Wtd5SjItaa1h"
   },
   "outputs": [],
   "source": [
    "from tensorflow.keras.callbacks import EarlyStopping, ReduceLROnPlateau, ModelCheckpoint\n",
    "callbacks = [\n",
    "    EarlyStopping(monitor = 'val_loss',\n",
    "                          min_delta = 0, #minimium amount of change to count as an improvement\n",
    "                          patience = 10, # how many epochs to wait before stopping\n",
    "                          verbose = 1,\n",
    "                          restore_best_weights = True),\n",
    "    ReduceLROnPlateau(factor=0.9, patience=10, min_lr=0.001),\n",
    "    ModelCheckpoint('EnsembleMouthModel.h5', verbose=1, save_best_only=True)#, save_weights_only=True\n",
    "]"
   ]
  },
  {
   "cell_type": "code",
   "execution_count": null,
   "metadata": {
    "id": "vSxOKShfio3c"
   },
   "outputs": [],
   "source": [
    "#! pip uninstall tensorflow\n",
    "#! pip install tensorflow==2.3.0"
   ]
  },
  {
   "cell_type": "code",
   "execution_count": 18,
   "metadata": {
    "id": "USCTy2VvYVyz"
   },
   "outputs": [],
   "source": [
    "from tensorflow.keras.models import Model, load_model\n",
    "from tensorflow.keras.layers import Input, Average\n",
    "mouthModel1 = tf.keras.models.load_model(r\"/content/drive/MyDrive/MouthModel-0.943.h5\")\n",
    "mouthModel1._name = 'mouthModel1'\n",
    "mouthModel2 = tf.keras.models.load_model(r\"/content/drive/MyDrive/MouthModel-0.965.h5\")\n",
    "mouthModel2._name = 'mouthModel2'\n",
    "mouthModel3 = tf.keras.models.load_model(r\"/content/drive/MyDrive/MouthModel-0.960.h5\")\n",
    "mouthModel3._name = 'mouthModel3'\n",
    "\n",
    "models = [mouthModel1, mouthModel2,mouthModel3]\n",
    "model_input = Input(shape=(50, 50, 1))\n",
    "model_outputs = [model(model_input) for model in models]\n",
    "ensemble_output = Average()(model_outputs)\n",
    "ensemble_model = Model(inputs=model_input, outputs=ensemble_output, name='ensemble')\n",
    "\n",
    "ensemble_model.compile(loss=\"binary_crossentropy\", metrics=[\"accuracy\"], optimizer=\"adam\")\n",
    "ensemble_model.save('MouthEnsemble.h5')"
   ]
  },
  {
   "cell_type": "code",
   "execution_count": 20,
   "metadata": {
    "id": "w8rO8WN-hwXl"
   },
   "outputs": [],
   "source": [
    "mModel1 = tf.keras.models.load_model(r\"/content/MouthEnsemble.h5\")\n",
    "mModel1._name = 'ensemble'"
   ]
  },
  {
   "cell_type": "code",
   "execution_count": 21,
   "metadata": {
    "colab": {
     "base_uri": "https://localhost:8080/"
    },
    "id": "-anl998ah5El",
    "outputId": "fe184ee5-d452-4c4d-c0e9-1f497908b679"
   },
   "outputs": [
    {
     "name": "stdout",
     "output_type": "stream",
     "text": [
      "Model Evaluation\n",
      "Loss: 0.121\n",
      "Accuracy: 0.967\n",
      "\n"
     ]
    }
   ],
   "source": [
    "(loss,acc) = mModel1.evaluate(X_test,y_test, verbose=0)\n",
    "print('Model Evaluation')\n",
    "print('Loss: %.3f' % loss)\n",
    "print('Accuracy: %.3f' % acc)\n",
    "print()"
   ]
  },
  {
   "cell_type": "code",
   "execution_count": 22,
   "metadata": {
    "colab": {
     "base_uri": "https://localhost:8080/"
    },
    "id": "hhjAlekvfMP4",
    "outputId": "834e2875-1d4d-4636-c940-aff9e4f25038"
   },
   "outputs": [
    {
     "name": "stdout",
     "output_type": "stream",
     "text": [
      "Model Evaluation\n",
      "Loss: 0.121\n",
      "Accuracy: 0.967\n",
      "\n"
     ]
    }
   ],
   "source": [
    "(loss,acc) = ensemble_model.evaluate(X_test,y_test, verbose=0)\n",
    "print('Model Evaluation')\n",
    "print('Loss: %.3f' % loss)\n",
    "print('Accuracy: %.3f' % acc)\n",
    "print()"
   ]
  },
  {
   "cell_type": "code",
   "execution_count": null,
   "metadata": {
    "id": "66u1pztWfy5r"
   },
   "outputs": [],
   "source": [
    "(loss,acc) = eyeModel1.evaluate(X_test,y_test, verbose=0)\n",
    "print('Model Evaluation')\n",
    "print('Loss: %.3f' % loss)\n",
    "print('Accuracy: %.3f' % acc)\n",
    "print()"
   ]
  },
  {
   "cell_type": "code",
   "execution_count": null,
   "metadata": {
    "id": "0zCC7Ipvf4bM"
   },
   "outputs": [],
   "source": [
    "(loss,acc) = eyeModel2.evaluate(X_test,y_test, verbose=0)\n",
    "print('Model Evaluation')\n",
    "print('Loss: %.3f' % loss)\n",
    "print('Accuracy: %.3f' % acc)\n",
    "print()"
   ]
  }
 ],
 "metadata": {
  "colab": {
   "provenance": []
  },
  "kernelspec": {
   "display_name": "Python 3 (ipykernel)",
   "language": "python",
   "name": "python3"
  },
  "language_info": {
   "codemirror_mode": {
    "name": "ipython",
    "version": 3
   },
   "file_extension": ".py",
   "mimetype": "text/x-python",
   "name": "python",
   "nbconvert_exporter": "python",
   "pygments_lexer": "ipython3",
   "version": "3.10.0"
  }
 },
 "nbformat": 4,
 "nbformat_minor": 1
}
