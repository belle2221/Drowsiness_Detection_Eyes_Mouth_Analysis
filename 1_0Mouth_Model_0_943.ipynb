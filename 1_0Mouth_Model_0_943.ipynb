{
 "cells": [
  {
   "cell_type": "code",
   "execution_count": null,
   "metadata": {
    "id": "RJPuE8Hxx44L"
   },
   "outputs": [],
   "source": [
    "import numpy as np\n",
    "import argparse\n",
    "import dlib\n",
    "import cv2\n",
    "import os\n",
    "import matplotlib.pyplot as plt\n",
    "from keras.preprocessing.image import ImageDataGenerator\n",
    "import imutils\n",
    "from imutils import face_utils\n",
    "from tensorflow.keras.layers import Input, Lambda, Dense, Flatten, Conv2D, MaxPooling2D, Dropout\n",
    "from tensorflow.keras.models import Model\n",
    "from tensorflow.keras.models import Sequential\n",
    "from keras.layers import BatchNormalization\n",
    "from tensorflow.keras.optimizers import Adam\n",
    "from keras.preprocessing.image import ImageDataGenerator\n",
    "import tensorflow as tf"
   ]
  },
  {
   "cell_type": "code",
   "execution_count": null,
   "metadata": {
    "colab": {
     "base_uri": "https://localhost:8080/"
    },
    "id": "4Tl9R_EZx1nP",
    "outputId": "807233de-d4c8-4648-d3f1-68c9363c4754"
   },
   "outputs": [
    {
     "name": "stdout",
     "output_type": "stream",
     "text": [
      "Drive already mounted at /content/drive; to attempt to forcibly remount, call drive.mount(\"/content/drive\", force_remount=True).\n"
     ]
    }
   ],
   "source": [
    "from google.colab import drive\n",
    "drive.mount('/content/drive')"
   ]
  },
  {
   "cell_type": "code",
   "execution_count": null,
   "metadata": {
    "colab": {
     "base_uri": "https://localhost:8080/"
    },
    "id": "eXmr0O4jx-iE",
    "outputId": "8c8b58dd-a654-44e1-a1ab-66f7b27dfa9e"
   },
   "outputs": [
    {
     "name": "stdout",
     "output_type": "stream",
     "text": [
      "Done\n"
     ]
    }
   ],
   "source": [
    "from zipfile import ZipFile\n",
    "file_name = \"/content/drive/MyDrive/mouth_dataset_split.zip\"\n",
    "\n",
    "with ZipFile(file_name,'r') as zip:\n",
    "  zip.extractall()\n",
    "  print('Done')"
   ]
  },
  {
   "cell_type": "code",
   "execution_count": null,
   "metadata": {
    "colab": {
     "base_uri": "https://localhost:8080/"
    },
    "id": "CEqAvgr3x_53",
    "outputId": "c2f414a6-4501-480a-aa02-8b555d375990"
   },
   "outputs": [
    {
     "name": "stdout",
     "output_type": "stream",
     "text": [
      "Done\n"
     ]
    }
   ],
   "source": [
    "from zipfile import ZipFile\n",
    "file_name = \"/content/drive/MyDrive/Shared.zip\"\n",
    "\n",
    "with ZipFile(file_name,'r') as zip:\n",
    "  zip.extractall()\n",
    "  print('Done')"
   ]
  },
  {
   "cell_type": "code",
   "execution_count": null,
   "metadata": {
    "id": "Nr8COvtfyBQw"
   },
   "outputs": [],
   "source": [
    "detector = dlib.get_frontal_face_detector()\n",
    "predictor = dlib.shape_predictor('/content/Shared/shape_predictor_68_face_landmarks.dat')\n"
   ]
  },
  {
   "cell_type": "code",
   "execution_count": null,
   "metadata": {
    "id": "Aj6jSADgydes"
   },
   "outputs": [],
   "source": [
    "def get_data(direc):\n",
    "    X =[]\n",
    "    y = []\n",
    "    IMG_SIZE = 50\n",
    "    categories = os.listdir(direc)\n",
    "    for category in categories:\n",
    "        path_link = os.path.join(direc, category)\n",
    "        for image in os.listdir(path_link):\n",
    "            image_array = cv2.imread(os.path.join(path_link, image),cv2.IMREAD_GRAYSCALE)\n",
    "            image_array = cv2.resize(image_array, (IMG_SIZE, IMG_SIZE))\n",
    "            X.append(image_array)\n",
    "            y.append(int(category))\n",
    "    return X,y\n",
    "\n"
   ]
  },
  {
   "cell_type": "code",
   "execution_count": null,
   "metadata": {
    "id": "BTqTHlEFykZy"
   },
   "outputs": [],
   "source": [
    "X_train,y_train = get_data(\"/content/mouth_dataset_split/train\")\n",
    "X_test,y_test = get_data(\"/content/mouth_dataset_split/test\")"
   ]
  },
  {
   "cell_type": "code",
   "execution_count": null,
   "metadata": {
    "id": "vI96sYQXyl8Q"
   },
   "outputs": [],
   "source": [
    "X_train = np.array(X_train).reshape(-1,50,50,1)\n",
    "X_test = np.array(X_test).reshape(-1,50,50,1)\n",
    "X_train = X_train.astype('float32') / 255.0\n",
    "X_test = X_test.astype('float32') / 255.0"
   ]
  },
  {
   "cell_type": "code",
   "execution_count": null,
   "metadata": {
    "id": "84BNZMoLynZK"
   },
   "outputs": [],
   "source": [
    "y_train = np.array(y_train).reshape(-1,1)\n",
    "y_test = np.array(y_test).reshape(-1,1)\n",
    "y_train = y_train.flatten()\n",
    "y_test = y_test.flatten()"
   ]
  },
  {
   "cell_type": "code",
   "execution_count": null,
   "metadata": {
    "id": "ioInRxBRyr86"
   },
   "outputs": [],
   "source": [
    "train_dir = \"/content/mouth_dataset_split/train\"\n",
    "test_dir = \"/content/mouth_dataset_split/test\""
   ]
  },
  {
   "cell_type": "code",
   "execution_count": null,
   "metadata": {
    "id": "0EOrya_txy7J"
   },
   "outputs": [],
   "source": [
    "train_datagen = ImageDataGenerator(horizontal_flip=True,\n",
    "                                   rescale=1./255,\n",
    "                                   rotation_range=20,\n",
    "                                   width_shift_range=0.1,\n",
    "                                   height_shift_range=0.1,\n",
    "                                   shear_range=2,\n",
    "                                   zoom_range=0.2,\n",
    "                                   validation_split=0.2, \n",
    "                                   dtype=np.float32)"
   ]
  },
  {
   "cell_type": "code",
   "execution_count": null,
   "metadata": {
    "id": "9GL2FTwSZTwZ"
   },
   "outputs": [],
   "source": [
    "batch_train = 2048\n",
    "batch_val = 512"
   ]
  },
  {
   "cell_type": "code",
   "execution_count": null,
   "metadata": {
    "colab": {
     "base_uri": "https://localhost:8080/"
    },
    "id": "zK75es92x2TM",
    "outputId": "085a1d4a-6932-4ae0-ef7d-fbf75ff15876"
   },
   "outputs": [
    {
     "name": "stdout",
     "output_type": "stream",
     "text": [
      "Found 807 images belonging to 2 classes.\n"
     ]
    }
   ],
   "source": [
    "validation_generator = train_datagen.flow_from_directory(\n",
    "    train_dir,  # Source directory\n",
    "    target_size=(50, 50),  # Resized\n",
    "    batch_size=batch_val,\n",
    "    color_mode='grayscale',\n",
    "    subset='validation',\n",
    "    class_mode='binary')"
   ]
  },
  {
   "cell_type": "code",
   "execution_count": null,
   "metadata": {
    "colab": {
     "base_uri": "https://localhost:8080/"
    },
    "id": "edHXOFa9x1LE",
    "outputId": "d5531a4e-5654-42de-e3bc-d952eac5632f"
   },
   "outputs": [
    {
     "name": "stdout",
     "output_type": "stream",
     "text": [
      "Found 3234 images belonging to 2 classes.\n"
     ]
    }
   ],
   "source": [
    "train_generator = train_datagen.flow_from_directory(\n",
    "    train_dir,  # Source directory\n",
    "    target_size=(50, 50),  #Resized to this size\n",
    "    batch_size=batch_train,\n",
    "    color_mode='grayscale',\n",
    "    subset='training',\n",
    "    class_mode='binary')"
   ]
  },
  {
   "cell_type": "code",
   "execution_count": null,
   "metadata": {
    "id": "-v3uUBMOUJKu"
   },
   "outputs": [],
   "source": [
    "learning_rate = 0.0001\n",
    "adam = Adam(lr=learning_rate)"
   ]
  },
  {
   "cell_type": "code",
   "execution_count": null,
   "metadata": {
    "id": "3aNotr95Jb08"
   },
   "outputs": [],
   "source": [
    "from tensorflow.keras.callbacks import EarlyStopping, ReduceLROnPlateau, ModelCheckpoint\n",
    "callbacks = [\n",
    "    EarlyStopping(monitor = 'val_loss',\n",
    "                          min_delta = 0, #minimium amount of change to count as an improvement\n",
    "                          patience = 10, # how many epochs to wait before stopping\n",
    "                          verbose = 1,\n",
    "                          restore_best_weights = True),\n",
    "    ReduceLROnPlateau(factor=0.9, patience=10, min_lr=0.001),\n",
    "    ModelCheckpoint('MouthModel.h5', verbose=1, save_best_only=True)#, save_weights_only=True\n",
    "]"
   ]
  },
  {
   "cell_type": "code",
   "execution_count": null,
   "metadata": {
    "colab": {
     "base_uri": "https://localhost:8080/"
    },
    "id": "MKpbVqfU7rDu",
    "outputId": "2a11fd90-92d6-418f-a87a-e5c593c66b43"
   },
   "outputs": [
    {
     "name": "stdout",
     "output_type": "stream",
     "text": [
      "Model: \"sequential_2\"\n",
      "_________________________________________________________________\n",
      " Layer (type)                Output Shape              Param #   \n",
      "=================================================================\n",
      " conv2d_6 (Conv2D)           (None, 48, 48, 32)        320       \n",
      "                                                                 \n",
      " max_pooling2d_6 (MaxPooling  (None, 24, 24, 32)       0         \n",
      " 2D)                                                             \n",
      "                                                                 \n",
      " conv2d_7 (Conv2D)           (None, 22, 22, 64)        18496     \n",
      "                                                                 \n",
      " max_pooling2d_7 (MaxPooling  (None, 11, 11, 64)       0         \n",
      " 2D)                                                             \n",
      "                                                                 \n",
      " conv2d_8 (Conv2D)           (None, 9, 9, 128)         73856     \n",
      "                                                                 \n",
      " max_pooling2d_8 (MaxPooling  (None, 4, 4, 128)        0         \n",
      " 2D)                                                             \n",
      "                                                                 \n",
      " flatten_2 (Flatten)         (None, 2048)              0         \n",
      "                                                                 \n",
      " dense_6 (Dense)             (None, 1024)              2098176   \n",
      "                                                                 \n",
      " dropout_4 (Dropout)         (None, 1024)              0         \n",
      "                                                                 \n",
      " dense_7 (Dense)             (None, 128)               131200    \n",
      "                                                                 \n",
      " dropout_5 (Dropout)         (None, 128)               0         \n",
      "                                                                 \n",
      " dense_8 (Dense)             (None, 1)                 129       \n",
      "                                                                 \n",
      "=================================================================\n",
      "Total params: 2,322,177\n",
      "Trainable params: 2,322,177\n",
      "Non-trainable params: 0\n",
      "_________________________________________________________________\n"
     ]
    }
   ],
   "source": [
    "model = Sequential()\n",
    "\n",
    "model.add(Conv2D(32, (3, 3), activation=\"relu\", input_shape=X_test.shape[1:]))\n",
    "model.add(MaxPooling2D(2, 2))\n",
    "\n",
    "model.add(Conv2D(64, (3, 3), activation=\"relu\"))\n",
    "model.add(MaxPooling2D(2, 2))\n",
    "\n",
    "model.add(Conv2D(128, (3, 3), activation=\"relu\"))\n",
    "model.add(MaxPooling2D(2, 2))\n",
    "\n",
    "model.add(Flatten())\n",
    "model.add(Dense(1024, activation=\"relu\"))\n",
    "model.add(Dropout(0.5))\n",
    "model.add(Dense(128, activation=\"relu\"))\n",
    "model.add(Dropout(0.5))\n",
    "model.add(Dense(1, activation=\"sigmoid\"))\n",
    "\n",
    "model.compile(loss=\"binary_crossentropy\", metrics=[\"accuracy\"], optimizer=\"adam\")\n",
    "\n",
    "model.summary()"
   ]
  },
  {
   "cell_type": "code",
   "execution_count": null,
   "metadata": {
    "colab": {
     "base_uri": "https://localhost:8080/"
    },
    "id": "s1tVqR65jgdr",
    "outputId": "05812f7e-744c-4c31-e30c-f84e10ada07a"
   },
   "outputs": [
    {
     "name": "stdout",
     "output_type": "stream",
     "text": [
      "Epoch 1/300\n",
      "1/1 [==============================] - ETA: 0s - loss: 0.6934 - accuracy: 0.5005\n",
      "Epoch 1: val_loss improved from inf to 0.68421, saving model to MouthModel.h5\n",
      "1/1 [==============================] - 5s 5s/step - loss: 0.6934 - accuracy: 0.5005 - val_loss: 0.6842 - val_accuracy: 0.5469 - lr: 0.0010\n",
      "Epoch 2/300\n",
      "1/1 [==============================] - ETA: 0s - loss: 0.6779 - accuracy: 0.5809\n",
      "Epoch 2: val_loss improved from 0.68421 to 0.66694, saving model to MouthModel.h5\n",
      "1/1 [==============================] - 3s 3s/step - loss: 0.6779 - accuracy: 0.5809 - val_loss: 0.6669 - val_accuracy: 0.6992 - lr: 0.0010\n",
      "Epoch 3/300\n",
      "1/1 [==============================] - ETA: 0s - loss: 0.6567 - accuracy: 0.6992\n",
      "Epoch 3: val_loss did not improve from 0.66694\n",
      "1/1 [==============================] - 3s 3s/step - loss: 0.6567 - accuracy: 0.6992 - val_loss: 0.7173 - val_accuracy: 0.5254 - lr: 0.0010\n",
      "Epoch 4/300\n",
      "1/1 [==============================] - ETA: 0s - loss: 0.7092 - accuracy: 0.4917\n",
      "Epoch 4: val_loss did not improve from 0.66694\n",
      "1/1 [==============================] - 3s 3s/step - loss: 0.7092 - accuracy: 0.4917 - val_loss: 0.6933 - val_accuracy: 0.5273 - lr: 0.0010\n",
      "Epoch 5/300\n",
      "1/1 [==============================] - ETA: 0s - loss: 0.6479 - accuracy: 0.5995\n",
      "Epoch 5: val_loss did not improve from 0.66694\n",
      "1/1 [==============================] - 2s 2s/step - loss: 0.6479 - accuracy: 0.5995 - val_loss: 0.6873 - val_accuracy: 0.5371 - lr: 0.0010\n",
      "Epoch 6/300\n",
      "1/1 [==============================] - ETA: 0s - loss: 0.6506 - accuracy: 0.5877\n",
      "Epoch 6: val_loss improved from 0.66694 to 0.63210, saving model to MouthModel.h5\n",
      "1/1 [==============================] - 3s 3s/step - loss: 0.6506 - accuracy: 0.5877 - val_loss: 0.6321 - val_accuracy: 0.6992 - lr: 0.0010\n",
      "Epoch 7/300\n",
      "1/1 [==============================] - ETA: 0s - loss: 0.5890 - accuracy: 0.7892\n",
      "Epoch 7: val_loss did not improve from 0.63210\n",
      "1/1 [==============================] - 2s 2s/step - loss: 0.5890 - accuracy: 0.7892 - val_loss: 0.6828 - val_accuracy: 0.5000 - lr: 0.0010\n",
      "Epoch 8/300\n",
      "1/1 [==============================] - ETA: 0s - loss: 0.6179 - accuracy: 0.5287\n",
      "Epoch 8: val_loss improved from 0.63210 to 0.61965, saving model to MouthModel.h5\n",
      "1/1 [==============================] - 3s 3s/step - loss: 0.6179 - accuracy: 0.5287 - val_loss: 0.6196 - val_accuracy: 0.6309 - lr: 0.0010\n",
      "Epoch 9/300\n",
      "1/1 [==============================] - ETA: 0s - loss: 0.5581 - accuracy: 0.7049\n",
      "Epoch 9: val_loss improved from 0.61965 to 0.59598, saving model to MouthModel.h5\n",
      "1/1 [==============================] - 3s 3s/step - loss: 0.5581 - accuracy: 0.7049 - val_loss: 0.5960 - val_accuracy: 0.7031 - lr: 0.0010\n",
      "Epoch 10/300\n",
      "1/1 [==============================] - ETA: 0s - loss: 0.5125 - accuracy: 0.8373\n",
      "Epoch 10: val_loss improved from 0.59598 to 0.58714, saving model to MouthModel.h5\n",
      "1/1 [==============================] - 3s 3s/step - loss: 0.5125 - accuracy: 0.8373 - val_loss: 0.5871 - val_accuracy: 0.7012 - lr: 0.0010\n",
      "Epoch 11/300\n",
      "1/1 [==============================] - ETA: 0s - loss: 0.4908 - accuracy: 0.8091\n",
      "Epoch 11: val_loss improved from 0.58714 to 0.55803, saving model to MouthModel.h5\n",
      "1/1 [==============================] - 3s 3s/step - loss: 0.4908 - accuracy: 0.8091 - val_loss: 0.5580 - val_accuracy: 0.7188 - lr: 0.0010\n",
      "Epoch 12/300\n",
      "1/1 [==============================] - ETA: 0s - loss: 0.4382 - accuracy: 0.8296\n",
      "Epoch 12: val_loss did not improve from 0.55803\n",
      "1/1 [==============================] - 3s 3s/step - loss: 0.4382 - accuracy: 0.8296 - val_loss: 0.5748 - val_accuracy: 0.6992 - lr: 0.0010\n",
      "Epoch 13/300\n",
      "1/1 [==============================] - ETA: 0s - loss: 0.4627 - accuracy: 0.7939\n",
      "Epoch 13: val_loss did not improve from 0.55803\n",
      "1/1 [==============================] - 3s 3s/step - loss: 0.4627 - accuracy: 0.7939 - val_loss: 0.5768 - val_accuracy: 0.7246 - lr: 0.0010\n",
      "Epoch 14/300\n",
      "1/1 [==============================] - ETA: 0s - loss: 0.3997 - accuracy: 0.8311\n",
      "Epoch 14: val_loss did not improve from 0.55803\n",
      "1/1 [==============================] - 3s 3s/step - loss: 0.3997 - accuracy: 0.8311 - val_loss: 0.6873 - val_accuracy: 0.6855 - lr: 0.0010\n",
      "Epoch 15/300\n",
      "1/1 [==============================] - ETA: 0s - loss: 0.4555 - accuracy: 0.7964\n",
      "Epoch 15: val_loss did not improve from 0.55803\n",
      "1/1 [==============================] - 3s 3s/step - loss: 0.4555 - accuracy: 0.7964 - val_loss: 0.6392 - val_accuracy: 0.6914 - lr: 0.0010\n",
      "Epoch 16/300\n",
      "1/1 [==============================] - ETA: 0s - loss: 0.3707 - accuracy: 0.8403\n",
      "Epoch 16: val_loss did not improve from 0.55803\n",
      "1/1 [==============================] - 3s 3s/step - loss: 0.3707 - accuracy: 0.8403 - val_loss: 0.6234 - val_accuracy: 0.7109 - lr: 0.0010\n",
      "Epoch 17/300\n",
      "1/1 [==============================] - ETA: 0s - loss: 0.4231 - accuracy: 0.8276\n",
      "Epoch 17: val_loss did not improve from 0.55803\n",
      "1/1 [==============================] - 3s 3s/step - loss: 0.4231 - accuracy: 0.8276 - val_loss: 0.5667 - val_accuracy: 0.7480 - lr: 0.0010\n",
      "Epoch 18/300\n",
      "1/1 [==============================] - ETA: 0s - loss: 0.3369 - accuracy: 0.8718\n",
      "Epoch 18: val_loss did not improve from 0.55803\n",
      "1/1 [==============================] - 2s 2s/step - loss: 0.3369 - accuracy: 0.8718 - val_loss: 0.5847 - val_accuracy: 0.7383 - lr: 0.0010\n",
      "Epoch 19/300\n",
      "1/1 [==============================] - ETA: 0s - loss: 0.3343 - accuracy: 0.8608\n",
      "Epoch 19: val_loss did not improve from 0.55803\n",
      "1/1 [==============================] - 3s 3s/step - loss: 0.3343 - accuracy: 0.8608 - val_loss: 0.6339 - val_accuracy: 0.7305 - lr: 0.0010\n",
      "Epoch 20/300\n",
      "1/1 [==============================] - ETA: 0s - loss: 0.4149 - accuracy: 0.8128\n",
      "Epoch 20: val_loss improved from 0.55803 to 0.54309, saving model to MouthModel.h5\n",
      "1/1 [==============================] - 3s 3s/step - loss: 0.4149 - accuracy: 0.8128 - val_loss: 0.5431 - val_accuracy: 0.7559 - lr: 0.0010\n",
      "Epoch 21/300\n",
      "1/1 [==============================] - ETA: 0s - loss: 0.3339 - accuracy: 0.8651\n",
      "Epoch 21: val_loss improved from 0.54309 to 0.43513, saving model to MouthModel.h5\n",
      "1/1 [==============================] - 3s 3s/step - loss: 0.3339 - accuracy: 0.8651 - val_loss: 0.4351 - val_accuracy: 0.8164 - lr: 0.0010\n",
      "Epoch 22/300\n",
      "1/1 [==============================] - ETA: 0s - loss: 0.3179 - accuracy: 0.8879\n",
      "Epoch 22: val_loss did not improve from 0.43513\n",
      "1/1 [==============================] - 2s 2s/step - loss: 0.3179 - accuracy: 0.8879 - val_loss: 0.4433 - val_accuracy: 0.8008 - lr: 0.0010\n",
      "Epoch 23/300\n",
      "1/1 [==============================] - ETA: 0s - loss: 0.3339 - accuracy: 0.8721\n",
      "Epoch 23: val_loss did not improve from 0.43513\n",
      "1/1 [==============================] - 3s 3s/step - loss: 0.3339 - accuracy: 0.8721 - val_loss: 0.4678 - val_accuracy: 0.7754 - lr: 0.0010\n",
      "Epoch 24/300\n",
      "1/1 [==============================] - ETA: 0s - loss: 0.3067 - accuracy: 0.8828\n",
      "Epoch 24: val_loss did not improve from 0.43513\n",
      "1/1 [==============================] - 3s 3s/step - loss: 0.3067 - accuracy: 0.8828 - val_loss: 0.5031 - val_accuracy: 0.7676 - lr: 0.0010\n",
      "Epoch 25/300\n",
      "1/1 [==============================] - ETA: 0s - loss: 0.2982 - accuracy: 0.8818\n",
      "Epoch 25: val_loss did not improve from 0.43513\n",
      "1/1 [==============================] - 3s 3s/step - loss: 0.2982 - accuracy: 0.8818 - val_loss: 0.5386 - val_accuracy: 0.7598 - lr: 0.0010\n",
      "Epoch 26/300\n",
      "1/1 [==============================] - ETA: 0s - loss: 0.3184 - accuracy: 0.8685\n",
      "Epoch 26: val_loss did not improve from 0.43513\n",
      "1/1 [==============================] - 3s 3s/step - loss: 0.3184 - accuracy: 0.8685 - val_loss: 0.4996 - val_accuracy: 0.7773 - lr: 0.0010\n",
      "Epoch 27/300\n",
      "1/1 [==============================] - ETA: 0s - loss: 0.2885 - accuracy: 0.8777\n",
      "Epoch 27: val_loss did not improve from 0.43513\n",
      "1/1 [==============================] - 3s 3s/step - loss: 0.2885 - accuracy: 0.8777 - val_loss: 0.4561 - val_accuracy: 0.7969 - lr: 0.0010\n",
      "Epoch 28/300\n",
      "1/1 [==============================] - ETA: 0s - loss: 0.2804 - accuracy: 0.8980\n",
      "Epoch 28: val_loss did not improve from 0.43513\n",
      "1/1 [==============================] - 2s 2s/step - loss: 0.2804 - accuracy: 0.8980 - val_loss: 0.4526 - val_accuracy: 0.8008 - lr: 0.0010\n",
      "Epoch 29/300\n",
      "1/1 [==============================] - ETA: 0s - loss: 0.3133 - accuracy: 0.8853\n",
      "Epoch 29: val_loss improved from 0.43513 to 0.42897, saving model to MouthModel.h5\n",
      "1/1 [==============================] - 3s 3s/step - loss: 0.3133 - accuracy: 0.8853 - val_loss: 0.4290 - val_accuracy: 0.8125 - lr: 0.0010\n",
      "Epoch 30/300\n",
      "1/1 [==============================] - ETA: 0s - loss: 0.2834 - accuracy: 0.9005\n",
      "Epoch 30: val_loss did not improve from 0.42897\n",
      "1/1 [==============================] - 2s 2s/step - loss: 0.2834 - accuracy: 0.9005 - val_loss: 0.4414 - val_accuracy: 0.8008 - lr: 0.0010\n",
      "Epoch 31/300\n",
      "1/1 [==============================] - ETA: 0s - loss: 0.2638 - accuracy: 0.8989\n",
      "Epoch 31: val_loss did not improve from 0.42897\n",
      "1/1 [==============================] - 3s 3s/step - loss: 0.2638 - accuracy: 0.8989 - val_loss: 0.5151 - val_accuracy: 0.7754 - lr: 0.0010\n",
      "Epoch 32/300\n",
      "1/1 [==============================] - ETA: 0s - loss: 0.2677 - accuracy: 0.8963\n",
      "Epoch 32: val_loss did not improve from 0.42897\n",
      "1/1 [==============================] - 2s 2s/step - loss: 0.2677 - accuracy: 0.8963 - val_loss: 0.4796 - val_accuracy: 0.7930 - lr: 0.0010\n",
      "Epoch 33/300\n",
      "1/1 [==============================] - ETA: 0s - loss: 0.2668 - accuracy: 0.8938\n",
      "Epoch 33: val_loss improved from 0.42897 to 0.40519, saving model to MouthModel.h5\n",
      "1/1 [==============================] - 3s 3s/step - loss: 0.2668 - accuracy: 0.8938 - val_loss: 0.4052 - val_accuracy: 0.8320 - lr: 0.0010\n",
      "Epoch 34/300\n",
      "1/1 [==============================] - ETA: 0s - loss: 0.2277 - accuracy: 0.9175\n",
      "Epoch 34: val_loss improved from 0.40519 to 0.38270, saving model to MouthModel.h5\n",
      "1/1 [==============================] - 3s 3s/step - loss: 0.2277 - accuracy: 0.9175 - val_loss: 0.3827 - val_accuracy: 0.8340 - lr: 0.0010\n",
      "Epoch 35/300\n",
      "1/1 [==============================] - ETA: 0s - loss: 0.2699 - accuracy: 0.8963\n",
      "Epoch 35: val_loss did not improve from 0.38270\n",
      "1/1 [==============================] - 2s 2s/step - loss: 0.2699 - accuracy: 0.8963 - val_loss: 0.4132 - val_accuracy: 0.8105 - lr: 0.0010\n",
      "Epoch 36/300\n",
      "1/1 [==============================] - ETA: 0s - loss: 0.2343 - accuracy: 0.9155\n",
      "Epoch 36: val_loss did not improve from 0.38270\n",
      "1/1 [==============================] - 3s 3s/step - loss: 0.2343 - accuracy: 0.9155 - val_loss: 0.4340 - val_accuracy: 0.8184 - lr: 0.0010\n",
      "Epoch 37/300\n",
      "1/1 [==============================] - ETA: 0s - loss: 0.2445 - accuracy: 0.9087\n",
      "Epoch 37: val_loss did not improve from 0.38270\n",
      "1/1 [==============================] - 3s 3s/step - loss: 0.2445 - accuracy: 0.9087 - val_loss: 0.4860 - val_accuracy: 0.7930 - lr: 0.0010\n",
      "Epoch 38/300\n",
      "1/1 [==============================] - ETA: 0s - loss: 0.2504 - accuracy: 0.9077\n",
      "Epoch 38: val_loss did not improve from 0.38270\n",
      "1/1 [==============================] - 3s 3s/step - loss: 0.2504 - accuracy: 0.9077 - val_loss: 0.4255 - val_accuracy: 0.8262 - lr: 0.0010\n",
      "Epoch 39/300\n",
      "1/1 [==============================] - ETA: 0s - loss: 0.2358 - accuracy: 0.9106\n",
      "Epoch 39: val_loss did not improve from 0.38270\n",
      "1/1 [==============================] - 3s 3s/step - loss: 0.2358 - accuracy: 0.9106 - val_loss: 0.4155 - val_accuracy: 0.8145 - lr: 0.0010\n",
      "Epoch 40/300\n",
      "1/1 [==============================] - ETA: 0s - loss: 0.2407 - accuracy: 0.9073\n",
      "Epoch 40: val_loss improved from 0.38270 to 0.33960, saving model to MouthModel.h5\n",
      "1/1 [==============================] - 3s 3s/step - loss: 0.2407 - accuracy: 0.9073 - val_loss: 0.3396 - val_accuracy: 0.8652 - lr: 0.0010\n",
      "Epoch 41/300\n",
      "1/1 [==============================] - ETA: 0s - loss: 0.2342 - accuracy: 0.9082\n",
      "Epoch 41: val_loss did not improve from 0.33960\n",
      "1/1 [==============================] - 3s 3s/step - loss: 0.2342 - accuracy: 0.9082 - val_loss: 0.3687 - val_accuracy: 0.8398 - lr: 0.0010\n",
      "Epoch 42/300\n",
      "1/1 [==============================] - ETA: 0s - loss: 0.2225 - accuracy: 0.9123\n",
      "Epoch 42: val_loss did not improve from 0.33960\n",
      "1/1 [==============================] - 2s 2s/step - loss: 0.2225 - accuracy: 0.9123 - val_loss: 0.4175 - val_accuracy: 0.8379 - lr: 0.0010\n",
      "Epoch 43/300\n",
      "1/1 [==============================] - ETA: 0s - loss: 0.2121 - accuracy: 0.9224\n",
      "Epoch 43: val_loss did not improve from 0.33960\n",
      "1/1 [==============================] - 2s 2s/step - loss: 0.2121 - accuracy: 0.9224 - val_loss: 0.4149 - val_accuracy: 0.8223 - lr: 0.0010\n",
      "Epoch 44/300\n",
      "1/1 [==============================] - ETA: 0s - loss: 0.1920 - accuracy: 0.9266\n",
      "Epoch 44: val_loss did not improve from 0.33960\n",
      "1/1 [==============================] - 2s 2s/step - loss: 0.1920 - accuracy: 0.9266 - val_loss: 0.3918 - val_accuracy: 0.8438 - lr: 0.0010\n",
      "Epoch 45/300\n",
      "1/1 [==============================] - ETA: 0s - loss: 0.2027 - accuracy: 0.9207\n",
      "Epoch 45: val_loss improved from 0.33960 to 0.30546, saving model to MouthModel.h5\n",
      "1/1 [==============================] - 3s 3s/step - loss: 0.2027 - accuracy: 0.9207 - val_loss: 0.3055 - val_accuracy: 0.8633 - lr: 0.0010\n",
      "Epoch 46/300\n",
      "1/1 [==============================] - ETA: 0s - loss: 0.1946 - accuracy: 0.9287\n",
      "Epoch 46: val_loss did not improve from 0.30546\n",
      "1/1 [==============================] - 3s 3s/step - loss: 0.1946 - accuracy: 0.9287 - val_loss: 0.3125 - val_accuracy: 0.8574 - lr: 0.0010\n",
      "Epoch 47/300\n",
      "1/1 [==============================] - ETA: 0s - loss: 0.1906 - accuracy: 0.9334\n",
      "Epoch 47: val_loss did not improve from 0.30546\n",
      "1/1 [==============================] - 2s 2s/step - loss: 0.1906 - accuracy: 0.9334 - val_loss: 0.3802 - val_accuracy: 0.8398 - lr: 0.0010\n",
      "Epoch 48/300\n",
      "1/1 [==============================] - ETA: 0s - loss: 0.1967 - accuracy: 0.9287\n",
      "Epoch 48: val_loss did not improve from 0.30546\n",
      "1/1 [==============================] - 3s 3s/step - loss: 0.1967 - accuracy: 0.9287 - val_loss: 0.3468 - val_accuracy: 0.8691 - lr: 0.0010\n",
      "Epoch 49/300\n",
      "1/1 [==============================] - ETA: 0s - loss: 0.1947 - accuracy: 0.9283\n",
      "Epoch 49: val_loss did not improve from 0.30546\n",
      "1/1 [==============================] - 2s 2s/step - loss: 0.1947 - accuracy: 0.9283 - val_loss: 0.3090 - val_accuracy: 0.8711 - lr: 0.0010\n",
      "Epoch 50/300\n",
      "1/1 [==============================] - ETA: 0s - loss: 0.1996 - accuracy: 0.9275\n",
      "Epoch 50: val_loss did not improve from 0.30546\n",
      "1/1 [==============================] - 2s 2s/step - loss: 0.1996 - accuracy: 0.9275 - val_loss: 0.3063 - val_accuracy: 0.8516 - lr: 0.0010\n",
      "Epoch 51/300\n",
      "1/1 [==============================] - ETA: 0s - loss: 0.1899 - accuracy: 0.9277\n",
      "Epoch 51: val_loss did not improve from 0.30546\n",
      "1/1 [==============================] - 3s 3s/step - loss: 0.1899 - accuracy: 0.9277 - val_loss: 0.3108 - val_accuracy: 0.8730 - lr: 0.0010\n",
      "Epoch 52/300\n",
      "1/1 [==============================] - ETA: 0s - loss: 0.1873 - accuracy: 0.9292\n",
      "Epoch 52: val_loss did not improve from 0.30546\n",
      "1/1 [==============================] - 2s 2s/step - loss: 0.1873 - accuracy: 0.9292 - val_loss: 0.4012 - val_accuracy: 0.8418 - lr: 0.0010\n",
      "Epoch 53/300\n",
      "1/1 [==============================] - ETA: 0s - loss: 0.1914 - accuracy: 0.9277\n",
      "Epoch 53: val_loss did not improve from 0.30546\n",
      "1/1 [==============================] - 3s 3s/step - loss: 0.1914 - accuracy: 0.9277 - val_loss: 0.3212 - val_accuracy: 0.8633 - lr: 0.0010\n",
      "Epoch 54/300\n",
      "1/1 [==============================] - ETA: 0s - loss: 0.1826 - accuracy: 0.9300\n",
      "Epoch 54: val_loss improved from 0.30546 to 0.26675, saving model to MouthModel.h5\n",
      "1/1 [==============================] - 3s 3s/step - loss: 0.1826 - accuracy: 0.9300 - val_loss: 0.2667 - val_accuracy: 0.8848 - lr: 0.0010\n",
      "Epoch 55/300\n",
      "1/1 [==============================] - ETA: 0s - loss: 0.1751 - accuracy: 0.9376\n",
      "Epoch 55: val_loss did not improve from 0.26675\n",
      "1/1 [==============================] - 2s 2s/step - loss: 0.1751 - accuracy: 0.9376 - val_loss: 0.3052 - val_accuracy: 0.8672 - lr: 0.0010\n",
      "Epoch 56/300\n",
      "1/1 [==============================] - ETA: 0s - loss: 0.1708 - accuracy: 0.9360\n",
      "Epoch 56: val_loss did not improve from 0.26675\n",
      "1/1 [==============================] - 3s 3s/step - loss: 0.1708 - accuracy: 0.9360 - val_loss: 0.3087 - val_accuracy: 0.8711 - lr: 0.0010\n",
      "Epoch 57/300\n",
      "1/1 [==============================] - ETA: 0s - loss: 0.1829 - accuracy: 0.9351\n",
      "Epoch 57: val_loss did not improve from 0.26675\n",
      "1/1 [==============================] - 3s 3s/step - loss: 0.1829 - accuracy: 0.9351 - val_loss: 0.3211 - val_accuracy: 0.8750 - lr: 0.0010\n",
      "Epoch 58/300\n",
      "1/1 [==============================] - ETA: 0s - loss: 0.1593 - accuracy: 0.9452\n",
      "Epoch 58: val_loss improved from 0.26675 to 0.26065, saving model to MouthModel.h5\n",
      "1/1 [==============================] - 3s 3s/step - loss: 0.1593 - accuracy: 0.9452 - val_loss: 0.2606 - val_accuracy: 0.8887 - lr: 0.0010\n",
      "Epoch 59/300\n",
      "1/1 [==============================] - ETA: 0s - loss: 0.1685 - accuracy: 0.9368\n",
      "Epoch 59: val_loss did not improve from 0.26065\n",
      "1/1 [==============================] - 2s 2s/step - loss: 0.1685 - accuracy: 0.9368 - val_loss: 0.3177 - val_accuracy: 0.8594 - lr: 0.0010\n",
      "Epoch 60/300\n",
      "1/1 [==============================] - ETA: 0s - loss: 0.1646 - accuracy: 0.9326\n",
      "Epoch 60: val_loss did not improve from 0.26065\n",
      "1/1 [==============================] - 3s 3s/step - loss: 0.1646 - accuracy: 0.9326 - val_loss: 0.2900 - val_accuracy: 0.8809 - lr: 0.0010\n",
      "Epoch 61/300\n",
      "1/1 [==============================] - ETA: 0s - loss: 0.1569 - accuracy: 0.9418\n",
      "Epoch 61: val_loss did not improve from 0.26065\n",
      "1/1 [==============================] - 3s 3s/step - loss: 0.1569 - accuracy: 0.9418 - val_loss: 0.2855 - val_accuracy: 0.8828 - lr: 0.0010\n",
      "Epoch 62/300\n",
      "1/1 [==============================] - ETA: 0s - loss: 0.1533 - accuracy: 0.9434\n",
      "Epoch 62: val_loss did not improve from 0.26065\n",
      "1/1 [==============================] - 3s 3s/step - loss: 0.1533 - accuracy: 0.9434 - val_loss: 0.2637 - val_accuracy: 0.8848 - lr: 0.0010\n",
      "Epoch 63/300\n",
      "1/1 [==============================] - ETA: 0s - loss: 0.1637 - accuracy: 0.9346\n",
      "Epoch 63: val_loss improved from 0.26065 to 0.25907, saving model to MouthModel.h5\n",
      "1/1 [==============================] - 3s 3s/step - loss: 0.1637 - accuracy: 0.9346 - val_loss: 0.2591 - val_accuracy: 0.8867 - lr: 0.0010\n",
      "Epoch 64/300\n",
      "1/1 [==============================] - ETA: 0s - loss: 0.1559 - accuracy: 0.9410\n",
      "Epoch 64: val_loss did not improve from 0.25907\n",
      "1/1 [==============================] - 2s 2s/step - loss: 0.1559 - accuracy: 0.9410 - val_loss: 0.2777 - val_accuracy: 0.8848 - lr: 0.0010\n",
      "Epoch 65/300\n",
      "1/1 [==============================] - ETA: 0s - loss: 0.1459 - accuracy: 0.9503\n",
      "Epoch 65: val_loss improved from 0.25907 to 0.22840, saving model to MouthModel.h5\n",
      "1/1 [==============================] - 3s 3s/step - loss: 0.1459 - accuracy: 0.9503 - val_loss: 0.2284 - val_accuracy: 0.9141 - lr: 0.0010\n",
      "Epoch 66/300\n",
      "1/1 [==============================] - ETA: 0s - loss: 0.1528 - accuracy: 0.9434\n",
      "Epoch 66: val_loss did not improve from 0.22840\n",
      "1/1 [==============================] - 3s 3s/step - loss: 0.1528 - accuracy: 0.9434 - val_loss: 0.2778 - val_accuracy: 0.8848 - lr: 0.0010\n",
      "Epoch 67/300\n",
      "1/1 [==============================] - ETA: 0s - loss: 0.1295 - accuracy: 0.9562\n",
      "Epoch 67: val_loss did not improve from 0.22840\n",
      "1/1 [==============================] - 2s 2s/step - loss: 0.1295 - accuracy: 0.9562 - val_loss: 0.2542 - val_accuracy: 0.8828 - lr: 0.0010\n",
      "Epoch 68/300\n",
      "1/1 [==============================] - ETA: 0s - loss: 0.1628 - accuracy: 0.9342\n",
      "Epoch 68: val_loss improved from 0.22840 to 0.18812, saving model to MouthModel.h5\n",
      "1/1 [==============================] - 3s 3s/step - loss: 0.1628 - accuracy: 0.9342 - val_loss: 0.1881 - val_accuracy: 0.9277 - lr: 0.0010\n",
      "Epoch 69/300\n",
      "1/1 [==============================] - ETA: 0s - loss: 0.1535 - accuracy: 0.9452\n",
      "Epoch 69: val_loss did not improve from 0.18812\n",
      "1/1 [==============================] - 2s 2s/step - loss: 0.1535 - accuracy: 0.9452 - val_loss: 0.3851 - val_accuracy: 0.8633 - lr: 0.0010\n",
      "Epoch 70/300\n",
      "1/1 [==============================] - ETA: 0s - loss: 0.1505 - accuracy: 0.9458\n",
      "Epoch 70: val_loss did not improve from 0.18812\n",
      "1/1 [==============================] - 3s 3s/step - loss: 0.1505 - accuracy: 0.9458 - val_loss: 0.3689 - val_accuracy: 0.8633 - lr: 0.0010\n",
      "Epoch 71/300\n",
      "1/1 [==============================] - ETA: 0s - loss: 0.1381 - accuracy: 0.9497\n",
      "Epoch 71: val_loss improved from 0.18812 to 0.17603, saving model to MouthModel.h5\n",
      "1/1 [==============================] - 3s 3s/step - loss: 0.1381 - accuracy: 0.9497 - val_loss: 0.1760 - val_accuracy: 0.9336 - lr: 0.0010\n",
      "Epoch 72/300\n",
      "1/1 [==============================] - ETA: 0s - loss: 0.1678 - accuracy: 0.9365\n",
      "Epoch 72: val_loss did not improve from 0.17603\n",
      "1/1 [==============================] - 3s 3s/step - loss: 0.1678 - accuracy: 0.9365 - val_loss: 0.1939 - val_accuracy: 0.9160 - lr: 0.0010\n",
      "Epoch 73/300\n",
      "1/1 [==============================] - ETA: 0s - loss: 0.1324 - accuracy: 0.9477\n",
      "Epoch 73: val_loss did not improve from 0.17603\n",
      "1/1 [==============================] - 2s 2s/step - loss: 0.1324 - accuracy: 0.9477 - val_loss: 0.2657 - val_accuracy: 0.9023 - lr: 0.0010\n",
      "Epoch 74/300\n",
      "1/1 [==============================] - ETA: 0s - loss: 0.1462 - accuracy: 0.9545\n",
      "Epoch 74: val_loss did not improve from 0.17603\n",
      "1/1 [==============================] - 2s 2s/step - loss: 0.1462 - accuracy: 0.9545 - val_loss: 0.2399 - val_accuracy: 0.8945 - lr: 0.0010\n",
      "Epoch 75/300\n",
      "1/1 [==============================] - ETA: 0s - loss: 0.1413 - accuracy: 0.9497\n",
      "Epoch 75: val_loss did not improve from 0.17603\n",
      "1/1 [==============================] - 3s 3s/step - loss: 0.1413 - accuracy: 0.9497 - val_loss: 0.1831 - val_accuracy: 0.9180 - lr: 0.0010\n",
      "Epoch 76/300\n",
      "1/1 [==============================] - ETA: 0s - loss: 0.1409 - accuracy: 0.9512\n",
      "Epoch 76: val_loss did not improve from 0.17603\n",
      "1/1 [==============================] - 3s 3s/step - loss: 0.1409 - accuracy: 0.9512 - val_loss: 0.2022 - val_accuracy: 0.9121 - lr: 0.0010\n",
      "Epoch 77/300\n",
      "1/1 [==============================] - ETA: 0s - loss: 0.1251 - accuracy: 0.9654\n",
      "Epoch 77: val_loss did not improve from 0.17603\n",
      "1/1 [==============================] - 2s 2s/step - loss: 0.1251 - accuracy: 0.9654 - val_loss: 0.2609 - val_accuracy: 0.8945 - lr: 0.0010\n",
      "Epoch 78/300\n",
      "1/1 [==============================] - ETA: 0s - loss: 0.1158 - accuracy: 0.9578\n",
      "Epoch 78: val_loss did not improve from 0.17603\n",
      "1/1 [==============================] - 2s 2s/step - loss: 0.1158 - accuracy: 0.9578 - val_loss: 0.2368 - val_accuracy: 0.8965 - lr: 0.0010\n",
      "Epoch 79/300\n",
      "1/1 [==============================] - ETA: 0s - loss: 0.1443 - accuracy: 0.9469\n",
      "Epoch 79: val_loss did not improve from 0.17603\n",
      "1/1 [==============================] - 2s 2s/step - loss: 0.1443 - accuracy: 0.9469 - val_loss: 0.1998 - val_accuracy: 0.9199 - lr: 0.0010\n",
      "Epoch 80/300\n",
      "1/1 [==============================] - ETA: 0s - loss: 0.1257 - accuracy: 0.9609\n",
      "Epoch 80: val_loss did not improve from 0.17603\n",
      "1/1 [==============================] - 3s 3s/step - loss: 0.1257 - accuracy: 0.9609 - val_loss: 0.1822 - val_accuracy: 0.9219 - lr: 0.0010\n",
      "Epoch 81/300\n",
      "1/1 [==============================] - ETA: 0s - loss: 0.1297 - accuracy: 0.9528Restoring model weights from the end of the best epoch: 71.\n",
      "\n",
      "Epoch 81: val_loss did not improve from 0.17603\n",
      "1/1 [==============================] - 3s 3s/step - loss: 0.1297 - accuracy: 0.9528 - val_loss: 0.2327 - val_accuracy: 0.9102 - lr: 0.0010\n",
      "Epoch 81: early stopping\n"
     ]
    }
   ],
   "source": [
    "#history2 = model2.fit(X_train,y_train, batch_size=batch, epochs=100, validation_split=0.2,shuffle = True, verbose=1,callbacks=callbacks)\n",
    "history2 = model.fit(train_generator, epochs=300, shuffle=True, validation_data=validation_generator, validation_steps=validation_generator.samples//batch_val,steps_per_epoch=train_generator.samples//batch_train, callbacks=callbacks)"
   ]
  },
  {
   "cell_type": "code",
   "execution_count": null,
   "metadata": {
    "colab": {
     "base_uri": "https://localhost:8080/",
     "height": 582
    },
    "id": "J5manMTdJO1k",
    "outputId": "054491d5-430d-46f9-b843-4161f9be17ef"
   },
   "outputs": [
    {
     "data": {
      "image/png": "[encoded data removed]",
      "text/plain": [
       "<Figure size 432x288 with 1 Axes>"
      ]
     },
     "metadata": {
      "needs_background": "light"
     },
     "output_type": "display_data"
    },
    {
     "data": {
      "image/png": "[encoded data removed]",
      "text/plain": [
       "<Figure size 432x288 with 1 Axes>"
      ]
     },
     "metadata": {
      "needs_background": "light"
     },
     "output_type": "display_data"
    },
    {
     "name": "stdout",
     "output_type": "stream",
     "text": [
      "Model Evaluation\n",
      "Loss: 0.142\n",
      "Accuracy: 0.943\n",
      "\n"
     ]
    }
   ],
   "source": [
    "accuracy = history2.history['accuracy']\n",
    "val_accuracy = history2.history['val_accuracy']\n",
    "loss = history2.history['loss']\n",
    "val_loss = history2.history['val_loss']\n",
    "epochs = range(len(accuracy))\n",
    "\n",
    "plt.plot(epochs, accuracy, \"b\", label=\"trainning accuracy\")\n",
    "plt.plot(epochs, val_accuracy, \"r\", label=\"validation accuracy\")\n",
    "plt.legend()\n",
    "plt.show()\n",
    "\n",
    "plt.plot(epochs, loss, \"b\", label=\"trainning loss\")\n",
    "plt.plot(epochs, val_loss, \"r\", label=\"validation loss\")\n",
    "plt.legend()\n",
    "plt.show()\n",
    "\n",
    "(loss,acc) = model.evaluate(X_test,y_test, verbose=0)\n",
    "print('Model Evaluation')\n",
    "print('Loss: %.3f' % loss)\n",
    "print('Accuracy: %.3f' % acc)\n",
    "print()"
   ]
  }
 ],
 "metadata": {
  "accelerator": "GPU",
  "colab": {
   "provenance": []
  },
  "gpuClass": "standard",
  "kernelspec": {
   "display_name": "Python 3 (ipykernel)",
   "language": "python",
   "name": "python3"
  },
  "language_info": {
   "codemirror_mode": {
    "name": "ipython",
    "version": 3
   },
   "file_extension": ".py",
   "mimetype": "text/x-python",
   "name": "python",
   "nbconvert_exporter": "python",
   "pygments_lexer": "ipython3",
   "version": "3.10.0"
  }
 },
 "nbformat": 4,
 "nbformat_minor": 1
}
