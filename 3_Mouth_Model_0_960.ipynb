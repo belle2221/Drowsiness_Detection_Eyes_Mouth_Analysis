{
  "cells": [
    {
      "cell_type": "code",
      "execution_count": 1,
      "metadata": {
        "id": "RJPuE8Hxx44L"
      },
      "outputs": [],
      "source": [
        "import numpy as np\n",
        "import argparse\n",
        "import dlib\n",
        "import cv2\n",
        "import os\n",
        "import matplotlib.pyplot as plt\n",
        "from keras.preprocessing.image import ImageDataGenerator\n",
        "import imutils\n",
        "from imutils import face_utils\n",
        "from tensorflow.keras.layers import Input, Lambda, Dense, Flatten, Conv2D, MaxPooling2D, Dropout\n",
        "from tensorflow.keras.models import Model\n",
        "from tensorflow.keras.models import Sequential\n",
        "from keras.layers import BatchNormalization\n",
        "from tensorflow.keras.optimizers import Adam\n",
        "from keras.preprocessing.image import ImageDataGenerator\n",
        "import tensorflow as tf"
      ]
    },
    {
      "cell_type": "code",
      "execution_count": 2,
      "metadata": {
        "colab": {
          "base_uri": "https://localhost:8080/"
        },
        "id": "4Tl9R_EZx1nP",
        "outputId": "93c8843a-da59-4f11-e859-75e15dcd17b3"
      },
      "outputs": [
        {
          "output_type": "stream",
          "name": "stdout",
          "text": [
            "Mounted at /content/drive\n"
          ]
        }
      ],
      "source": [
        "from google.colab import drive\n",
        "drive.mount('/content/drive')"
      ]
    },
    {
      "cell_type": "code",
      "execution_count": 3,
      "metadata": {
        "colab": {
          "base_uri": "https://localhost:8080/"
        },
        "id": "eXmr0O4jx-iE",
        "outputId": "1218ccbc-01ee-44cd-e8fd-86a09f5628b5"
      },
      "outputs": [
        {
          "output_type": "stream",
          "name": "stdout",
          "text": [
            "Done\n"
          ]
        }
      ],
      "source": [
        "from zipfile import ZipFile\n",
        "file_name = \"/content/drive/MyDrive/mouth_dataset_split.zip\"\n",
        "\n",
        "with ZipFile(file_name,'r') as zip:\n",
        "  zip.extractall()\n",
        "  print('Done')"
      ]
    },
    {
      "cell_type": "code",
      "execution_count": 4,
      "metadata": {
        "colab": {
          "base_uri": "https://localhost:8080/"
        },
        "id": "CEqAvgr3x_53",
        "outputId": "73a86acc-bdcc-41ca-9847-67065adda90d"
      },
      "outputs": [
        {
          "output_type": "stream",
          "name": "stdout",
          "text": [
            "Done\n"
          ]
        }
      ],
      "source": [
        "from zipfile import ZipFile\n",
        "file_name = \"/content/drive/MyDrive/Shared.zip\"\n",
        "\n",
        "with ZipFile(file_name,'r') as zip:\n",
        "  zip.extractall()\n",
        "  print('Done')"
      ]
    },
    {
      "cell_type": "code",
      "execution_count": 5,
      "metadata": {
        "id": "Nr8COvtfyBQw"
      },
      "outputs": [],
      "source": [
        "detector = dlib.get_frontal_face_detector()\n",
        "predictor = dlib.shape_predictor('/content/Shared/shape_predictor_68_face_landmarks.dat')\n"
      ]
    },
    {
      "cell_type": "code",
      "execution_count": 6,
      "metadata": {
        "id": "Aj6jSADgydes"
      },
      "outputs": [],
      "source": [
        "def get_data(direc):\n",
        "    X =[]\n",
        "    y = []\n",
        "    IMG_SIZE = 50\n",
        "    categories = os.listdir(direc)\n",
        "    for category in categories:\n",
        "        path_link = os.path.join(direc, category)\n",
        "        for image in os.listdir(path_link):\n",
        "            image_array = cv2.imread(os.path.join(path_link, image),cv2.IMREAD_GRAYSCALE)\n",
        "            image_array = cv2.resize(image_array, (IMG_SIZE, IMG_SIZE))\n",
        "            X.append(image_array)\n",
        "            y.append(int(category))\n",
        "    return X,y\n",
        "\n"
      ]
    },
    {
      "cell_type": "code",
      "execution_count": 7,
      "metadata": {
        "id": "BTqTHlEFykZy"
      },
      "outputs": [],
      "source": [
        "X_train,y_train = get_data(\"/content/mouth_dataset_split/train\")\n",
        "X_test,y_test = get_data(\"/content/mouth_dataset_split/test\")"
      ]
    },
    {
      "cell_type": "code",
      "execution_count": 8,
      "metadata": {
        "id": "vI96sYQXyl8Q"
      },
      "outputs": [],
      "source": [
        "X_train = np.array(X_train).reshape(-1,50,50,1)\n",
        "X_test = np.array(X_test).reshape(-1,50,50,1)\n",
        "X_train = X_train.astype('float32') / 255.0\n",
        "X_test = X_test.astype('float32') / 255.0"
      ]
    },
    {
      "cell_type": "code",
      "execution_count": 9,
      "metadata": {
        "id": "84BNZMoLynZK"
      },
      "outputs": [],
      "source": [
        "y_train = np.array(y_train).reshape(-1,1)\n",
        "y_test = np.array(y_test).reshape(-1,1)\n",
        "y_train = y_train.flatten()\n",
        "y_test = y_test.flatten()"
      ]
    },
    {
      "cell_type": "code",
      "execution_count": 10,
      "metadata": {
        "id": "ioInRxBRyr86"
      },
      "outputs": [],
      "source": [
        "train_dir = \"/content/mouth_dataset_split/train\"\n",
        "test_dir = \"/content/mouth_dataset_split/test\""
      ]
    },
    {
      "cell_type": "code",
      "source": [
        "train_datagen = ImageDataGenerator(horizontal_flip=True,\n",
        "                                   rescale=1./255,\n",
        "                                   rotation_range=20,\n",
        "                                   width_shift_range=0.1,\n",
        "                                   height_shift_range=0.1,\n",
        "                                   shear_range=2,\n",
        "                                   zoom_range=0.2,\n",
        "                                   validation_split=0.2, \n",
        "                                   dtype=np.float32)"
      ],
      "metadata": {
        "id": "0EOrya_txy7J"
      },
      "execution_count": 11,
      "outputs": []
    },
    {
      "cell_type": "code",
      "source": [
        "batch_train = 2048\n",
        "batch_val = 512"
      ],
      "metadata": {
        "id": "9GL2FTwSZTwZ"
      },
      "execution_count": 12,
      "outputs": []
    },
    {
      "cell_type": "code",
      "source": [
        "validation_generator = train_datagen.flow_from_directory(\n",
        "    train_dir,  # Source directory\n",
        "    target_size=(50, 50),  # Resized\n",
        "    batch_size=batch_val,\n",
        "    color_mode='grayscale',\n",
        "    subset='validation',\n",
        "    class_mode='binary')"
      ],
      "metadata": {
        "colab": {
          "base_uri": "https://localhost:8080/"
        },
        "id": "zK75es92x2TM",
        "outputId": "154c78a5-0fb2-4794-c0cf-ed4d9dea08a0"
      },
      "execution_count": 13,
      "outputs": [
        {
          "output_type": "stream",
          "name": "stdout",
          "text": [
            "Found 807 images belonging to 2 classes.\n"
          ]
        }
      ]
    },
    {
      "cell_type": "code",
      "source": [
        "train_generator = train_datagen.flow_from_directory(\n",
        "    train_dir,  # Source directory\n",
        "    target_size=(50, 50),  #Resized to this size\n",
        "    batch_size=batch_train,\n",
        "    color_mode='grayscale',\n",
        "    subset='training',\n",
        "    class_mode='binary')"
      ],
      "metadata": {
        "colab": {
          "base_uri": "https://localhost:8080/"
        },
        "id": "edHXOFa9x1LE",
        "outputId": "388f7c11-e21b-4cbb-b177-9e000600f542"
      },
      "execution_count": 14,
      "outputs": [
        {
          "output_type": "stream",
          "name": "stdout",
          "text": [
            "Found 3234 images belonging to 2 classes.\n"
          ]
        }
      ]
    },
    {
      "cell_type": "code",
      "source": [
        "learning_rate = 0.0001\n",
        "adam = Adam(lr=learning_rate)"
      ],
      "metadata": {
        "id": "-v3uUBMOUJKu",
        "colab": {
          "base_uri": "https://localhost:8080/"
        },
        "outputId": "255b93de-eb02-4f9f-886b-f34f6f82ce8e"
      },
      "execution_count": 15,
      "outputs": [
        {
          "output_type": "stream",
          "name": "stderr",
          "text": [
            "/usr/local/lib/python3.8/dist-packages/keras/optimizers/optimizer_v2/adam.py:110: UserWarning: The `lr` argument is deprecated, use `learning_rate` instead.\n",
            "  super(Adam, self).__init__(name, **kwargs)\n"
          ]
        }
      ]
    },
    {
      "cell_type": "code",
      "source": [
        "from tensorflow.keras.callbacks import EarlyStopping, ReduceLROnPlateau, ModelCheckpoint\n",
        "callbacks = [\n",
        "    EarlyStopping(monitor = 'val_loss',\n",
        "                          min_delta = 0, #minimium amount of change to count as an improvement\n",
        "                          patience = 10, # how many epochs to wait before stopping\n",
        "                          verbose = 1,\n",
        "                          restore_best_weights = True),\n",
        "    ReduceLROnPlateau(factor=0.9, patience=10, min_lr=0.001),\n",
        "    ModelCheckpoint('MouthModel.h5', verbose=1, save_best_only=True)#, save_weights_only=True\n",
        "]"
      ],
      "metadata": {
        "id": "3aNotr95Jb08"
      },
      "execution_count": 16,
      "outputs": []
    },
    {
      "cell_type": "code",
      "execution_count": 17,
      "metadata": {
        "colab": {
          "base_uri": "https://localhost:8080/"
        },
        "id": "MKpbVqfU7rDu",
        "outputId": "06947025-2b25-4002-c5fb-0f35ac71f77d"
      },
      "outputs": [
        {
          "output_type": "stream",
          "name": "stdout",
          "text": [
            "Model: \"sequential\"\n",
            "_________________________________________________________________\n",
            " Layer (type)                Output Shape              Param #   \n",
            "=================================================================\n",
            " conv2d (Conv2D)             (None, 48, 48, 32)        320       \n",
            "                                                                 \n",
            " conv2d_1 (Conv2D)           (None, 46, 46, 32)        9248      \n",
            "                                                                 \n",
            " max_pooling2d (MaxPooling2D  (None, 23, 23, 32)       0         \n",
            " )                                                               \n",
            "                                                                 \n",
            " conv2d_2 (Conv2D)           (None, 21, 21, 64)        18496     \n",
            "                                                                 \n",
            " max_pooling2d_1 (MaxPooling  (None, 10, 10, 64)       0         \n",
            " 2D)                                                             \n",
            "                                                                 \n",
            " conv2d_3 (Conv2D)           (None, 8, 8, 128)         73856     \n",
            "                                                                 \n",
            " max_pooling2d_2 (MaxPooling  (None, 4, 4, 128)        0         \n",
            " 2D)                                                             \n",
            "                                                                 \n",
            " conv2d_4 (Conv2D)           (None, 2, 2, 256)         295168    \n",
            "                                                                 \n",
            " max_pooling2d_3 (MaxPooling  (None, 1, 1, 256)        0         \n",
            " 2D)                                                             \n",
            "                                                                 \n",
            " flatten (Flatten)           (None, 256)               0         \n",
            "                                                                 \n",
            " dense (Dense)               (None, 1024)              263168    \n",
            "                                                                 \n",
            " dropout (Dropout)           (None, 1024)              0         \n",
            "                                                                 \n",
            " dense_1 (Dense)             (None, 128)               131200    \n",
            "                                                                 \n",
            " dropout_1 (Dropout)         (None, 128)               0         \n",
            "                                                                 \n",
            " dense_2 (Dense)             (None, 1)                 129       \n",
            "                                                                 \n",
            "=================================================================\n",
            "Total params: 791,585\n",
            "Trainable params: 791,585\n",
            "Non-trainable params: 0\n",
            "_________________________________________________________________\n"
          ]
        }
      ],
      "source": [
        "model = Sequential()\n",
        "\n",
        "model.add(Conv2D(32, (3, 3), activation=\"relu\", input_shape=X_test.shape[1:]))\n",
        "model.add(Conv2D(32, (3, 3), activation=\"relu\", input_shape=X_test.shape[1:]))\n",
        "model.add(MaxPooling2D(2, 2))\n",
        "\n",
        "model.add(Conv2D(64, (3, 3), activation=\"relu\"))\n",
        "model.add(MaxPooling2D(2, 2))\n",
        "\n",
        "model.add(Conv2D(128, (3, 3), activation=\"relu\"))\n",
        "model.add(MaxPooling2D(2, 2))\n",
        "\n",
        "model.add(Conv2D(256, (3, 3), activation=\"relu\"))\n",
        "model.add(MaxPooling2D(2, 2))\n",
        "\n",
        "model.add(Flatten())\n",
        "model.add(Dense(1024, activation=\"relu\"))\n",
        "model.add(Dropout(0.5))\n",
        "model.add(Dense(128, activation=\"relu\"))\n",
        "model.add(Dropout(0.5))\n",
        "model.add(Dense(1, activation=\"sigmoid\"))\n",
        "\n",
        "model.compile(loss=\"binary_crossentropy\", metrics=[\"accuracy\"], optimizer=\"adam\")\n",
        "\n",
        "model.summary()"
      ]
    },
    {
      "cell_type": "code",
      "source": [
        "#history2 = model2.fit(X_train,y_train, batch_size=batch, epochs=100, validation_split=0.2,shuffle = True, verbose=1,callbacks=callbacks)\n",
        "history2 = model.fit(train_generator, epochs=300, shuffle=True, validation_data=validation_generator, validation_steps=validation_generator.samples//batch_val,steps_per_epoch=train_generator.samples//batch_train, callbacks=callbacks)"
      ],
      "metadata": {
        "colab": {
          "base_uri": "https://localhost:8080/"
        },
        "id": "s1tVqR65jgdr",
        "outputId": "6c45fa99-5af5-49c1-8a32-d971bf53c6ac"
      },
      "execution_count": 18,
      "outputs": [
        {
          "output_type": "stream",
          "name": "stdout",
          "text": [
            "Epoch 1/300\n",
            "1/1 [==============================] - ETA: 0s - loss: 0.6934 - accuracy: 0.4823\n",
            "Epoch 1: val_loss improved from inf to 0.69288, saving model to MouthModel.h5\n",
            "1/1 [==============================] - 13s 13s/step - loss: 0.6934 - accuracy: 0.4823 - val_loss: 0.6929 - val_accuracy: 0.4922 - lr: 0.0010\n",
            "Epoch 2/300\n",
            "1/1 [==============================] - ETA: 0s - loss: 0.6916 - accuracy: 0.5029\n",
            "Epoch 2: val_loss improved from 0.69288 to 0.68987, saving model to MouthModel.h5\n",
            "1/1 [==============================] - 8s 8s/step - loss: 0.6916 - accuracy: 0.5029 - val_loss: 0.6899 - val_accuracy: 0.6270 - lr: 0.0010\n",
            "Epoch 3/300\n",
            "1/1 [==============================] - ETA: 0s - loss: 0.6874 - accuracy: 0.6084\n",
            "Epoch 3: val_loss improved from 0.68987 to 0.68406, saving model to MouthModel.h5\n",
            "1/1 [==============================] - 3s 3s/step - loss: 0.6874 - accuracy: 0.6084 - val_loss: 0.6841 - val_accuracy: 0.5117 - lr: 0.0010\n",
            "Epoch 4/300\n",
            "1/1 [==============================] - ETA: 0s - loss: 0.6753 - accuracy: 0.5718\n",
            "Epoch 4: val_loss improved from 0.68406 to 0.67167, saving model to MouthModel.h5\n",
            "1/1 [==============================] - 4s 4s/step - loss: 0.6753 - accuracy: 0.5718 - val_loss: 0.6717 - val_accuracy: 0.6680 - lr: 0.0010\n",
            "Epoch 5/300\n",
            "1/1 [==============================] - ETA: 0s - loss: 0.6550 - accuracy: 0.7036\n",
            "Epoch 5: val_loss improved from 0.67167 to 0.64497, saving model to MouthModel.h5\n",
            "1/1 [==============================] - 3s 3s/step - loss: 0.6550 - accuracy: 0.7036 - val_loss: 0.6450 - val_accuracy: 0.6777 - lr: 0.0010\n",
            "Epoch 6/300\n",
            "1/1 [==============================] - ETA: 0s - loss: 0.6160 - accuracy: 0.7505\n",
            "Epoch 6: val_loss improved from 0.64497 to 0.59927, saving model to MouthModel.h5\n",
            "1/1 [==============================] - 3s 3s/step - loss: 0.6160 - accuracy: 0.7505 - val_loss: 0.5993 - val_accuracy: 0.7031 - lr: 0.0010\n",
            "Epoch 7/300\n",
            "1/1 [==============================] - ETA: 0s - loss: 0.5505 - accuracy: 0.7917\n",
            "Epoch 7: val_loss improved from 0.59927 to 0.59394, saving model to MouthModel.h5\n",
            "1/1 [==============================] - 3s 3s/step - loss: 0.5505 - accuracy: 0.7917 - val_loss: 0.5939 - val_accuracy: 0.6738 - lr: 0.0010\n",
            "Epoch 8/300\n",
            "1/1 [==============================] - ETA: 0s - loss: 0.4985 - accuracy: 0.7607\n",
            "Epoch 8: val_loss did not improve from 0.59394\n",
            "1/1 [==============================] - 3s 3s/step - loss: 0.4985 - accuracy: 0.7607 - val_loss: 0.7969 - val_accuracy: 0.5762 - lr: 0.0010\n",
            "Epoch 9/300\n",
            "1/1 [==============================] - ETA: 0s - loss: 0.6989 - accuracy: 0.6270\n",
            "Epoch 9: val_loss improved from 0.59394 to 0.55821, saving model to MouthModel.h5\n",
            "1/1 [==============================] - 3s 3s/step - loss: 0.6989 - accuracy: 0.6270 - val_loss: 0.5582 - val_accuracy: 0.7285 - lr: 0.0010\n",
            "Epoch 10/300\n",
            "1/1 [==============================] - ETA: 0s - loss: 0.4437 - accuracy: 0.8052\n",
            "Epoch 10: val_loss did not improve from 0.55821\n",
            "1/1 [==============================] - 3s 3s/step - loss: 0.4437 - accuracy: 0.8052 - val_loss: 1.0037 - val_accuracy: 0.5566 - lr: 0.0010\n",
            "Epoch 11/300\n",
            "1/1 [==============================] - ETA: 0s - loss: 0.8962 - accuracy: 0.5700\n",
            "Epoch 11: val_loss improved from 0.55821 to 0.54494, saving model to MouthModel.h5\n",
            "1/1 [==============================] - 3s 3s/step - loss: 0.8962 - accuracy: 0.5700 - val_loss: 0.5449 - val_accuracy: 0.7402 - lr: 0.0010\n",
            "Epoch 12/300\n",
            "1/1 [==============================] - ETA: 0s - loss: 0.4225 - accuracy: 0.8296\n",
            "Epoch 12: val_loss did not improve from 0.54494\n",
            "1/1 [==============================] - 4s 4s/step - loss: 0.4225 - accuracy: 0.8296 - val_loss: 0.5661 - val_accuracy: 0.7129 - lr: 0.0010\n",
            "Epoch 13/300\n",
            "1/1 [==============================] - ETA: 0s - loss: 0.5012 - accuracy: 0.7656\n",
            "Epoch 13: val_loss did not improve from 0.54494\n",
            "1/1 [==============================] - 3s 3s/step - loss: 0.5012 - accuracy: 0.7656 - val_loss: 0.6314 - val_accuracy: 0.6602 - lr: 0.0010\n",
            "Epoch 14/300\n",
            "1/1 [==============================] - ETA: 0s - loss: 0.5619 - accuracy: 0.7201\n",
            "Epoch 14: val_loss did not improve from 0.54494\n",
            "1/1 [==============================] - 3s 3s/step - loss: 0.5619 - accuracy: 0.7201 - val_loss: 0.6068 - val_accuracy: 0.6777 - lr: 0.0010\n",
            "Epoch 15/300\n",
            "1/1 [==============================] - ETA: 0s - loss: 0.5678 - accuracy: 0.7116\n",
            "Epoch 15: val_loss did not improve from 0.54494\n",
            "1/1 [==============================] - 2s 2s/step - loss: 0.5678 - accuracy: 0.7116 - val_loss: 0.6176 - val_accuracy: 0.6465 - lr: 0.0010\n",
            "Epoch 16/300\n",
            "1/1 [==============================] - ETA: 0s - loss: 0.5283 - accuracy: 0.7500\n",
            "Epoch 16: val_loss improved from 0.54494 to 0.53925, saving model to MouthModel.h5\n",
            "1/1 [==============================] - 4s 4s/step - loss: 0.5283 - accuracy: 0.7500 - val_loss: 0.5393 - val_accuracy: 0.7344 - lr: 0.0010\n",
            "Epoch 17/300\n",
            "1/1 [==============================] - ETA: 0s - loss: 0.4820 - accuracy: 0.8179\n",
            "Epoch 17: val_loss improved from 0.53925 to 0.52072, saving model to MouthModel.h5\n",
            "1/1 [==============================] - 3s 3s/step - loss: 0.4820 - accuracy: 0.8179 - val_loss: 0.5207 - val_accuracy: 0.7598 - lr: 0.0010\n",
            "Epoch 18/300\n",
            "1/1 [==============================] - ETA: 0s - loss: 0.4377 - accuracy: 0.8583\n",
            "Epoch 18: val_loss did not improve from 0.52072\n",
            "1/1 [==============================] - 3s 3s/step - loss: 0.4377 - accuracy: 0.8583 - val_loss: 0.5464 - val_accuracy: 0.7246 - lr: 0.0010\n",
            "Epoch 19/300\n",
            "1/1 [==============================] - ETA: 0s - loss: 0.4674 - accuracy: 0.8086\n",
            "Epoch 19: val_loss did not improve from 0.52072\n",
            "1/1 [==============================] - 3s 3s/step - loss: 0.4674 - accuracy: 0.8086 - val_loss: 0.5407 - val_accuracy: 0.7227 - lr: 0.0010\n",
            "Epoch 20/300\n",
            "1/1 [==============================] - ETA: 0s - loss: 0.4758 - accuracy: 0.7676\n",
            "Epoch 20: val_loss improved from 0.52072 to 0.51509, saving model to MouthModel.h5\n",
            "1/1 [==============================] - 3s 3s/step - loss: 0.4758 - accuracy: 0.7676 - val_loss: 0.5151 - val_accuracy: 0.7676 - lr: 0.0010\n",
            "Epoch 21/300\n",
            "1/1 [==============================] - ETA: 0s - loss: 0.4552 - accuracy: 0.8145\n",
            "Epoch 21: val_loss did not improve from 0.51509\n",
            "1/1 [==============================] - 2s 2s/step - loss: 0.4552 - accuracy: 0.8145 - val_loss: 0.5167 - val_accuracy: 0.7773 - lr: 0.0010\n",
            "Epoch 22/300\n",
            "1/1 [==============================] - ETA: 0s - loss: 0.4191 - accuracy: 0.8499\n",
            "Epoch 22: val_loss improved from 0.51509 to 0.51082, saving model to MouthModel.h5\n",
            "1/1 [==============================] - 3s 3s/step - loss: 0.4191 - accuracy: 0.8499 - val_loss: 0.5108 - val_accuracy: 0.7500 - lr: 0.0010\n",
            "Epoch 23/300\n",
            "1/1 [==============================] - ETA: 0s - loss: 0.3882 - accuracy: 0.8676\n",
            "Epoch 23: val_loss improved from 0.51082 to 0.47695, saving model to MouthModel.h5\n",
            "1/1 [==============================] - 3s 3s/step - loss: 0.3882 - accuracy: 0.8676 - val_loss: 0.4769 - val_accuracy: 0.7832 - lr: 0.0010\n",
            "Epoch 24/300\n",
            "1/1 [==============================] - ETA: 0s - loss: 0.3830 - accuracy: 0.8589\n",
            "Epoch 24: val_loss did not improve from 0.47695\n",
            "1/1 [==============================] - 4s 4s/step - loss: 0.3830 - accuracy: 0.8589 - val_loss: 0.5041 - val_accuracy: 0.7500 - lr: 0.0010\n",
            "Epoch 25/300\n",
            "1/1 [==============================] - ETA: 0s - loss: 0.3773 - accuracy: 0.8533\n",
            "Epoch 25: val_loss did not improve from 0.47695\n",
            "1/1 [==============================] - 2s 2s/step - loss: 0.3773 - accuracy: 0.8533 - val_loss: 0.4879 - val_accuracy: 0.7617 - lr: 0.0010\n",
            "Epoch 26/300\n",
            "1/1 [==============================] - ETA: 0s - loss: 0.3704 - accuracy: 0.8651\n",
            "Epoch 26: val_loss did not improve from 0.47695\n",
            "1/1 [==============================] - 3s 3s/step - loss: 0.3704 - accuracy: 0.8651 - val_loss: 0.4909 - val_accuracy: 0.7676 - lr: 0.0010\n",
            "Epoch 27/300\n",
            "1/1 [==============================] - ETA: 0s - loss: 0.3528 - accuracy: 0.8618\n",
            "Epoch 27: val_loss improved from 0.47695 to 0.46662, saving model to MouthModel.h5\n",
            "1/1 [==============================] - 3s 3s/step - loss: 0.3528 - accuracy: 0.8618 - val_loss: 0.4666 - val_accuracy: 0.7930 - lr: 0.0010\n",
            "Epoch 28/300\n",
            "1/1 [==============================] - ETA: 0s - loss: 0.3271 - accuracy: 0.8823\n",
            "Epoch 28: val_loss did not improve from 0.46662\n",
            "1/1 [==============================] - 3s 3s/step - loss: 0.3271 - accuracy: 0.8823 - val_loss: 0.4980 - val_accuracy: 0.7793 - lr: 0.0010\n",
            "Epoch 29/300\n",
            "1/1 [==============================] - ETA: 0s - loss: 0.3485 - accuracy: 0.8592\n",
            "Epoch 29: val_loss did not improve from 0.46662\n",
            "1/1 [==============================] - 3s 3s/step - loss: 0.3485 - accuracy: 0.8592 - val_loss: 0.5369 - val_accuracy: 0.7637 - lr: 0.0010\n",
            "Epoch 30/300\n",
            "1/1 [==============================] - ETA: 0s - loss: 0.3301 - accuracy: 0.8799\n",
            "Epoch 30: val_loss did not improve from 0.46662\n",
            "1/1 [==============================] - 3s 3s/step - loss: 0.3301 - accuracy: 0.8799 - val_loss: 0.5045 - val_accuracy: 0.7891 - lr: 0.0010\n",
            "Epoch 31/300\n",
            "1/1 [==============================] - ETA: 0s - loss: 0.3305 - accuracy: 0.8706\n",
            "Epoch 31: val_loss did not improve from 0.46662\n",
            "1/1 [==============================] - 3s 3s/step - loss: 0.3305 - accuracy: 0.8706 - val_loss: 0.4979 - val_accuracy: 0.8027 - lr: 0.0010\n",
            "Epoch 32/300\n",
            "1/1 [==============================] - ETA: 0s - loss: 0.3087 - accuracy: 0.8735\n",
            "Epoch 32: val_loss did not improve from 0.46662\n",
            "1/1 [==============================] - 3s 3s/step - loss: 0.3087 - accuracy: 0.8735 - val_loss: 0.5495 - val_accuracy: 0.7773 - lr: 0.0010\n",
            "Epoch 33/300\n",
            "1/1 [==============================] - ETA: 0s - loss: 0.3179 - accuracy: 0.8789\n",
            "Epoch 33: val_loss did not improve from 0.46662\n",
            "1/1 [==============================] - 3s 3s/step - loss: 0.3179 - accuracy: 0.8789 - val_loss: 0.4957 - val_accuracy: 0.7930 - lr: 0.0010\n",
            "Epoch 34/300\n",
            "1/1 [==============================] - ETA: 0s - loss: 0.3231 - accuracy: 0.8727\n",
            "Epoch 34: val_loss did not improve from 0.46662\n",
            "1/1 [==============================] - 3s 3s/step - loss: 0.3231 - accuracy: 0.8727 - val_loss: 0.4704 - val_accuracy: 0.8086 - lr: 0.0010\n",
            "Epoch 35/300\n",
            "1/1 [==============================] - ETA: 0s - loss: 0.2783 - accuracy: 0.8946\n",
            "Epoch 35: val_loss improved from 0.46662 to 0.44421, saving model to MouthModel.h5\n",
            "1/1 [==============================] - 3s 3s/step - loss: 0.2783 - accuracy: 0.8946 - val_loss: 0.4442 - val_accuracy: 0.8066 - lr: 0.0010\n",
            "Epoch 36/300\n",
            "1/1 [==============================] - ETA: 0s - loss: 0.2998 - accuracy: 0.8845\n",
            "Epoch 36: val_loss did not improve from 0.44421\n",
            "1/1 [==============================] - 3s 3s/step - loss: 0.2998 - accuracy: 0.8845 - val_loss: 0.4535 - val_accuracy: 0.8008 - lr: 0.0010\n",
            "Epoch 37/300\n",
            "1/1 [==============================] - ETA: 0s - loss: 0.2895 - accuracy: 0.8912\n",
            "Epoch 37: val_loss did not improve from 0.44421\n",
            "1/1 [==============================] - 3s 3s/step - loss: 0.2895 - accuracy: 0.8912 - val_loss: 0.5046 - val_accuracy: 0.7832 - lr: 0.0010\n",
            "Epoch 38/300\n",
            "1/1 [==============================] - ETA: 0s - loss: 0.2918 - accuracy: 0.8892\n",
            "Epoch 38: val_loss did not improve from 0.44421\n",
            "1/1 [==============================] - 4s 4s/step - loss: 0.2918 - accuracy: 0.8892 - val_loss: 0.4614 - val_accuracy: 0.7949 - lr: 0.0010\n",
            "Epoch 39/300\n",
            "1/1 [==============================] - ETA: 0s - loss: 0.3164 - accuracy: 0.8727\n",
            "Epoch 39: val_loss did not improve from 0.44421\n",
            "1/1 [==============================] - 3s 3s/step - loss: 0.3164 - accuracy: 0.8727 - val_loss: 0.4502 - val_accuracy: 0.8008 - lr: 0.0010\n",
            "Epoch 40/300\n",
            "1/1 [==============================] - ETA: 0s - loss: 0.2806 - accuracy: 0.8929\n",
            "Epoch 40: val_loss did not improve from 0.44421\n",
            "1/1 [==============================] - 3s 3s/step - loss: 0.2806 - accuracy: 0.8929 - val_loss: 0.4807 - val_accuracy: 0.7910 - lr: 0.0010\n",
            "Epoch 41/300\n",
            "1/1 [==============================] - ETA: 0s - loss: 0.2814 - accuracy: 0.8984\n",
            "Epoch 41: val_loss improved from 0.44421 to 0.40581, saving model to MouthModel.h5\n",
            "1/1 [==============================] - 3s 3s/step - loss: 0.2814 - accuracy: 0.8984 - val_loss: 0.4058 - val_accuracy: 0.8203 - lr: 0.0010\n",
            "Epoch 42/300\n",
            "1/1 [==============================] - ETA: 0s - loss: 0.2827 - accuracy: 0.8938\n",
            "Epoch 42: val_loss did not improve from 0.40581\n",
            "1/1 [==============================] - 3s 3s/step - loss: 0.2827 - accuracy: 0.8938 - val_loss: 0.4514 - val_accuracy: 0.8066 - lr: 0.0010\n",
            "Epoch 43/300\n",
            "1/1 [==============================] - ETA: 0s - loss: 0.2643 - accuracy: 0.9048\n",
            "Epoch 43: val_loss did not improve from 0.40581\n",
            "1/1 [==============================] - 3s 3s/step - loss: 0.2643 - accuracy: 0.9048 - val_loss: 0.4487 - val_accuracy: 0.8164 - lr: 0.0010\n",
            "Epoch 44/300\n",
            "1/1 [==============================] - ETA: 0s - loss: 0.2568 - accuracy: 0.9081\n",
            "Epoch 44: val_loss did not improve from 0.40581\n",
            "1/1 [==============================] - 3s 3s/step - loss: 0.2568 - accuracy: 0.9081 - val_loss: 0.4455 - val_accuracy: 0.8184 - lr: 0.0010\n",
            "Epoch 45/300\n",
            "1/1 [==============================] - ETA: 0s - loss: 0.2517 - accuracy: 0.9058\n",
            "Epoch 45: val_loss did not improve from 0.40581\n",
            "1/1 [==============================] - 3s 3s/step - loss: 0.2517 - accuracy: 0.9058 - val_loss: 0.4888 - val_accuracy: 0.8047 - lr: 0.0010\n",
            "Epoch 46/300\n",
            "1/1 [==============================] - ETA: 0s - loss: 0.2621 - accuracy: 0.9004\n",
            "Epoch 46: val_loss did not improve from 0.40581\n",
            "1/1 [==============================] - 3s 3s/step - loss: 0.2621 - accuracy: 0.9004 - val_loss: 0.4615 - val_accuracy: 0.8047 - lr: 0.0010\n",
            "Epoch 47/300\n",
            "1/1 [==============================] - ETA: 0s - loss: 0.2424 - accuracy: 0.9064\n",
            "Epoch 47: val_loss did not improve from 0.40581\n",
            "1/1 [==============================] - 3s 3s/step - loss: 0.2424 - accuracy: 0.9064 - val_loss: 0.4672 - val_accuracy: 0.8125 - lr: 0.0010\n",
            "Epoch 48/300\n",
            "1/1 [==============================] - ETA: 0s - loss: 0.2537 - accuracy: 0.9039\n",
            "Epoch 48: val_loss did not improve from 0.40581\n",
            "1/1 [==============================] - 3s 3s/step - loss: 0.2537 - accuracy: 0.9039 - val_loss: 0.4979 - val_accuracy: 0.8066 - lr: 0.0010\n",
            "Epoch 49/300\n",
            "1/1 [==============================] - ETA: 0s - loss: 0.2625 - accuracy: 0.9048\n",
            "Epoch 49: val_loss did not improve from 0.40581\n",
            "1/1 [==============================] - 3s 3s/step - loss: 0.2625 - accuracy: 0.9048 - val_loss: 0.4715 - val_accuracy: 0.8164 - lr: 0.0010\n",
            "Epoch 50/300\n",
            "1/1 [==============================] - ETA: 0s - loss: 0.2563 - accuracy: 0.9019\n",
            "Epoch 50: val_loss did not improve from 0.40581\n",
            "1/1 [==============================] - 3s 3s/step - loss: 0.2563 - accuracy: 0.9019 - val_loss: 0.4141 - val_accuracy: 0.8281 - lr: 0.0010\n",
            "Epoch 51/300\n",
            "1/1 [==============================] - ETA: 0s - loss: 0.2514 - accuracy: 0.9005\n",
            "Epoch 51: val_loss improved from 0.40581 to 0.39612, saving model to MouthModel.h5\n",
            "1/1 [==============================] - 3s 3s/step - loss: 0.2514 - accuracy: 0.9005 - val_loss: 0.3961 - val_accuracy: 0.8359 - lr: 0.0010\n",
            "Epoch 52/300\n",
            "1/1 [==============================] - ETA: 0s - loss: 0.2472 - accuracy: 0.9126\n",
            "Epoch 52: val_loss did not improve from 0.39612\n",
            "1/1 [==============================] - 3s 3s/step - loss: 0.2472 - accuracy: 0.9126 - val_loss: 0.4111 - val_accuracy: 0.8262 - lr: 0.0010\n",
            "Epoch 53/300\n",
            "1/1 [==============================] - ETA: 0s - loss: 0.2333 - accuracy: 0.9132\n",
            "Epoch 53: val_loss did not improve from 0.39612\n",
            "1/1 [==============================] - 3s 3s/step - loss: 0.2333 - accuracy: 0.9132 - val_loss: 0.4739 - val_accuracy: 0.7988 - lr: 0.0010\n",
            "Epoch 54/300\n",
            "1/1 [==============================] - ETA: 0s - loss: 0.2431 - accuracy: 0.9062\n",
            "Epoch 54: val_loss did not improve from 0.39612\n",
            "1/1 [==============================] - 3s 3s/step - loss: 0.2431 - accuracy: 0.9062 - val_loss: 0.4410 - val_accuracy: 0.8301 - lr: 0.0010\n",
            "Epoch 55/300\n",
            "1/1 [==============================] - ETA: 0s - loss: 0.2350 - accuracy: 0.9146\n",
            "Epoch 55: val_loss did not improve from 0.39612\n",
            "1/1 [==============================] - 3s 3s/step - loss: 0.2350 - accuracy: 0.9146 - val_loss: 0.4174 - val_accuracy: 0.8281 - lr: 0.0010\n",
            "Epoch 56/300\n",
            "1/1 [==============================] - ETA: 0s - loss: 0.2246 - accuracy: 0.9191\n",
            "Epoch 56: val_loss did not improve from 0.39612\n",
            "1/1 [==============================] - 3s 3s/step - loss: 0.2246 - accuracy: 0.9191 - val_loss: 0.4414 - val_accuracy: 0.8184 - lr: 0.0010\n",
            "Epoch 57/300\n",
            "1/1 [==============================] - ETA: 0s - loss: 0.2174 - accuracy: 0.9148\n",
            "Epoch 57: val_loss did not improve from 0.39612\n",
            "1/1 [==============================] - 3s 3s/step - loss: 0.2174 - accuracy: 0.9148 - val_loss: 0.4060 - val_accuracy: 0.8281 - lr: 0.0010\n",
            "Epoch 58/300\n",
            "1/1 [==============================] - ETA: 0s - loss: 0.2345 - accuracy: 0.9106\n",
            "Epoch 58: val_loss did not improve from 0.39612\n",
            "1/1 [==============================] - 3s 3s/step - loss: 0.2345 - accuracy: 0.9106 - val_loss: 0.4096 - val_accuracy: 0.8359 - lr: 0.0010\n",
            "Epoch 59/300\n",
            "1/1 [==============================] - ETA: 0s - loss: 0.2375 - accuracy: 0.9174\n",
            "Epoch 59: val_loss improved from 0.39612 to 0.36477, saving model to MouthModel.h5\n",
            "1/1 [==============================] - 3s 3s/step - loss: 0.2375 - accuracy: 0.9174 - val_loss: 0.3648 - val_accuracy: 0.8516 - lr: 0.0010\n",
            "Epoch 60/300\n",
            "1/1 [==============================] - ETA: 0s - loss: 0.2227 - accuracy: 0.9180\n",
            "Epoch 60: val_loss did not improve from 0.36477\n",
            "1/1 [==============================] - 3s 3s/step - loss: 0.2227 - accuracy: 0.9180 - val_loss: 0.4183 - val_accuracy: 0.8398 - lr: 0.0010\n",
            "Epoch 61/300\n",
            "1/1 [==============================] - ETA: 0s - loss: 0.2223 - accuracy: 0.9207\n",
            "Epoch 61: val_loss did not improve from 0.36477\n",
            "1/1 [==============================] - 3s 3s/step - loss: 0.2223 - accuracy: 0.9207 - val_loss: 0.4003 - val_accuracy: 0.8438 - lr: 0.0010\n",
            "Epoch 62/300\n",
            "1/1 [==============================] - ETA: 0s - loss: 0.2071 - accuracy: 0.9224\n",
            "Epoch 62: val_loss did not improve from 0.36477\n",
            "1/1 [==============================] - 3s 3s/step - loss: 0.2071 - accuracy: 0.9224 - val_loss: 0.3660 - val_accuracy: 0.8535 - lr: 0.0010\n",
            "Epoch 63/300\n",
            "1/1 [==============================] - ETA: 0s - loss: 0.2060 - accuracy: 0.9204\n",
            "Epoch 63: val_loss improved from 0.36477 to 0.35781, saving model to MouthModel.h5\n",
            "1/1 [==============================] - 3s 3s/step - loss: 0.2060 - accuracy: 0.9204 - val_loss: 0.3578 - val_accuracy: 0.8516 - lr: 0.0010\n",
            "Epoch 64/300\n",
            "1/1 [==============================] - ETA: 0s - loss: 0.1930 - accuracy: 0.9241\n",
            "Epoch 64: val_loss did not improve from 0.35781\n",
            "1/1 [==============================] - 3s 3s/step - loss: 0.1930 - accuracy: 0.9241 - val_loss: 0.4756 - val_accuracy: 0.8203 - lr: 0.0010\n",
            "Epoch 65/300\n",
            "1/1 [==============================] - ETA: 0s - loss: 0.1882 - accuracy: 0.9342\n",
            "Epoch 65: val_loss did not improve from 0.35781\n",
            "1/1 [==============================] - 3s 3s/step - loss: 0.1882 - accuracy: 0.9342 - val_loss: 0.3836 - val_accuracy: 0.8438 - lr: 0.0010\n",
            "Epoch 66/300\n",
            "1/1 [==============================] - ETA: 0s - loss: 0.1876 - accuracy: 0.9275\n",
            "Epoch 66: val_loss improved from 0.35781 to 0.31153, saving model to MouthModel.h5\n",
            "1/1 [==============================] - 3s 3s/step - loss: 0.1876 - accuracy: 0.9275 - val_loss: 0.3115 - val_accuracy: 0.8633 - lr: 0.0010\n",
            "Epoch 67/300\n",
            "1/1 [==============================] - ETA: 0s - loss: 0.2322 - accuracy: 0.9058\n",
            "Epoch 67: val_loss did not improve from 0.31153\n",
            "1/1 [==============================] - 3s 3s/step - loss: 0.2322 - accuracy: 0.9058 - val_loss: 0.5092 - val_accuracy: 0.8281 - lr: 0.0010\n",
            "Epoch 68/300\n",
            "1/1 [==============================] - ETA: 0s - loss: 0.2167 - accuracy: 0.9219\n",
            "Epoch 68: val_loss did not improve from 0.31153\n",
            "1/1 [==============================] - 3s 3s/step - loss: 0.2167 - accuracy: 0.9219 - val_loss: 0.5306 - val_accuracy: 0.8242 - lr: 0.0010\n",
            "Epoch 69/300\n",
            "1/1 [==============================] - ETA: 0s - loss: 0.2171 - accuracy: 0.9268\n",
            "Epoch 69: val_loss did not improve from 0.31153\n",
            "1/1 [==============================] - 3s 3s/step - loss: 0.2171 - accuracy: 0.9268 - val_loss: 0.3618 - val_accuracy: 0.8340 - lr: 0.0010\n",
            "Epoch 70/300\n",
            "1/1 [==============================] - ETA: 0s - loss: 0.1700 - accuracy: 0.9359\n",
            "Epoch 70: val_loss improved from 0.31153 to 0.30638, saving model to MouthModel.h5\n",
            "1/1 [==============================] - 3s 3s/step - loss: 0.1700 - accuracy: 0.9359 - val_loss: 0.3064 - val_accuracy: 0.8711 - lr: 0.0010\n",
            "Epoch 71/300\n",
            "1/1 [==============================] - ETA: 0s - loss: 0.1911 - accuracy: 0.9321\n",
            "Epoch 71: val_loss did not improve from 0.30638\n",
            "1/1 [==============================] - 3s 3s/step - loss: 0.1911 - accuracy: 0.9321 - val_loss: 0.3337 - val_accuracy: 0.8516 - lr: 0.0010\n",
            "Epoch 72/300\n",
            "1/1 [==============================] - ETA: 0s - loss: 0.1928 - accuracy: 0.9283\n",
            "Epoch 72: val_loss did not improve from 0.30638\n",
            "1/1 [==============================] - 3s 3s/step - loss: 0.1928 - accuracy: 0.9283 - val_loss: 0.3551 - val_accuracy: 0.8750 - lr: 0.0010\n",
            "Epoch 73/300\n",
            "1/1 [==============================] - ETA: 0s - loss: 0.1911 - accuracy: 0.9342\n",
            "Epoch 73: val_loss did not improve from 0.30638\n",
            "1/1 [==============================] - 3s 3s/step - loss: 0.1911 - accuracy: 0.9342 - val_loss: 0.4221 - val_accuracy: 0.8398 - lr: 0.0010\n",
            "Epoch 74/300\n",
            "1/1 [==============================] - ETA: 0s - loss: 0.1972 - accuracy: 0.9241\n",
            "Epoch 74: val_loss did not improve from 0.30638\n",
            "1/1 [==============================] - 2s 2s/step - loss: 0.1972 - accuracy: 0.9241 - val_loss: 0.3482 - val_accuracy: 0.8633 - lr: 0.0010\n",
            "Epoch 75/300\n",
            "1/1 [==============================] - ETA: 0s - loss: 0.2071 - accuracy: 0.9174\n",
            "Epoch 75: val_loss improved from 0.30638 to 0.26568, saving model to MouthModel.h5\n",
            "1/1 [==============================] - 3s 3s/step - loss: 0.2071 - accuracy: 0.9174 - val_loss: 0.2657 - val_accuracy: 0.9004 - lr: 0.0010\n",
            "Epoch 76/300\n",
            "1/1 [==============================] - ETA: 0s - loss: 0.1980 - accuracy: 0.9266\n",
            "Epoch 76: val_loss did not improve from 0.26568\n",
            "1/1 [==============================] - 3s 3s/step - loss: 0.1980 - accuracy: 0.9266 - val_loss: 0.3144 - val_accuracy: 0.8730 - lr: 0.0010\n",
            "Epoch 77/300\n",
            "1/1 [==============================] - ETA: 0s - loss: 0.1778 - accuracy: 0.9399\n",
            "Epoch 77: val_loss did not improve from 0.26568\n",
            "1/1 [==============================] - 3s 3s/step - loss: 0.1778 - accuracy: 0.9399 - val_loss: 0.3175 - val_accuracy: 0.8750 - lr: 0.0010\n",
            "Epoch 78/300\n",
            "1/1 [==============================] - ETA: 0s - loss: 0.1730 - accuracy: 0.9360\n",
            "Epoch 78: val_loss did not improve from 0.26568\n",
            "1/1 [==============================] - 3s 3s/step - loss: 0.1730 - accuracy: 0.9360 - val_loss: 0.4046 - val_accuracy: 0.8398 - lr: 0.0010\n",
            "Epoch 79/300\n",
            "1/1 [==============================] - ETA: 0s - loss: 0.1773 - accuracy: 0.9336\n",
            "Epoch 79: val_loss did not improve from 0.26568\n",
            "1/1 [==============================] - 3s 3s/step - loss: 0.1773 - accuracy: 0.9336 - val_loss: 0.3779 - val_accuracy: 0.8516 - lr: 0.0010\n",
            "Epoch 80/300\n",
            "1/1 [==============================] - ETA: 0s - loss: 0.1753 - accuracy: 0.9427\n",
            "Epoch 80: val_loss did not improve from 0.26568\n",
            "1/1 [==============================] - 3s 3s/step - loss: 0.1753 - accuracy: 0.9427 - val_loss: 0.3092 - val_accuracy: 0.8730 - lr: 0.0010\n",
            "Epoch 81/300\n",
            "1/1 [==============================] - ETA: 0s - loss: 0.1758 - accuracy: 0.9393\n",
            "Epoch 81: val_loss did not improve from 0.26568\n",
            "1/1 [==============================] - 3s 3s/step - loss: 0.1758 - accuracy: 0.9393 - val_loss: 0.2766 - val_accuracy: 0.8945 - lr: 0.0010\n",
            "Epoch 82/300\n",
            "1/1 [==============================] - ETA: 0s - loss: 0.1720 - accuracy: 0.9380\n",
            "Epoch 82: val_loss did not improve from 0.26568\n",
            "1/1 [==============================] - 3s 3s/step - loss: 0.1720 - accuracy: 0.9380 - val_loss: 0.3072 - val_accuracy: 0.8691 - lr: 0.0010\n",
            "Epoch 83/300\n",
            "1/1 [==============================] - ETA: 0s - loss: 0.1471 - accuracy: 0.9487\n",
            "Epoch 83: val_loss did not improve from 0.26568\n",
            "1/1 [==============================] - 3s 3s/step - loss: 0.1471 - accuracy: 0.9487 - val_loss: 0.3376 - val_accuracy: 0.8613 - lr: 0.0010\n",
            "Epoch 84/300\n",
            "1/1 [==============================] - ETA: 0s - loss: 0.1532 - accuracy: 0.9427\n",
            "Epoch 84: val_loss did not improve from 0.26568\n",
            "1/1 [==============================] - 3s 3s/step - loss: 0.1532 - accuracy: 0.9427 - val_loss: 0.2983 - val_accuracy: 0.8730 - lr: 0.0010\n",
            "Epoch 85/300\n",
            "1/1 [==============================] - ETA: 0s - loss: 0.1697 - accuracy: 0.9410Restoring model weights from the end of the best epoch: 75.\n",
            "\n",
            "Epoch 85: val_loss did not improve from 0.26568\n",
            "1/1 [==============================] - 3s 3s/step - loss: 0.1697 - accuracy: 0.9410 - val_loss: 0.2897 - val_accuracy: 0.8906 - lr: 0.0010\n",
            "Epoch 85: early stopping\n"
          ]
        }
      ]
    },
    {
      "cell_type": "code",
      "execution_count": 19,
      "metadata": {
        "id": "J5manMTdJO1k",
        "colab": {
          "base_uri": "https://localhost:8080/",
          "height": 582
        },
        "outputId": "77a593ec-94d3-44c4-a4f0-94279f265032"
      },
      "outputs": [
        {
          "output_type": "display_data",
          "data": {
            "text/plain": [
              "<Figure size 432x288 with 1 Axes>"
            ],
            "image/png": "[encoded data removed]"
          },
          "metadata": {
            "needs_background": "light"
          }
        },
        {
          "output_type": "display_data",
          "data": {
            "text/plain": [
              "<Figure size 432x288 with 1 Axes>"
            ],
            "image/png": "[encoded data removed]"
          },
          "metadata": {
            "needs_background": "light"
          }
        },
        {
          "output_type": "stream",
          "name": "stdout",
          "text": [
            "Model Evaluation\n",
            "Loss: 0.135\n",
            "Accuracy: 0.960\n",
            "\n"
          ]
        }
      ],
      "source": [
        "accuracy = history2.history['accuracy']\n",
        "val_accuracy = history2.history['val_accuracy']\n",
        "loss = history2.history['loss']\n",
        "val_loss = history2.history['val_loss']\n",
        "epochs = range(len(accuracy))\n",
        "\n",
        "plt.plot(epochs, accuracy, \"b\", label=\"trainning accuracy\")\n",
        "plt.plot(epochs, val_accuracy, \"r\", label=\"validation accuracy\")\n",
        "plt.legend()\n",
        "plt.show()\n",
        "\n",
        "plt.plot(epochs, loss, \"b\", label=\"trainning loss\")\n",
        "plt.plot(epochs, val_loss, \"r\", label=\"validation loss\")\n",
        "plt.legend()\n",
        "plt.show()\n",
        "\n",
        "(loss,acc) = model.evaluate(X_test,y_test, verbose=0)\n",
        "print('Model Evaluation')\n",
        "print('Loss: %.3f' % loss)\n",
        "print('Accuracy: %.3f' % acc)\n",
        "print()"
      ]
    }
  ],
  "metadata": {
    "accelerator": "GPU",
    "colab": {
      "provenance": []
    },
    "gpuClass": "standard",
    "kernelspec": {
      "display_name": "Python 3",
      "name": "python3"
    },
    "language_info": {
      "name": "python"
    }
  },
  "nbformat": 4,
  "nbformat_minor": 0
}