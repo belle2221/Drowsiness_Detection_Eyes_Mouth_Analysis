{
  "cells": [
    {
      "cell_type": "code",
      "execution_count": null,
      "metadata": {
        "id": "RJPuE8Hxx44L"
      },
      "outputs": [],
      "source": [
        "import numpy as np\n",
        "import argparse\n",
        "import dlib\n",
        "import cv2\n",
        "import os\n",
        "import matplotlib.pyplot as plt\n",
        "from keras.preprocessing.image import ImageDataGenerator\n",
        "import imutils\n",
        "from imutils import face_utils\n",
        "from tensorflow.keras.layers import Input, Lambda, Dense, Flatten, Conv2D, MaxPooling2D, Dropout\n",
        "from tensorflow.keras.models import Model\n",
        "from tensorflow.keras.models import Sequential\n",
        "from keras.layers import BatchNormalization\n",
        "from tensorflow.keras.optimizers import Adam\n",
        "from keras.preprocessing.image import ImageDataGenerator\n",
        "import tensorflow as tf"
      ]
    },
    {
      "cell_type": "code",
      "execution_count": null,
      "metadata": {
        "colab": {
          "base_uri": "https://localhost:8080/"
        },
        "id": "4Tl9R_EZx1nP",
        "outputId": "1ff23bbe-6181-40b5-d527-7643e9b30682"
      },
      "outputs": [
        {
          "output_type": "stream",
          "name": "stdout",
          "text": [
            "Mounted at /content/drive\n"
          ]
        }
      ],
      "source": [
        "from google.colab import drive\n",
        "drive.mount('/content/drive')"
      ]
    },
    {
      "cell_type": "code",
      "execution_count": null,
      "metadata": {
        "colab": {
          "base_uri": "https://localhost:8080/"
        },
        "id": "eXmr0O4jx-iE",
        "outputId": "0d50c1b0-53cf-4663-af10-768697ac4653"
      },
      "outputs": [
        {
          "output_type": "stream",
          "name": "stdout",
          "text": [
            "Done\n"
          ]
        }
      ],
      "source": [
        "from zipfile import ZipFile\n",
        "file_name = \"/content/drive/MyDrive/dataset_split.zip\"\n",
        "\n",
        "with ZipFile(file_name,'r') as zip:\n",
        "  zip.extractall()\n",
        "  print('Done')"
      ]
    },
    {
      "cell_type": "code",
      "execution_count": null,
      "metadata": {
        "colab": {
          "base_uri": "https://localhost:8080/"
        },
        "id": "CEqAvgr3x_53",
        "outputId": "440b0a5f-6cfc-4a76-cb91-58169fb7b1e5"
      },
      "outputs": [
        {
          "output_type": "stream",
          "name": "stdout",
          "text": [
            "Done\n"
          ]
        }
      ],
      "source": [
        "from zipfile import ZipFile\n",
        "file_name = \"/content/drive/MyDrive/Shared.zip\"\n",
        "\n",
        "with ZipFile(file_name,'r') as zip:\n",
        "  zip.extractall()\n",
        "  print('Done')"
      ]
    },
    {
      "cell_type": "code",
      "execution_count": null,
      "metadata": {
        "id": "Nr8COvtfyBQw"
      },
      "outputs": [],
      "source": [
        "detector = dlib.get_frontal_face_detector()\n",
        "predictor = dlib.shape_predictor('/content/Shared/shape_predictor_68_face_landmarks.dat')\n"
      ]
    },
    {
      "cell_type": "code",
      "execution_count": null,
      "metadata": {
        "id": "Aj6jSADgydes"
      },
      "outputs": [],
      "source": [
        "def get_data(direc):\n",
        "    X =[]\n",
        "    y = []\n",
        "    IMG_SIZE = 50\n",
        "    categories = os.listdir(direc)\n",
        "    for category in categories:\n",
        "        path_link = os.path.join(direc, category)\n",
        "        for image in os.listdir(path_link):\n",
        "            image_array = cv2.imread(os.path.join(path_link, image),cv2.IMREAD_GRAYSCALE)\n",
        "            image_array = cv2.resize(image_array, (IMG_SIZE, IMG_SIZE))\n",
        "            X.append(image_array)\n",
        "            y.append(int(category))\n",
        "    return X,y\n",
        "\n"
      ]
    },
    {
      "cell_type": "code",
      "execution_count": null,
      "metadata": {
        "id": "BTqTHlEFykZy"
      },
      "outputs": [],
      "source": [
        "X_train,y_train = get_data(\"/content/dataset_split/train\")\n",
        "X_test,y_test = get_data(\"/content/dataset_split/test\")"
      ]
    },
    {
      "cell_type": "code",
      "execution_count": null,
      "metadata": {
        "id": "vI96sYQXyl8Q"
      },
      "outputs": [],
      "source": [
        "X_train = np.array(X_train).reshape(-1,50,50,1)\n",
        "X_test = np.array(X_test).reshape(-1,50,50,1)\n",
        "X_train = X_train.astype('float32') / 255.0\n",
        "X_test = X_test.astype('float32') / 255.0"
      ]
    },
    {
      "cell_type": "code",
      "execution_count": null,
      "metadata": {
        "id": "84BNZMoLynZK"
      },
      "outputs": [],
      "source": [
        "y_train = np.array(y_train).reshape(-1,1)\n",
        "y_test = np.array(y_test).reshape(-1,1)\n",
        "y_train = y_train.flatten()\n",
        "y_test = y_test.flatten()"
      ]
    },
    {
      "cell_type": "code",
      "execution_count": null,
      "metadata": {
        "id": "ioInRxBRyr86"
      },
      "outputs": [],
      "source": [
        "train_dir = \"/content/dataset_split/train\"\n",
        "test_dir = \"/content/dataset_split/test\""
      ]
    },
    {
      "cell_type": "code",
      "source": [
        "batch=32"
      ],
      "metadata": {
        "id": "9GL2FTwSZTwZ"
      },
      "execution_count": null,
      "outputs": []
    },
    {
      "cell_type": "code",
      "source": [
        "learning_rate = 0.0001\n",
        "adam = Adam(lr=learning_rate)"
      ],
      "metadata": {
        "id": "-v3uUBMOUJKu",
        "colab": {
          "base_uri": "https://localhost:8080/"
        },
        "outputId": "8585069a-cfeb-4ed3-d98a-d7a540de30a4"
      },
      "execution_count": null,
      "outputs": [
        {
          "output_type": "stream",
          "name": "stderr",
          "text": [
            "/usr/local/lib/python3.8/dist-packages/keras/optimizers/optimizer_v2/adam.py:110: UserWarning: The `lr` argument is deprecated, use `learning_rate` instead.\n",
            "  super(Adam, self).__init__(name, **kwargs)\n"
          ]
        }
      ]
    },
    {
      "cell_type": "code",
      "source": [
        "from tensorflow.keras.callbacks import EarlyStopping, ReduceLROnPlateau, ModelCheckpoint\n",
        "callbacks = [\n",
        "    EarlyStopping(monitor = 'val_loss',\n",
        "                          min_delta = 0, #minimium amount of change to count as an improvement\n",
        "                          patience = 10, # how many epochs to wait before stopping\n",
        "                          verbose = 1,\n",
        "                          restore_best_weights = True),\n",
        "    ReduceLROnPlateau(factor=0.9, patience=10, min_lr=0.0001),\n",
        "    ModelCheckpoint('NewEyeModel.h5', verbose=1, save_best_only=True)#, save_weights_only=True\n",
        "]"
      ],
      "metadata": {
        "id": "3aNotr95Jb08"
      },
      "execution_count": null,
      "outputs": []
    },
    {
      "cell_type": "code",
      "execution_count": null,
      "metadata": {
        "colab": {
          "base_uri": "https://localhost:8080/"
        },
        "id": "MKpbVqfU7rDu",
        "outputId": "5d22f383-92cc-4334-a3b8-4b70b09bcba4"
      },
      "outputs": [
        {
          "output_type": "stream",
          "name": "stdout",
          "text": [
            "Model: \"sequential\"\n",
            "_________________________________________________________________\n",
            " Layer (type)                Output Shape              Param #   \n",
            "=================================================================\n",
            " conv2d (Conv2D)             (None, 48, 48, 32)        320       \n",
            "                                                                 \n",
            " conv2d_1 (Conv2D)           (None, 46, 46, 32)        9248      \n",
            "                                                                 \n",
            " max_pooling2d (MaxPooling2D  (None, 23, 23, 32)       0         \n",
            " )                                                               \n",
            "                                                                 \n",
            " batch_normalization (BatchN  (None, 23, 23, 32)       128       \n",
            " ormalization)                                                   \n",
            "                                                                 \n",
            " dropout (Dropout)           (None, 23, 23, 32)        0         \n",
            "                                                                 \n",
            " conv2d_2 (Conv2D)           (None, 21, 21, 64)        18496     \n",
            "                                                                 \n",
            " conv2d_3 (Conv2D)           (None, 19, 19, 64)        36928     \n",
            "                                                                 \n",
            " max_pooling2d_1 (MaxPooling  (None, 9, 9, 64)         0         \n",
            " 2D)                                                             \n",
            "                                                                 \n",
            " batch_normalization_1 (Batc  (None, 9, 9, 64)         256       \n",
            " hNormalization)                                                 \n",
            "                                                                 \n",
            " dropout_1 (Dropout)         (None, 9, 9, 64)          0         \n",
            "                                                                 \n",
            " conv2d_4 (Conv2D)           (None, 7, 7, 128)         73856     \n",
            "                                                                 \n",
            " max_pooling2d_2 (MaxPooling  (None, 3, 3, 128)        0         \n",
            " 2D)                                                             \n",
            "                                                                 \n",
            " batch_normalization_2 (Batc  (None, 3, 3, 128)        512       \n",
            " hNormalization)                                                 \n",
            "                                                                 \n",
            " flatten (Flatten)           (None, 1152)              0         \n",
            "                                                                 \n",
            " dense (Dense)               (None, 1024)              1180672   \n",
            "                                                                 \n",
            " dropout_2 (Dropout)         (None, 1024)              0         \n",
            "                                                                 \n",
            " dense_1 (Dense)             (None, 256)               262400    \n",
            "                                                                 \n",
            " dense_2 (Dense)             (None, 1)                 257       \n",
            "                                                                 \n",
            "=================================================================\n",
            "Total params: 1,583,073\n",
            "Trainable params: 1,582,625\n",
            "Non-trainable params: 448\n",
            "_________________________________________________________________\n"
          ]
        }
      ],
      "source": [
        "model2 = Sequential()\n",
        "\n",
        "model2.add(Conv2D(32, (3, 3), activation=\"relu\", input_shape=X_test.shape[1:]))\n",
        "model2.add(Conv2D(32, (3, 3), activation=\"relu\"))\n",
        "model2.add(MaxPooling2D(2, 2))\n",
        "model2.add(BatchNormalization())\n",
        "model2.add(Dropout(0.4))\n",
        "\n",
        "model2.add(Conv2D(64, (3, 3), activation=\"relu\"))\n",
        "model2.add(Conv2D(64, (3, 3), activation=\"relu\"))\n",
        "model2.add(MaxPooling2D(2, 2))\n",
        "model2.add(BatchNormalization())\n",
        "model2.add(Dropout(0.4))\n",
        "\n",
        "model2.add(Conv2D(128, (3, 3), activation=\"relu\"))\n",
        "model2.add(MaxPooling2D(2, 2))\n",
        "model2.add(BatchNormalization())\n",
        "\n",
        "model2.add(Flatten())\n",
        "model2.add(Dense(1024, activation=\"relu\"))\n",
        "model2.add(Dropout(0.2))\n",
        "model2.add(Dense(256, activation=\"relu\"))\n",
        "model2.add(Dense(1, activation=\"sigmoid\"))\n",
        "\n",
        "model2.compile(loss=\"binary_crossentropy\", metrics=[\"accuracy\"], optimizer=adam)\n",
        "\n",
        "model2.summary()"
      ]
    },
    {
      "cell_type": "code",
      "source": [
        "history2 = model2.fit(X_train,y_train, batch_size=batch, epochs=100, validation_split=0.2,shuffle = True, verbose=1,callbacks=callbacks)\n"
      ],
      "metadata": {
        "colab": {
          "base_uri": "https://localhost:8080/"
        },
        "id": "s1tVqR65jgdr",
        "outputId": "576855de-ec16-4323-b48c-45a9d64d1fc4"
      },
      "execution_count": null,
      "outputs": [
        {
          "output_type": "stream",
          "name": "stdout",
          "text": [
            "Epoch 1/100\n",
            "1532/1532 [==============================] - ETA: 0s - loss: 0.1552 - accuracy: 0.9413\n",
            "Epoch 1: val_loss improved from inf to 0.16980, saving model to NewEyeModel.h5\n",
            "1532/1532 [==============================] - 24s 9ms/step - loss: 0.1552 - accuracy: 0.9413 - val_loss: 0.1698 - val_accuracy: 0.9382 - lr: 1.0000e-04\n",
            "Epoch 2/100\n",
            "1529/1532 [============================>.] - ETA: 0s - loss: 0.0754 - accuracy: 0.9721\n",
            "Epoch 2: val_loss improved from 0.16980 to 0.10417, saving model to NewEyeModel.h5\n",
            "1532/1532 [==============================] - 14s 9ms/step - loss: 0.0755 - accuracy: 0.9721 - val_loss: 0.1042 - val_accuracy: 0.9648 - lr: 1.0000e-04\n",
            "Epoch 3/100\n",
            "1528/1532 [============================>.] - ETA: 0s - loss: 0.0549 - accuracy: 0.9797\n",
            "Epoch 3: val_loss did not improve from 0.10417\n",
            "1532/1532 [==============================] - 14s 9ms/step - loss: 0.0548 - accuracy: 0.9797 - val_loss: 0.1201 - val_accuracy: 0.9608 - lr: 1.0000e-04\n",
            "Epoch 4/100\n",
            "1530/1532 [============================>.] - ETA: 0s - loss: 0.0457 - accuracy: 0.9838\n",
            "Epoch 4: val_loss improved from 0.10417 to 0.09096, saving model to NewEyeModel.h5\n",
            "1532/1532 [==============================] - 13s 9ms/step - loss: 0.0457 - accuracy: 0.9838 - val_loss: 0.0910 - val_accuracy: 0.9689 - lr: 1.0000e-04\n",
            "Epoch 5/100\n",
            "1532/1532 [==============================] - ETA: 0s - loss: 0.0404 - accuracy: 0.9854\n",
            "Epoch 5: val_loss improved from 0.09096 to 0.06088, saving model to NewEyeModel.h5\n",
            "1532/1532 [==============================] - 13s 9ms/step - loss: 0.0404 - accuracy: 0.9854 - val_loss: 0.0609 - val_accuracy: 0.9787 - lr: 1.0000e-04\n",
            "Epoch 6/100\n",
            "1531/1532 [============================>.] - ETA: 0s - loss: 0.0355 - accuracy: 0.9866\n",
            "Epoch 6: val_loss improved from 0.06088 to 0.05133, saving model to NewEyeModel.h5\n",
            "1532/1532 [==============================] - 14s 9ms/step - loss: 0.0355 - accuracy: 0.9866 - val_loss: 0.0513 - val_accuracy: 0.9819 - lr: 1.0000e-04\n",
            "Epoch 7/100\n",
            "1527/1532 [============================>.] - ETA: 0s - loss: 0.0316 - accuracy: 0.9882\n",
            "Epoch 7: val_loss improved from 0.05133 to 0.03922, saving model to NewEyeModel.h5\n",
            "1532/1532 [==============================] - 13s 9ms/step - loss: 0.0317 - accuracy: 0.9882 - val_loss: 0.0392 - val_accuracy: 0.9876 - lr: 1.0000e-04\n",
            "Epoch 8/100\n",
            "1529/1532 [============================>.] - ETA: 0s - loss: 0.0306 - accuracy: 0.9887\n",
            "Epoch 8: val_loss did not improve from 0.03922\n",
            "1532/1532 [==============================] - 14s 9ms/step - loss: 0.0307 - accuracy: 0.9887 - val_loss: 0.0501 - val_accuracy: 0.9827 - lr: 1.0000e-04\n",
            "Epoch 9/100\n",
            "1532/1532 [==============================] - ETA: 0s - loss: 0.0271 - accuracy: 0.9900\n",
            "Epoch 9: val_loss did not improve from 0.03922\n",
            "1532/1532 [==============================] - 13s 9ms/step - loss: 0.0271 - accuracy: 0.9900 - val_loss: 0.0528 - val_accuracy: 0.9847 - lr: 1.0000e-04\n",
            "Epoch 10/100\n",
            "1527/1532 [============================>.] - ETA: 0s - loss: 0.0271 - accuracy: 0.9899\n",
            "Epoch 10: val_loss did not improve from 0.03922\n",
            "1532/1532 [==============================] - 13s 9ms/step - loss: 0.0272 - accuracy: 0.9899 - val_loss: 0.0527 - val_accuracy: 0.9836 - lr: 1.0000e-04\n",
            "Epoch 11/100\n",
            "1532/1532 [==============================] - ETA: 0s - loss: 0.0248 - accuracy: 0.9912\n",
            "Epoch 11: val_loss improved from 0.03922 to 0.03254, saving model to NewEyeModel.h5\n",
            "1532/1532 [==============================] - 13s 9ms/step - loss: 0.0248 - accuracy: 0.9912 - val_loss: 0.0325 - val_accuracy: 0.9900 - lr: 1.0000e-04\n",
            "Epoch 12/100\n",
            "1526/1532 [============================>.] - ETA: 0s - loss: 0.0227 - accuracy: 0.9918\n",
            "Epoch 12: val_loss did not improve from 0.03254\n",
            "1532/1532 [==============================] - 13s 9ms/step - loss: 0.0227 - accuracy: 0.9918 - val_loss: 0.0440 - val_accuracy: 0.9878 - lr: 1.0000e-04\n",
            "Epoch 13/100\n",
            "1531/1532 [============================>.] - ETA: 0s - loss: 0.0213 - accuracy: 0.9922\n",
            "Epoch 13: val_loss did not improve from 0.03254\n",
            "1532/1532 [==============================] - 14s 9ms/step - loss: 0.0213 - accuracy: 0.9922 - val_loss: 0.0352 - val_accuracy: 0.9907 - lr: 1.0000e-04\n",
            "Epoch 14/100\n",
            "1530/1532 [============================>.] - ETA: 0s - loss: 0.0206 - accuracy: 0.9920\n",
            "Epoch 14: val_loss did not improve from 0.03254\n",
            "1532/1532 [==============================] - 13s 9ms/step - loss: 0.0205 - accuracy: 0.9920 - val_loss: 0.0418 - val_accuracy: 0.9873 - lr: 1.0000e-04\n",
            "Epoch 15/100\n",
            "1529/1532 [============================>.] - ETA: 0s - loss: 0.0193 - accuracy: 0.9925\n",
            "Epoch 15: val_loss did not improve from 0.03254\n",
            "1532/1532 [==============================] - 14s 9ms/step - loss: 0.0193 - accuracy: 0.9925 - val_loss: 0.0648 - val_accuracy: 0.9827 - lr: 1.0000e-04\n",
            "Epoch 16/100\n",
            "1526/1532 [============================>.] - ETA: 0s - loss: 0.0190 - accuracy: 0.9930\n",
            "Epoch 16: val_loss did not improve from 0.03254\n",
            "1532/1532 [==============================] - 14s 9ms/step - loss: 0.0190 - accuracy: 0.9930 - val_loss: 0.0522 - val_accuracy: 0.9834 - lr: 1.0000e-04\n",
            "Epoch 17/100\n",
            "1532/1532 [==============================] - ETA: 0s - loss: 0.0172 - accuracy: 0.9934\n",
            "Epoch 17: val_loss did not improve from 0.03254\n",
            "1532/1532 [==============================] - 13s 9ms/step - loss: 0.0172 - accuracy: 0.9934 - val_loss: 0.0514 - val_accuracy: 0.9847 - lr: 1.0000e-04\n",
            "Epoch 18/100\n",
            "1527/1532 [============================>.] - ETA: 0s - loss: 0.0174 - accuracy: 0.9932\n",
            "Epoch 18: val_loss did not improve from 0.03254\n",
            "1532/1532 [==============================] - 14s 9ms/step - loss: 0.0174 - accuracy: 0.9932 - val_loss: 0.0510 - val_accuracy: 0.9852 - lr: 1.0000e-04\n",
            "Epoch 19/100\n",
            "1530/1532 [============================>.] - ETA: 0s - loss: 0.0165 - accuracy: 0.9939\n",
            "Epoch 19: val_loss did not improve from 0.03254\n",
            "1532/1532 [==============================] - 14s 9ms/step - loss: 0.0165 - accuracy: 0.9939 - val_loss: 0.1245 - val_accuracy: 0.9507 - lr: 1.0000e-04\n",
            "Epoch 20/100\n",
            "1532/1532 [==============================] - ETA: 0s - loss: 0.0156 - accuracy: 0.9941\n",
            "Epoch 20: val_loss did not improve from 0.03254\n",
            "1532/1532 [==============================] - 13s 9ms/step - loss: 0.0156 - accuracy: 0.9941 - val_loss: 0.0668 - val_accuracy: 0.9794 - lr: 1.0000e-04\n",
            "Epoch 21/100\n",
            "1531/1532 [============================>.] - ETA: 0s - loss: 0.0146 - accuracy: 0.9943Restoring model weights from the end of the best epoch: 11.\n",
            "\n",
            "Epoch 21: val_loss did not improve from 0.03254\n",
            "1532/1532 [==============================] - 13s 9ms/step - loss: 0.0146 - accuracy: 0.9943 - val_loss: 0.0386 - val_accuracy: 0.9901 - lr: 1.0000e-04\n",
            "Epoch 21: early stopping\n"
          ]
        }
      ]
    },
    {
      "cell_type": "code",
      "execution_count": null,
      "metadata": {
        "id": "J5manMTdJO1k",
        "colab": {
          "base_uri": "https://localhost:8080/",
          "height": 582
        },
        "outputId": "9b49186c-926c-4025-cdf6-5ae90bb1ded2"
      },
      "outputs": [
        {
          "output_type": "display_data",
          "data": {
            "text/plain": [
              "<Figure size 432x288 with 1 Axes>"
            ],
            "image/png": "[encoded data removed]"
          },
          "metadata": {
            "needs_background": "light"
          }
        },
        {
          "output_type": "display_data",
          "data": {
            "text/plain": [
              "<Figure size 432x288 with 1 Axes>"
            ],
            "image/png": "[encoded data removed]"
          },
          "metadata": {
            "needs_background": "light"
          }
        },
        {
          "output_type": "stream",
          "name": "stdout",
          "text": [
            "Model Evaluation\n",
            "Loss: 0.097\n",
            "Accuracy: 0.968\n",
            "\n"
          ]
        }
      ],
      "source": [
        "accuracy = history2.history['accuracy']\n",
        "val_accuracy = history2.history['val_accuracy']\n",
        "loss = history2.history['loss']\n",
        "val_loss = history2.history['val_loss']\n",
        "epochs = range(len(accuracy))\n",
        "\n",
        "plt.plot(epochs, accuracy, \"b\", label=\"trainning accuracy\")\n",
        "plt.plot(epochs, val_accuracy, \"r\", label=\"validation accuracy\")\n",
        "plt.legend()\n",
        "plt.show()\n",
        "\n",
        "plt.plot(epochs, loss, \"b\", label=\"trainning loss\")\n",
        "plt.plot(epochs, val_loss, \"r\", label=\"validation loss\")\n",
        "plt.legend()\n",
        "plt.show()\n",
        "\n",
        "(loss,acc) = model2.evaluate(X_test,y_test, verbose=0)\n",
        "print('Model Evaluation')\n",
        "print('Loss: %.3f' % loss)\n",
        "print('Accuracy: %.3f' % acc)\n",
        "print()"
      ]
    }
  ],
  "metadata": {
    "accelerator": "GPU",
    "colab": {
      "provenance": []
    },
    "gpuClass": "standard",
    "kernelspec": {
      "display_name": "Python 3",
      "name": "python3"
    },
    "language_info": {
      "name": "python"
    }
  },
  "nbformat": 4,
  "nbformat_minor": 0
}