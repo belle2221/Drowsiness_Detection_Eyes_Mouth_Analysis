{
  "cells": [
    {
      "cell_type": "code",
      "execution_count": 1,
      "metadata": {
        "id": "RJPuE8Hxx44L"
      },
      "outputs": [],
      "source": [
        "import numpy as np\n",
        "import argparse\n",
        "import dlib\n",
        "import cv2\n",
        "import os\n",
        "import matplotlib.pyplot as plt\n",
        "from keras.preprocessing.image import ImageDataGenerator\n",
        "import imutils\n",
        "from imutils import face_utils\n",
        "from tensorflow.keras.layers import Input, Lambda, Dense, Flatten, Conv2D, MaxPooling2D, Dropout\n",
        "from tensorflow.keras.models import Model\n",
        "from tensorflow.keras.models import Sequential\n",
        "from keras.layers import BatchNormalization\n",
        "from tensorflow.keras.optimizers import Adam\n",
        "from keras.preprocessing.image import ImageDataGenerator\n",
        "import tensorflow as tf"
      ]
    },
    {
      "cell_type": "code",
      "execution_count": 2,
      "metadata": {
        "colab": {
          "base_uri": "https://localhost:8080/"
        },
        "id": "4Tl9R_EZx1nP",
        "outputId": "f7418be5-e486-48e4-e074-d0f3875861ff"
      },
      "outputs": [
        {
          "output_type": "stream",
          "name": "stdout",
          "text": [
            "Mounted at /content/drive\n"
          ]
        }
      ],
      "source": [
        "from google.colab import drive\n",
        "drive.mount('/content/drive')"
      ]
    },
    {
      "cell_type": "code",
      "execution_count": 3,
      "metadata": {
        "colab": {
          "base_uri": "https://localhost:8080/"
        },
        "id": "eXmr0O4jx-iE",
        "outputId": "66950f32-864e-48d7-b4ab-5dca51954fa9"
      },
      "outputs": [
        {
          "output_type": "stream",
          "name": "stdout",
          "text": [
            "Done\n"
          ]
        }
      ],
      "source": [
        "from zipfile import ZipFile\n",
        "file_name = \"/content/drive/MyDrive/mouth_dataset_split.zip\"\n",
        "\n",
        "with ZipFile(file_name,'r') as zip:\n",
        "  zip.extractall()\n",
        "  print('Done')"
      ]
    },
    {
      "cell_type": "code",
      "execution_count": 4,
      "metadata": {
        "colab": {
          "base_uri": "https://localhost:8080/"
        },
        "id": "CEqAvgr3x_53",
        "outputId": "d968e358-7baa-439a-b8d2-ce9116dd6d20"
      },
      "outputs": [
        {
          "output_type": "stream",
          "name": "stdout",
          "text": [
            "Done\n"
          ]
        }
      ],
      "source": [
        "from zipfile import ZipFile\n",
        "file_name = \"/content/drive/MyDrive/Shared.zip\"\n",
        "\n",
        "with ZipFile(file_name,'r') as zip:\n",
        "  zip.extractall()\n",
        "  print('Done')"
      ]
    },
    {
      "cell_type": "code",
      "execution_count": 5,
      "metadata": {
        "id": "Nr8COvtfyBQw"
      },
      "outputs": [],
      "source": [
        "detector = dlib.get_frontal_face_detector()\n",
        "predictor = dlib.shape_predictor('/content/Shared/shape_predictor_68_face_landmarks.dat')\n"
      ]
    },
    {
      "cell_type": "code",
      "execution_count": 6,
      "metadata": {
        "id": "Aj6jSADgydes"
      },
      "outputs": [],
      "source": [
        "def get_data(direc):\n",
        "    X =[]\n",
        "    y = []\n",
        "    IMG_SIZE = 50\n",
        "    categories = os.listdir(direc)\n",
        "    for category in categories:\n",
        "        path_link = os.path.join(direc, category)\n",
        "        for image in os.listdir(path_link):\n",
        "            image_array = cv2.imread(os.path.join(path_link, image),cv2.IMREAD_GRAYSCALE)\n",
        "            image_array = cv2.resize(image_array, (IMG_SIZE, IMG_SIZE))\n",
        "            X.append(image_array)\n",
        "            y.append(int(category))\n",
        "    return X,y\n",
        "\n"
      ]
    },
    {
      "cell_type": "code",
      "execution_count": 7,
      "metadata": {
        "id": "BTqTHlEFykZy"
      },
      "outputs": [],
      "source": [
        "X_train,y_train = get_data(\"/content/mouth_dataset_split/train\")\n",
        "X_test,y_test = get_data(\"/content/mouth_dataset_split/test\")"
      ]
    },
    {
      "cell_type": "code",
      "execution_count": 8,
      "metadata": {
        "id": "vI96sYQXyl8Q"
      },
      "outputs": [],
      "source": [
        "X_train = np.array(X_train).reshape(-1,50,50,1)\n",
        "X_test = np.array(X_test).reshape(-1,50,50,1)\n",
        "X_train = X_train.astype('float32') / 255.0\n",
        "X_test = X_test.astype('float32') / 255.0"
      ]
    },
    {
      "cell_type": "code",
      "execution_count": 9,
      "metadata": {
        "id": "84BNZMoLynZK"
      },
      "outputs": [],
      "source": [
        "y_train = np.array(y_train).reshape(-1,1)\n",
        "y_test = np.array(y_test).reshape(-1,1)\n",
        "y_train = y_train.flatten()\n",
        "y_test = y_test.flatten()"
      ]
    },
    {
      "cell_type": "code",
      "execution_count": 10,
      "metadata": {
        "id": "ioInRxBRyr86"
      },
      "outputs": [],
      "source": [
        "train_dir = \"/content/mouth_dataset_split/train\"\n",
        "test_dir = \"/content/mouth_dataset_split/test\""
      ]
    },
    {
      "cell_type": "code",
      "source": [
        "train_datagen = ImageDataGenerator(horizontal_flip=True,\n",
        "                                   rescale=1./255,\n",
        "                                   rotation_range=20,\n",
        "                                   width_shift_range=0.1,\n",
        "                                   height_shift_range=0.1,\n",
        "                                   shear_range=2,\n",
        "                                   zoom_range=0.2,\n",
        "                                   validation_split=0.2, \n",
        "                                   dtype=np.float32)"
      ],
      "metadata": {
        "id": "0EOrya_txy7J"
      },
      "execution_count": 11,
      "outputs": []
    },
    {
      "cell_type": "code",
      "source": [
        "batch_train = 2048\n",
        "batch_val = 512"
      ],
      "metadata": {
        "id": "9GL2FTwSZTwZ"
      },
      "execution_count": 12,
      "outputs": []
    },
    {
      "cell_type": "code",
      "source": [
        "validation_generator = train_datagen.flow_from_directory(\n",
        "    train_dir,  # Source directory\n",
        "    target_size=(50, 50),  # Resized\n",
        "    batch_size=batch_val,\n",
        "    color_mode='grayscale',\n",
        "    subset='validation',\n",
        "    class_mode='binary')"
      ],
      "metadata": {
        "colab": {
          "base_uri": "https://localhost:8080/"
        },
        "id": "zK75es92x2TM",
        "outputId": "4a778948-9a78-4f19-a5e2-b92bcdc54ebf"
      },
      "execution_count": 13,
      "outputs": [
        {
          "output_type": "stream",
          "name": "stdout",
          "text": [
            "Found 807 images belonging to 2 classes.\n"
          ]
        }
      ]
    },
    {
      "cell_type": "code",
      "source": [
        "train_generator = train_datagen.flow_from_directory(\n",
        "    train_dir,  # Source directory\n",
        "    target_size=(50, 50),  #Resized to this size\n",
        "    batch_size=batch_train,\n",
        "    color_mode='grayscale',\n",
        "    subset='training',\n",
        "    class_mode='binary')"
      ],
      "metadata": {
        "colab": {
          "base_uri": "https://localhost:8080/"
        },
        "id": "edHXOFa9x1LE",
        "outputId": "b684b1d3-c9a4-4fd9-e689-ff75022f10cf"
      },
      "execution_count": 14,
      "outputs": [
        {
          "output_type": "stream",
          "name": "stdout",
          "text": [
            "Found 3234 images belonging to 2 classes.\n"
          ]
        }
      ]
    },
    {
      "cell_type": "code",
      "source": [
        "learning_rate = 0.0001\n",
        "adam = Adam(lr=learning_rate)"
      ],
      "metadata": {
        "id": "-v3uUBMOUJKu",
        "colab": {
          "base_uri": "https://localhost:8080/"
        },
        "outputId": "653959e5-a13c-41d3-a0c7-c01b46782b08"
      },
      "execution_count": 15,
      "outputs": [
        {
          "output_type": "stream",
          "name": "stderr",
          "text": [
            "/usr/local/lib/python3.8/dist-packages/keras/optimizers/optimizer_v2/adam.py:110: UserWarning: The `lr` argument is deprecated, use `learning_rate` instead.\n",
            "  super(Adam, self).__init__(name, **kwargs)\n"
          ]
        }
      ]
    },
    {
      "cell_type": "code",
      "source": [
        "from tensorflow.keras.callbacks import EarlyStopping, ReduceLROnPlateau, ModelCheckpoint\n",
        "callbacks = [\n",
        "    EarlyStopping(monitor = 'val_loss',\n",
        "                          min_delta = 0, #minimium amount of change to count as an improvement\n",
        "                          patience = 10, # how many epochs to wait before stopping\n",
        "                          verbose = 1,\n",
        "                          restore_best_weights = True),\n",
        "    ReduceLROnPlateau(factor=0.9, patience=10, min_lr=0.001),\n",
        "    ModelCheckpoint('MouthModel.h5', verbose=1, save_best_only=True)#, save_weights_only=True\n",
        "]"
      ],
      "metadata": {
        "id": "3aNotr95Jb08"
      },
      "execution_count": 16,
      "outputs": []
    },
    {
      "cell_type": "code",
      "execution_count": 17,
      "metadata": {
        "colab": {
          "base_uri": "https://localhost:8080/"
        },
        "id": "MKpbVqfU7rDu",
        "outputId": "22cc0232-8542-4912-d57c-66aa5d6b069a"
      },
      "outputs": [
        {
          "output_type": "stream",
          "name": "stdout",
          "text": [
            "Model: \"sequential\"\n",
            "_________________________________________________________________\n",
            " Layer (type)                Output Shape              Param #   \n",
            "=================================================================\n",
            " conv2d (Conv2D)             (None, 48, 48, 32)        320       \n",
            "                                                                 \n",
            " max_pooling2d (MaxPooling2D  (None, 24, 24, 32)       0         \n",
            " )                                                               \n",
            "                                                                 \n",
            " conv2d_1 (Conv2D)           (None, 22, 22, 64)        18496     \n",
            "                                                                 \n",
            " conv2d_2 (Conv2D)           (None, 20, 20, 64)        36928     \n",
            "                                                                 \n",
            " max_pooling2d_1 (MaxPooling  (None, 10, 10, 64)       0         \n",
            " 2D)                                                             \n",
            "                                                                 \n",
            " conv2d_3 (Conv2D)           (None, 8, 8, 128)         73856     \n",
            "                                                                 \n",
            " max_pooling2d_2 (MaxPooling  (None, 4, 4, 128)        0         \n",
            " 2D)                                                             \n",
            "                                                                 \n",
            " flatten (Flatten)           (None, 2048)              0         \n",
            "                                                                 \n",
            " dense (Dense)               (None, 1024)              2098176   \n",
            "                                                                 \n",
            " dropout (Dropout)           (None, 1024)              0         \n",
            "                                                                 \n",
            " dense_1 (Dense)             (None, 128)               131200    \n",
            "                                                                 \n",
            " dropout_1 (Dropout)         (None, 128)               0         \n",
            "                                                                 \n",
            " dense_2 (Dense)             (None, 1)                 129       \n",
            "                                                                 \n",
            "=================================================================\n",
            "Total params: 2,359,105\n",
            "Trainable params: 2,359,105\n",
            "Non-trainable params: 0\n",
            "_________________________________________________________________\n"
          ]
        }
      ],
      "source": [
        "model = Sequential()\n",
        "\n",
        "model.add(Conv2D(32, (3, 3), activation=\"relu\", input_shape=X_test.shape[1:]))\n",
        "model.add(MaxPooling2D(2, 2))\n",
        "\n",
        "model.add(Conv2D(64, (3, 3), activation=\"relu\"))\n",
        "model.add(Conv2D(64, (3, 3), activation=\"relu\"))\n",
        "model.add(MaxPooling2D(2, 2))\n",
        "\n",
        "model.add(Conv2D(128, (3, 3), activation=\"relu\"))\n",
        "model.add(MaxPooling2D(2, 2))\n",
        "\n",
        "model.add(Flatten())\n",
        "model.add(Dense(1024, activation=\"relu\"))\n",
        "model.add(Dropout(0.5))\n",
        "model.add(Dense(128, activation=\"relu\"))\n",
        "model.add(Dropout(0.5))\n",
        "model.add(Dense(1, activation=\"sigmoid\"))\n",
        "\n",
        "model.compile(loss=\"binary_crossentropy\", metrics=[\"accuracy\"], optimizer=\"adam\")\n",
        "\n",
        "model.summary()"
      ]
    },
    {
      "cell_type": "code",
      "source": [
        "#history2 = model2.fit(X_train,y_train, batch_size=batch, epochs=100, validation_split=0.2,shuffle = True, verbose=1,callbacks=callbacks)\n",
        "history2 = model.fit(train_generator, epochs=300, shuffle=True, validation_data=validation_generator, validation_steps=validation_generator.samples//batch_val,steps_per_epoch=train_generator.samples//batch_train, callbacks=callbacks)"
      ],
      "metadata": {
        "colab": {
          "base_uri": "https://localhost:8080/"
        },
        "id": "s1tVqR65jgdr",
        "outputId": "d29f7a26-e5df-4e4a-ab9e-3dffc080ef0b"
      },
      "execution_count": 18,
      "outputs": [
        {
          "output_type": "stream",
          "name": "stdout",
          "text": [
            "Epoch 1/300\n",
            "1/1 [==============================] - ETA: 0s - loss: 0.6938 - accuracy: 0.5211\n",
            "Epoch 1: val_loss improved from inf to 0.70032, saving model to MouthModel.h5\n",
            "1/1 [==============================] - 12s 12s/step - loss: 0.6938 - accuracy: 0.5211 - val_loss: 0.7003 - val_accuracy: 0.5000 - lr: 0.0010\n",
            "Epoch 2/300\n",
            "1/1 [==============================] - ETA: 0s - loss: 0.7037 - accuracy: 0.4722\n",
            "Epoch 2: val_loss improved from 0.70032 to 0.68655, saving model to MouthModel.h5\n",
            "1/1 [==============================] - 3s 3s/step - loss: 0.7037 - accuracy: 0.4722 - val_loss: 0.6865 - val_accuracy: 0.5352 - lr: 0.0010\n",
            "Epoch 3/300\n",
            "1/1 [==============================] - ETA: 0s - loss: 0.6874 - accuracy: 0.5767\n",
            "Epoch 3: val_loss improved from 0.68655 to 0.68305, saving model to MouthModel.h5\n",
            "1/1 [==============================] - 5s 5s/step - loss: 0.6874 - accuracy: 0.5767 - val_loss: 0.6830 - val_accuracy: 0.5996 - lr: 0.0010\n",
            "Epoch 4/300\n",
            "1/1 [==============================] - ETA: 0s - loss: 0.6810 - accuracy: 0.6289\n",
            "Epoch 4: val_loss improved from 0.68305 to 0.68007, saving model to MouthModel.h5\n",
            "1/1 [==============================] - 3s 3s/step - loss: 0.6810 - accuracy: 0.6289 - val_loss: 0.6801 - val_accuracy: 0.5215 - lr: 0.0010\n",
            "Epoch 5/300\n",
            "1/1 [==============================] - ETA: 0s - loss: 0.6684 - accuracy: 0.5996\n",
            "Epoch 5: val_loss improved from 0.68007 to 0.65879, saving model to MouthModel.h5\n",
            "1/1 [==============================] - 3s 3s/step - loss: 0.6684 - accuracy: 0.5996 - val_loss: 0.6588 - val_accuracy: 0.6934 - lr: 0.0010\n",
            "Epoch 6/300\n",
            "1/1 [==============================] - ETA: 0s - loss: 0.6382 - accuracy: 0.7774\n",
            "Epoch 6: val_loss improved from 0.65879 to 0.62480, saving model to MouthModel.h5\n",
            "1/1 [==============================] - 3s 3s/step - loss: 0.6382 - accuracy: 0.7774 - val_loss: 0.6248 - val_accuracy: 0.7227 - lr: 0.0010\n",
            "Epoch 7/300\n",
            "1/1 [==============================] - ETA: 0s - loss: 0.5898 - accuracy: 0.7884\n",
            "Epoch 7: val_loss did not improve from 0.62480\n",
            "1/1 [==============================] - 3s 3s/step - loss: 0.5898 - accuracy: 0.7884 - val_loss: 0.6323 - val_accuracy: 0.5898 - lr: 0.0010\n",
            "Epoch 8/300\n",
            "1/1 [==============================] - ETA: 0s - loss: 0.5948 - accuracy: 0.6273\n",
            "Epoch 8: val_loss did not improve from 0.62480\n",
            "1/1 [==============================] - 3s 3s/step - loss: 0.5948 - accuracy: 0.6273 - val_loss: 0.6821 - val_accuracy: 0.6309 - lr: 0.0010\n",
            "Epoch 9/300\n",
            "1/1 [==============================] - ETA: 0s - loss: 0.6112 - accuracy: 0.6675\n",
            "Epoch 9: val_loss improved from 0.62480 to 0.58553, saving model to MouthModel.h5\n",
            "1/1 [==============================] - 3s 3s/step - loss: 0.6112 - accuracy: 0.6675 - val_loss: 0.5855 - val_accuracy: 0.7070 - lr: 0.0010\n",
            "Epoch 10/300\n",
            "1/1 [==============================] - ETA: 0s - loss: 0.4799 - accuracy: 0.7993\n",
            "Epoch 10: val_loss did not improve from 0.58553\n",
            "1/1 [==============================] - 4s 4s/step - loss: 0.4799 - accuracy: 0.7993 - val_loss: 0.6511 - val_accuracy: 0.6328 - lr: 0.0010\n",
            "Epoch 11/300\n",
            "1/1 [==============================] - ETA: 0s - loss: 0.5779 - accuracy: 0.6830\n",
            "Epoch 11: val_loss improved from 0.58553 to 0.54625, saving model to MouthModel.h5\n",
            "1/1 [==============================] - 2s 2s/step - loss: 0.5779 - accuracy: 0.6830 - val_loss: 0.5462 - val_accuracy: 0.7285 - lr: 0.0010\n",
            "Epoch 12/300\n",
            "1/1 [==============================] - ETA: 0s - loss: 0.4346 - accuracy: 0.8145\n",
            "Epoch 12: val_loss did not improve from 0.54625\n",
            "1/1 [==============================] - 2s 2s/step - loss: 0.4346 - accuracy: 0.8145 - val_loss: 0.5756 - val_accuracy: 0.7227 - lr: 0.0010\n",
            "Epoch 13/300\n",
            "1/1 [==============================] - ETA: 0s - loss: 0.4469 - accuracy: 0.8047\n",
            "Epoch 13: val_loss did not improve from 0.54625\n",
            "1/1 [==============================] - 3s 3s/step - loss: 0.4469 - accuracy: 0.8047 - val_loss: 0.5798 - val_accuracy: 0.7266 - lr: 0.0010\n",
            "Epoch 14/300\n",
            "1/1 [==============================] - ETA: 0s - loss: 0.4238 - accuracy: 0.8228\n",
            "Epoch 14: val_loss improved from 0.54625 to 0.54588, saving model to MouthModel.h5\n",
            "1/1 [==============================] - 3s 3s/step - loss: 0.4238 - accuracy: 0.8228 - val_loss: 0.5459 - val_accuracy: 0.7441 - lr: 0.0010\n",
            "Epoch 15/300\n",
            "1/1 [==============================] - ETA: 0s - loss: 0.3942 - accuracy: 0.8398\n",
            "Epoch 15: val_loss improved from 0.54588 to 0.54468, saving model to MouthModel.h5\n",
            "1/1 [==============================] - 3s 3s/step - loss: 0.3942 - accuracy: 0.8398 - val_loss: 0.5447 - val_accuracy: 0.7383 - lr: 0.0010\n",
            "Epoch 16/300\n",
            "1/1 [==============================] - ETA: 0s - loss: 0.3897 - accuracy: 0.8364\n",
            "Epoch 16: val_loss improved from 0.54468 to 0.51947, saving model to MouthModel.h5\n",
            "1/1 [==============================] - 3s 3s/step - loss: 0.3897 - accuracy: 0.8364 - val_loss: 0.5195 - val_accuracy: 0.7715 - lr: 0.0010\n",
            "Epoch 17/300\n",
            "1/1 [==============================] - ETA: 0s - loss: 0.3560 - accuracy: 0.8482\n",
            "Epoch 17: val_loss improved from 0.51947 to 0.50620, saving model to MouthModel.h5\n",
            "1/1 [==============================] - 3s 3s/step - loss: 0.3560 - accuracy: 0.8482 - val_loss: 0.5062 - val_accuracy: 0.7676 - lr: 0.0010\n",
            "Epoch 18/300\n",
            "1/1 [==============================] - ETA: 0s - loss: 0.3593 - accuracy: 0.8491\n",
            "Epoch 18: val_loss did not improve from 0.50620\n",
            "1/1 [==============================] - 3s 3s/step - loss: 0.3593 - accuracy: 0.8491 - val_loss: 0.5337 - val_accuracy: 0.7617 - lr: 0.0010\n",
            "Epoch 19/300\n",
            "1/1 [==============================] - ETA: 0s - loss: 0.3465 - accuracy: 0.8550\n",
            "Epoch 19: val_loss did not improve from 0.50620\n",
            "1/1 [==============================] - 2s 2s/step - loss: 0.3465 - accuracy: 0.8550 - val_loss: 0.5274 - val_accuracy: 0.7695 - lr: 0.0010\n",
            "Epoch 20/300\n",
            "1/1 [==============================] - ETA: 0s - loss: 0.3406 - accuracy: 0.8667\n",
            "Epoch 20: val_loss did not improve from 0.50620\n",
            "1/1 [==============================] - 3s 3s/step - loss: 0.3406 - accuracy: 0.8667 - val_loss: 0.5228 - val_accuracy: 0.7734 - lr: 0.0010\n",
            "Epoch 21/300\n",
            "1/1 [==============================] - ETA: 0s - loss: 0.3592 - accuracy: 0.8613\n",
            "Epoch 21: val_loss improved from 0.50620 to 0.47984, saving model to MouthModel.h5\n",
            "1/1 [==============================] - 3s 3s/step - loss: 0.3592 - accuracy: 0.8613 - val_loss: 0.4798 - val_accuracy: 0.7969 - lr: 0.0010\n",
            "Epoch 22/300\n",
            "1/1 [==============================] - ETA: 0s - loss: 0.3202 - accuracy: 0.8794\n",
            "Epoch 22: val_loss did not improve from 0.47984\n",
            "1/1 [==============================] - 2s 2s/step - loss: 0.3202 - accuracy: 0.8794 - val_loss: 0.5587 - val_accuracy: 0.7578 - lr: 0.0010\n",
            "Epoch 23/300\n",
            "1/1 [==============================] - ETA: 0s - loss: 0.3067 - accuracy: 0.8818\n",
            "Epoch 23: val_loss did not improve from 0.47984\n",
            "1/1 [==============================] - 3s 3s/step - loss: 0.3067 - accuracy: 0.8818 - val_loss: 0.5552 - val_accuracy: 0.7598 - lr: 0.0010\n",
            "Epoch 24/300\n",
            "1/1 [==============================] - ETA: 0s - loss: 0.3119 - accuracy: 0.8745\n",
            "Epoch 24: val_loss did not improve from 0.47984\n",
            "1/1 [==============================] - 3s 3s/step - loss: 0.3119 - accuracy: 0.8745 - val_loss: 0.5126 - val_accuracy: 0.7852 - lr: 0.0010\n",
            "Epoch 25/300\n",
            "1/1 [==============================] - ETA: 0s - loss: 0.3205 - accuracy: 0.8710\n",
            "Epoch 25: val_loss did not improve from 0.47984\n",
            "1/1 [==============================] - 2s 2s/step - loss: 0.3205 - accuracy: 0.8710 - val_loss: 0.4939 - val_accuracy: 0.7852 - lr: 0.0010\n",
            "Epoch 26/300\n",
            "1/1 [==============================] - ETA: 0s - loss: 0.3055 - accuracy: 0.8892\n",
            "Epoch 26: val_loss improved from 0.47984 to 0.44576, saving model to MouthModel.h5\n",
            "1/1 [==============================] - 3s 3s/step - loss: 0.3055 - accuracy: 0.8892 - val_loss: 0.4458 - val_accuracy: 0.7969 - lr: 0.0010\n",
            "Epoch 27/300\n",
            "1/1 [==============================] - ETA: 0s - loss: 0.2868 - accuracy: 0.8921\n",
            "Epoch 27: val_loss did not improve from 0.44576\n",
            "1/1 [==============================] - 2s 2s/step - loss: 0.2868 - accuracy: 0.8921 - val_loss: 0.4469 - val_accuracy: 0.8008 - lr: 0.0010\n",
            "Epoch 28/300\n",
            "1/1 [==============================] - ETA: 0s - loss: 0.2852 - accuracy: 0.8938\n",
            "Epoch 28: val_loss did not improve from 0.44576\n",
            "1/1 [==============================] - 2s 2s/step - loss: 0.2852 - accuracy: 0.8938 - val_loss: 0.4845 - val_accuracy: 0.7988 - lr: 0.0010\n",
            "Epoch 29/300\n",
            "1/1 [==============================] - ETA: 0s - loss: 0.2887 - accuracy: 0.8980\n",
            "Epoch 29: val_loss did not improve from 0.44576\n",
            "1/1 [==============================] - 2s 2s/step - loss: 0.2887 - accuracy: 0.8980 - val_loss: 0.5132 - val_accuracy: 0.7852 - lr: 0.0010\n",
            "Epoch 30/300\n",
            "1/1 [==============================] - ETA: 0s - loss: 0.2814 - accuracy: 0.8896\n",
            "Epoch 30: val_loss did not improve from 0.44576\n",
            "1/1 [==============================] - 3s 3s/step - loss: 0.2814 - accuracy: 0.8896 - val_loss: 0.4947 - val_accuracy: 0.7891 - lr: 0.0010\n",
            "Epoch 31/300\n",
            "1/1 [==============================] - ETA: 0s - loss: 0.2586 - accuracy: 0.9053\n",
            "Epoch 31: val_loss did not improve from 0.44576\n",
            "1/1 [==============================] - 3s 3s/step - loss: 0.2586 - accuracy: 0.9053 - val_loss: 0.5468 - val_accuracy: 0.7715 - lr: 0.0010\n",
            "Epoch 32/300\n",
            "1/1 [==============================] - ETA: 0s - loss: 0.2787 - accuracy: 0.8921\n",
            "Epoch 32: val_loss improved from 0.44576 to 0.44266, saving model to MouthModel.h5\n",
            "1/1 [==============================] - 3s 3s/step - loss: 0.2787 - accuracy: 0.8921 - val_loss: 0.4427 - val_accuracy: 0.8125 - lr: 0.0010\n",
            "Epoch 33/300\n",
            "1/1 [==============================] - ETA: 0s - loss: 0.2667 - accuracy: 0.9028\n",
            "Epoch 33: val_loss did not improve from 0.44266\n",
            "1/1 [==============================] - 3s 3s/step - loss: 0.2667 - accuracy: 0.9028 - val_loss: 0.4738 - val_accuracy: 0.8047 - lr: 0.0010\n",
            "Epoch 34/300\n",
            "1/1 [==============================] - ETA: 0s - loss: 0.2452 - accuracy: 0.9072\n",
            "Epoch 34: val_loss did not improve from 0.44266\n",
            "1/1 [==============================] - 3s 3s/step - loss: 0.2452 - accuracy: 0.9072 - val_loss: 0.4839 - val_accuracy: 0.8027 - lr: 0.0010\n",
            "Epoch 35/300\n",
            "1/1 [==============================] - ETA: 0s - loss: 0.2494 - accuracy: 0.9132\n",
            "Epoch 35: val_loss did not improve from 0.44266\n",
            "1/1 [==============================] - 2s 2s/step - loss: 0.2494 - accuracy: 0.9132 - val_loss: 0.4676 - val_accuracy: 0.8105 - lr: 0.0010\n",
            "Epoch 36/300\n",
            "1/1 [==============================] - ETA: 0s - loss: 0.2351 - accuracy: 0.9102\n",
            "Epoch 36: val_loss improved from 0.44266 to 0.40638, saving model to MouthModel.h5\n",
            "1/1 [==============================] - 3s 3s/step - loss: 0.2351 - accuracy: 0.9102 - val_loss: 0.4064 - val_accuracy: 0.8281 - lr: 0.0010\n",
            "Epoch 37/300\n",
            "1/1 [==============================] - ETA: 0s - loss: 0.2303 - accuracy: 0.9136\n",
            "Epoch 37: val_loss did not improve from 0.40638\n",
            "1/1 [==============================] - 3s 3s/step - loss: 0.2303 - accuracy: 0.9136 - val_loss: 0.4477 - val_accuracy: 0.8242 - lr: 0.0010\n",
            "Epoch 38/300\n",
            "1/1 [==============================] - ETA: 0s - loss: 0.2222 - accuracy: 0.9185\n",
            "Epoch 38: val_loss did not improve from 0.40638\n",
            "1/1 [==============================] - 3s 3s/step - loss: 0.2222 - accuracy: 0.9185 - val_loss: 0.4504 - val_accuracy: 0.8145 - lr: 0.0010\n",
            "Epoch 39/300\n",
            "1/1 [==============================] - ETA: 0s - loss: 0.2289 - accuracy: 0.9140\n",
            "Epoch 39: val_loss improved from 0.40638 to 0.39993, saving model to MouthModel.h5\n",
            "1/1 [==============================] - 3s 3s/step - loss: 0.2289 - accuracy: 0.9140 - val_loss: 0.3999 - val_accuracy: 0.8340 - lr: 0.0010\n",
            "Epoch 40/300\n",
            "1/1 [==============================] - ETA: 0s - loss: 0.2473 - accuracy: 0.9030\n",
            "Epoch 40: val_loss did not improve from 0.39993\n",
            "1/1 [==============================] - 2s 2s/step - loss: 0.2473 - accuracy: 0.9030 - val_loss: 0.5517 - val_accuracy: 0.8027 - lr: 0.0010\n",
            "Epoch 41/300\n",
            "1/1 [==============================] - ETA: 0s - loss: 0.2358 - accuracy: 0.9092\n",
            "Epoch 41: val_loss improved from 0.39993 to 0.35988, saving model to MouthModel.h5\n",
            "1/1 [==============================] - 3s 3s/step - loss: 0.2358 - accuracy: 0.9092 - val_loss: 0.3599 - val_accuracy: 0.8418 - lr: 0.0010\n",
            "Epoch 42/300\n",
            "1/1 [==============================] - ETA: 0s - loss: 0.2176 - accuracy: 0.9175\n",
            "Epoch 42: val_loss did not improve from 0.35988\n",
            "1/1 [==============================] - 3s 3s/step - loss: 0.2176 - accuracy: 0.9175 - val_loss: 0.4140 - val_accuracy: 0.8027 - lr: 0.0010\n",
            "Epoch 43/300\n",
            "1/1 [==============================] - ETA: 0s - loss: 0.2074 - accuracy: 0.9199\n",
            "Epoch 43: val_loss did not improve from 0.35988\n",
            "1/1 [==============================] - 2s 2s/step - loss: 0.2074 - accuracy: 0.9199 - val_loss: 0.5067 - val_accuracy: 0.8105 - lr: 0.0010\n",
            "Epoch 44/300\n",
            "1/1 [==============================] - ETA: 0s - loss: 0.2310 - accuracy: 0.9073\n",
            "Epoch 44: val_loss did not improve from 0.35988\n",
            "1/1 [==============================] - 2s 2s/step - loss: 0.2310 - accuracy: 0.9073 - val_loss: 0.4469 - val_accuracy: 0.8223 - lr: 0.0010\n",
            "Epoch 45/300\n",
            "1/1 [==============================] - ETA: 0s - loss: 0.2042 - accuracy: 0.9250\n",
            "Epoch 45: val_loss improved from 0.35988 to 0.33173, saving model to MouthModel.h5\n",
            "1/1 [==============================] - 3s 3s/step - loss: 0.2042 - accuracy: 0.9250 - val_loss: 0.3317 - val_accuracy: 0.8672 - lr: 0.0010\n",
            "Epoch 46/300\n",
            "1/1 [==============================] - ETA: 0s - loss: 0.2126 - accuracy: 0.9170\n",
            "Epoch 46: val_loss did not improve from 0.33173\n",
            "1/1 [==============================] - 3s 3s/step - loss: 0.2126 - accuracy: 0.9170 - val_loss: 0.3799 - val_accuracy: 0.8652 - lr: 0.0010\n",
            "Epoch 47/300\n",
            "1/1 [==============================] - ETA: 0s - loss: 0.1807 - accuracy: 0.9359\n",
            "Epoch 47: val_loss did not improve from 0.33173\n",
            "1/1 [==============================] - 2s 2s/step - loss: 0.1807 - accuracy: 0.9359 - val_loss: 0.4581 - val_accuracy: 0.8340 - lr: 0.0010\n",
            "Epoch 48/300\n",
            "1/1 [==============================] - ETA: 0s - loss: 0.2076 - accuracy: 0.9258\n",
            "Epoch 48: val_loss did not improve from 0.33173\n",
            "1/1 [==============================] - 3s 3s/step - loss: 0.2076 - accuracy: 0.9258 - val_loss: 0.4428 - val_accuracy: 0.8418 - lr: 0.0010\n",
            "Epoch 49/300\n",
            "1/1 [==============================] - ETA: 0s - loss: 0.2164 - accuracy: 0.9241\n",
            "Epoch 49: val_loss did not improve from 0.33173\n",
            "1/1 [==============================] - 2s 2s/step - loss: 0.2164 - accuracy: 0.9241 - val_loss: 0.3814 - val_accuracy: 0.8535 - lr: 0.0010\n",
            "Epoch 50/300\n",
            "1/1 [==============================] - ETA: 0s - loss: 0.2039 - accuracy: 0.9241\n",
            "Epoch 50: val_loss did not improve from 0.33173\n",
            "1/1 [==============================] - 3s 3s/step - loss: 0.2039 - accuracy: 0.9241 - val_loss: 0.3684 - val_accuracy: 0.8496 - lr: 0.0010\n",
            "Epoch 51/300\n",
            "1/1 [==============================] - ETA: 0s - loss: 0.1761 - accuracy: 0.9325\n",
            "Epoch 51: val_loss did not improve from 0.33173\n",
            "1/1 [==============================] - 3s 3s/step - loss: 0.1761 - accuracy: 0.9325 - val_loss: 0.4484 - val_accuracy: 0.8262 - lr: 0.0010\n",
            "Epoch 52/300\n",
            "1/1 [==============================] - ETA: 0s - loss: 0.1732 - accuracy: 0.9385\n",
            "Epoch 52: val_loss did not improve from 0.33173\n",
            "1/1 [==============================] - 3s 3s/step - loss: 0.1732 - accuracy: 0.9385 - val_loss: 0.4968 - val_accuracy: 0.8379 - lr: 0.0010\n",
            "Epoch 53/300\n",
            "1/1 [==============================] - ETA: 0s - loss: 0.2301 - accuracy: 0.9155\n",
            "Epoch 53: val_loss improved from 0.33173 to 0.32881, saving model to MouthModel.h5\n",
            "1/1 [==============================] - 3s 3s/step - loss: 0.2301 - accuracy: 0.9155 - val_loss: 0.3288 - val_accuracy: 0.8672 - lr: 0.0010\n",
            "Epoch 54/300\n",
            "1/1 [==============================] - ETA: 0s - loss: 0.1786 - accuracy: 0.9341\n",
            "Epoch 54: val_loss improved from 0.32881 to 0.32570, saving model to MouthModel.h5\n",
            "1/1 [==============================] - 3s 3s/step - loss: 0.1786 - accuracy: 0.9341 - val_loss: 0.3257 - val_accuracy: 0.8652 - lr: 0.0010\n",
            "Epoch 55/300\n",
            "1/1 [==============================] - ETA: 0s - loss: 0.1879 - accuracy: 0.9317\n",
            "Epoch 55: val_loss did not improve from 0.32570\n",
            "1/1 [==============================] - 3s 3s/step - loss: 0.1879 - accuracy: 0.9317 - val_loss: 0.3457 - val_accuracy: 0.8535 - lr: 0.0010\n",
            "Epoch 56/300\n",
            "1/1 [==============================] - ETA: 0s - loss: 0.1879 - accuracy: 0.9309\n",
            "Epoch 56: val_loss did not improve from 0.32570\n",
            "1/1 [==============================] - 2s 2s/step - loss: 0.1879 - accuracy: 0.9309 - val_loss: 0.3929 - val_accuracy: 0.8555 - lr: 0.0010\n",
            "Epoch 57/300\n",
            "1/1 [==============================] - ETA: 0s - loss: 0.1867 - accuracy: 0.9359\n",
            "Epoch 57: val_loss did not improve from 0.32570\n",
            "1/1 [==============================] - 2s 2s/step - loss: 0.1867 - accuracy: 0.9359 - val_loss: 0.3981 - val_accuracy: 0.8438 - lr: 0.0010\n",
            "Epoch 58/300\n",
            "1/1 [==============================] - ETA: 0s - loss: 0.1679 - accuracy: 0.9486\n",
            "Epoch 58: val_loss did not improve from 0.32570\n",
            "1/1 [==============================] - 2s 2s/step - loss: 0.1679 - accuracy: 0.9486 - val_loss: 0.3751 - val_accuracy: 0.8535 - lr: 0.0010\n",
            "Epoch 59/300\n",
            "1/1 [==============================] - ETA: 0s - loss: 0.1691 - accuracy: 0.9370\n",
            "Epoch 59: val_loss improved from 0.32570 to 0.29585, saving model to MouthModel.h5\n",
            "1/1 [==============================] - 3s 3s/step - loss: 0.1691 - accuracy: 0.9370 - val_loss: 0.2958 - val_accuracy: 0.8770 - lr: 0.0010\n",
            "Epoch 60/300\n",
            "1/1 [==============================] - ETA: 0s - loss: 0.1774 - accuracy: 0.9424\n",
            "Epoch 60: val_loss did not improve from 0.29585\n",
            "1/1 [==============================] - 3s 3s/step - loss: 0.1774 - accuracy: 0.9424 - val_loss: 0.3461 - val_accuracy: 0.8750 - lr: 0.0010\n",
            "Epoch 61/300\n",
            "1/1 [==============================] - ETA: 0s - loss: 0.1758 - accuracy: 0.9342\n",
            "Epoch 61: val_loss did not improve from 0.29585\n",
            "1/1 [==============================] - 2s 2s/step - loss: 0.1758 - accuracy: 0.9342 - val_loss: 0.3889 - val_accuracy: 0.8633 - lr: 0.0010\n",
            "Epoch 62/300\n",
            "1/1 [==============================] - ETA: 0s - loss: 0.1762 - accuracy: 0.9297\n",
            "Epoch 62: val_loss did not improve from 0.29585\n",
            "1/1 [==============================] - 3s 3s/step - loss: 0.1762 - accuracy: 0.9297 - val_loss: 0.3609 - val_accuracy: 0.8535 - lr: 0.0010\n",
            "Epoch 63/300\n",
            "1/1 [==============================] - ETA: 0s - loss: 0.1564 - accuracy: 0.9434\n",
            "Epoch 63: val_loss improved from 0.29585 to 0.27562, saving model to MouthModel.h5\n",
            "1/1 [==============================] - 3s 3s/step - loss: 0.1564 - accuracy: 0.9434 - val_loss: 0.2756 - val_accuracy: 0.8887 - lr: 0.0010\n",
            "Epoch 64/300\n",
            "1/1 [==============================] - ETA: 0s - loss: 0.1496 - accuracy: 0.9453\n",
            "Epoch 64: val_loss did not improve from 0.27562\n",
            "1/1 [==============================] - 3s 3s/step - loss: 0.1496 - accuracy: 0.9453 - val_loss: 0.3275 - val_accuracy: 0.8867 - lr: 0.0010\n",
            "Epoch 65/300\n",
            "1/1 [==============================] - ETA: 0s - loss: 0.1609 - accuracy: 0.9460\n",
            "Epoch 65: val_loss did not improve from 0.27562\n",
            "1/1 [==============================] - 2s 2s/step - loss: 0.1609 - accuracy: 0.9460 - val_loss: 0.3076 - val_accuracy: 0.8887 - lr: 0.0010\n",
            "Epoch 66/300\n",
            "1/1 [==============================] - ETA: 0s - loss: 0.1370 - accuracy: 0.9486\n",
            "Epoch 66: val_loss did not improve from 0.27562\n",
            "1/1 [==============================] - 2s 2s/step - loss: 0.1370 - accuracy: 0.9486 - val_loss: 0.3270 - val_accuracy: 0.8848 - lr: 0.0010\n",
            "Epoch 67/300\n",
            "1/1 [==============================] - ETA: 0s - loss: 0.1592 - accuracy: 0.9401\n",
            "Epoch 67: val_loss improved from 0.27562 to 0.22530, saving model to MouthModel.h5\n",
            "1/1 [==============================] - 3s 3s/step - loss: 0.1592 - accuracy: 0.9401 - val_loss: 0.2253 - val_accuracy: 0.9062 - lr: 0.0010\n",
            "Epoch 68/300\n",
            "1/1 [==============================] - ETA: 0s - loss: 0.1566 - accuracy: 0.9395\n",
            "Epoch 68: val_loss did not improve from 0.22530\n",
            "1/1 [==============================] - 3s 3s/step - loss: 0.1566 - accuracy: 0.9395 - val_loss: 0.3637 - val_accuracy: 0.8789 - lr: 0.0010\n",
            "Epoch 69/300\n",
            "1/1 [==============================] - ETA: 0s - loss: 0.1500 - accuracy: 0.9494\n",
            "Epoch 69: val_loss did not improve from 0.22530\n",
            "1/1 [==============================] - 2s 2s/step - loss: 0.1500 - accuracy: 0.9494 - val_loss: 0.3032 - val_accuracy: 0.8887 - lr: 0.0010\n",
            "Epoch 70/300\n",
            "1/1 [==============================] - ETA: 0s - loss: 0.1495 - accuracy: 0.9453\n",
            "Epoch 70: val_loss did not improve from 0.22530\n",
            "1/1 [==============================] - 3s 3s/step - loss: 0.1495 - accuracy: 0.9453 - val_loss: 0.2424 - val_accuracy: 0.8965 - lr: 0.0010\n",
            "Epoch 71/300\n",
            "1/1 [==============================] - ETA: 0s - loss: 0.1478 - accuracy: 0.9435\n",
            "Epoch 71: val_loss did not improve from 0.22530\n",
            "1/1 [==============================] - 2s 2s/step - loss: 0.1478 - accuracy: 0.9435 - val_loss: 0.2864 - val_accuracy: 0.8945 - lr: 0.0010\n",
            "Epoch 72/300\n",
            "1/1 [==============================] - ETA: 0s - loss: 0.1272 - accuracy: 0.9551\n",
            "Epoch 72: val_loss did not improve from 0.22530\n",
            "1/1 [==============================] - 3s 3s/step - loss: 0.1272 - accuracy: 0.9551 - val_loss: 0.3267 - val_accuracy: 0.8770 - lr: 0.0010\n",
            "Epoch 73/300\n",
            "1/1 [==============================] - ETA: 0s - loss: 0.1448 - accuracy: 0.9478\n",
            "Epoch 73: val_loss did not improve from 0.22530\n",
            "1/1 [==============================] - 3s 3s/step - loss: 0.1448 - accuracy: 0.9478 - val_loss: 0.2754 - val_accuracy: 0.8926 - lr: 0.0010\n",
            "Epoch 74/300\n",
            "1/1 [==============================] - ETA: 0s - loss: 0.1309 - accuracy: 0.9551\n",
            "Epoch 74: val_loss did not improve from 0.22530\n",
            "1/1 [==============================] - 3s 3s/step - loss: 0.1309 - accuracy: 0.9551 - val_loss: 0.2520 - val_accuracy: 0.8984 - lr: 0.0010\n",
            "Epoch 75/300\n",
            "1/1 [==============================] - ETA: 0s - loss: 0.1520 - accuracy: 0.9494\n",
            "Epoch 75: val_loss did not improve from 0.22530\n",
            "1/1 [==============================] - 2s 2s/step - loss: 0.1520 - accuracy: 0.9494 - val_loss: 0.3111 - val_accuracy: 0.8828 - lr: 0.0010\n",
            "Epoch 76/300\n",
            "1/1 [==============================] - ETA: 0s - loss: 0.1591 - accuracy: 0.9443\n",
            "Epoch 76: val_loss did not improve from 0.22530\n",
            "1/1 [==============================] - 3s 3s/step - loss: 0.1591 - accuracy: 0.9443 - val_loss: 0.2508 - val_accuracy: 0.8945 - lr: 0.0010\n",
            "Epoch 77/300\n",
            "1/1 [==============================] - ETA: 0s - loss: 0.1284 - accuracy: 0.9507Restoring model weights from the end of the best epoch: 67.\n",
            "\n",
            "Epoch 77: val_loss did not improve from 0.22530\n",
            "1/1 [==============================] - 3s 3s/step - loss: 0.1284 - accuracy: 0.9507 - val_loss: 0.2864 - val_accuracy: 0.8789 - lr: 0.0010\n",
            "Epoch 77: early stopping\n"
          ]
        }
      ]
    },
    {
      "cell_type": "code",
      "execution_count": 20,
      "metadata": {
        "id": "J5manMTdJO1k",
        "colab": {
          "base_uri": "https://localhost:8080/",
          "height": 582
        },
        "outputId": "3a917929-34ef-47bd-a61d-c5d99bf143b4"
      },
      "outputs": [
        {
          "output_type": "display_data",
          "data": {
            "text/plain": [
              "<Figure size 432x288 with 1 Axes>"
            ],
            "image/png": "[encoded data removed]"
          },
          "metadata": {
            "needs_background": "light"
          }
        },
        {
          "output_type": "display_data",
          "data": {
            "text/plain": [
              "<Figure size 432x288 with 1 Axes>"
            ],
            "image/png": "[encoded data removed]"
          },
          "metadata": {
            "needs_background": "light"
          }
        },
        {
          "output_type": "stream",
          "name": "stdout",
          "text": [
            "Model Evaluation\n",
            "Loss: 0.114\n",
            "Accuracy: 0.965\n",
            "\n"
          ]
        }
      ],
      "source": [
        "accuracy = history2.history['accuracy']\n",
        "val_accuracy = history2.history['val_accuracy']\n",
        "loss = history2.history['loss']\n",
        "val_loss = history2.history['val_loss']\n",
        "epochs = range(len(accuracy))\n",
        "\n",
        "plt.plot(epochs, accuracy, \"b\", label=\"trainning accuracy\")\n",
        "plt.plot(epochs, val_accuracy, \"r\", label=\"validation accuracy\")\n",
        "plt.legend()\n",
        "plt.show()\n",
        "\n",
        "plt.plot(epochs, loss, \"b\", label=\"trainning loss\")\n",
        "plt.plot(epochs, val_loss, \"r\", label=\"validation loss\")\n",
        "plt.legend()\n",
        "plt.show()\n",
        "\n",
        "(loss,acc) = model.evaluate(X_test,y_test, verbose=0)\n",
        "print('Model Evaluation')\n",
        "print('Loss: %.3f' % loss)\n",
        "print('Accuracy: %.3f' % acc)\n",
        "print()"
      ]
    }
  ],
  "metadata": {
    "accelerator": "GPU",
    "colab": {
      "provenance": []
    },
    "gpuClass": "standard",
    "kernelspec": {
      "display_name": "Python 3",
      "name": "python3"
    },
    "language_info": {
      "name": "python"
    }
  },
  "nbformat": 4,
  "nbformat_minor": 0
}